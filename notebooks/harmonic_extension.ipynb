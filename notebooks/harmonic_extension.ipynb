{
 "cells": [
  {
   "cell_type": "code",
   "execution_count": 1,
   "metadata": {},
   "outputs": [],
   "source": [
    "import os\n",
    "os.chdir('/home/gebhart/projects/sheaf_kg')\n",
    "import sheaf_kg.harmonic_extension as harmonic_extension\n",
    "import numpy as np\n",
    "from scipy import linalg"
   ]
  },
  {
   "cell_type": "code",
   "execution_count": 2,
   "metadata": {},
   "outputs": [],
   "source": [
    "edge_index = np.array([[0, 1], [1, 2], [2, 3]], np.int)\n",
    "edge_index = edge_index.T"
   ]
  },
  {
   "cell_type": "code",
   "execution_count": 3,
   "metadata": {},
   "outputs": [],
   "source": [
    "ne = 10\n",
    "de = 128\n",
    "dv = 128\n",
    "nv = ne+1\n",
    "restriction_maps = np.random.randn(ne,2,de,dv)"
   ]
  },
  {
   "cell_type": "code",
   "execution_count": 4,
   "metadata": {},
   "outputs": [],
   "source": [
    "def linear_chain(ne):\n",
    "    edge_index = np.zeros((2,ne),dtype=np.int)\n",
    "    for e in range(ne):\n",
    "        edge_index[0,e] = e\n",
    "        edge_index[1,e] = e + 1\n",
    "    return edge_index\n"
   ]
  },
  {
   "cell_type": "code",
   "execution_count": 12,
   "metadata": {},
   "outputs": [
    {
     "data": {
      "text/plain": [
       "array([[ 0,  1,  2,  3,  4,  5,  6,  7,  8,  9],\n",
       "       [ 1,  2,  3,  4,  5,  6,  7,  8,  9, 10]])"
      ]
     },
     "execution_count": 12,
     "metadata": {},
     "output_type": "execute_result"
    }
   ],
   "source": [
    "edge_index = linear_chain(ne)\n",
    "edge_index"
   ]
  },
  {
   "cell_type": "code",
   "execution_count": 6,
   "metadata": {},
   "outputs": [],
   "source": [
    "L = harmonic_extension.Laplacian(edge_index,restriction_maps)"
   ]
  },
  {
   "cell_type": "code",
   "execution_count": 7,
   "metadata": {},
   "outputs": [],
   "source": [
    "B = np.array([0,ne],np.int)\n",
    "U = np.array(range(1,ne),np.int)\n",
    "xB = np.random.randn(dv*len(B))\n",
    "xU = harmonic_extension.harmonic_extension(edge_index,restriction_maps,B,U,xB)"
   ]
  },
  {
   "cell_type": "code",
   "execution_count": 8,
   "metadata": {},
   "outputs": [],
   "source": [
    "LSchur = harmonic_extension.Kron_reduction(edge_index, restriction_maps, B, U)"
   ]
  },
  {
   "cell_type": "code",
   "execution_count": 9,
   "metadata": {},
   "outputs": [
    {
     "data": {
      "text/plain": [
       "array([[ 3.84367386e+01, -4.86147617e+00, -2.43540567e+00, ...,\n",
       "         6.85414484e-01,  5.51769523e-01,  5.02474845e-02],\n",
       "       [-4.86147617e+00,  2.42084633e+01,  2.63370551e+00, ...,\n",
       "        -1.38170359e-01,  2.35284064e-02, -5.97827275e-02],\n",
       "       [-2.43540567e+00,  2.63370551e+00,  4.41784899e+01, ...,\n",
       "         6.01062403e-01,  2.65652887e-01, -2.14840101e-01],\n",
       "       ...,\n",
       "       [ 6.85414484e-01, -1.38170359e-01,  6.01062403e-01, ...,\n",
       "         4.15304527e+01, -8.03075731e+00,  5.59938763e+00],\n",
       "       [ 5.51769523e-01,  2.35284064e-02,  2.65652887e-01, ...,\n",
       "        -8.03075731e+00,  4.93821141e+01, -5.37329399e+00],\n",
       "       [ 5.02474845e-02, -5.97827275e-02, -2.14840101e-01, ...,\n",
       "         5.59938763e+00, -5.37329399e+00,  3.33636109e+01]])"
      ]
     },
     "execution_count": 9,
     "metadata": {},
     "output_type": "execute_result"
    }
   ],
   "source": [
    "LSchur"
   ]
  },
  {
   "cell_type": "code",
   "execution_count": 19,
   "metadata": {},
   "outputs": [
    {
     "data": {
      "text/plain": [
       "array([11589.94522395,  7657.82197247, 10837.10992265,  9693.15174523,\n",
       "        8277.34118152, 10731.32201729, 11421.16435575,  8062.01311711,\n",
       "       11070.05133233, 10649.17286265])"
      ]
     },
     "execution_count": 19,
     "metadata": {},
     "output_type": "execute_result"
    }
   ],
   "source": [
    "harmonic_extension.compute_costs(LSchur,[0],[1],np.random.randn(dv),np.random.randn(dv,10),dv)"
   ]
  },
  {
   "cell_type": "code",
   "execution_count": null,
   "metadata": {},
   "outputs": [],
   "source": []
  }
 ],
 "metadata": {
  "kernelspec": {
   "display_name": "Python 3",
   "language": "python",
   "name": "python3"
  },
  "language_info": {
   "codemirror_mode": {
    "name": "ipython",
    "version": 3
   },
   "file_extension": ".py",
   "mimetype": "text/x-python",
   "name": "python",
   "nbconvert_exporter": "python",
   "pygments_lexer": "ipython3",
   "version": "3.7.9"
  }
 },
 "nbformat": 4,
 "nbformat_minor": 2
}
