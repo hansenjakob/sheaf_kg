{
 "cells": [
  {
   "cell_type": "code",
   "execution_count": 1,
   "metadata": {},
   "outputs": [],
   "source": [
    "%load_ext autoreload\n",
    "%autoreload 2\n",
    "import os\n",
    "import sys\n",
    "import time\n",
    "\n",
    "import matplotlib.pyplot as plt\n",
    "import pandas as pd\n",
    "import numpy as np\n",
    "import pykeen\n",
    "import torch\n",
    "\n",
    "from pykeen.pipeline import pipeline"
   ]
  },
  {
   "cell_type": "code",
   "execution_count": 2,
   "metadata": {},
   "outputs": [],
   "source": [
    "dataset = 'WN18RR'\n",
    "num_epochs = 100\n",
    "embedding_dim = 64\n",
    "random_seed = 1234\n",
    "\n",
    "edge_stalk_sizes = [1,1,1,1,1,1,1,1,1,1,1]\n",
    "loss = 'SoftplusLoss'\n",
    "timestr = time.strftime(\"%Y%m%d-%H%M\")\n",
    "\n",
    "savename = 'SheafE_nonconstant_{}epochs_{}dim_{}loss_{}seed_{}'.format(num_epochs,embedding_dim,loss,random_seed,timestr)\n",
    "saveloc = os.path.join('/home/gebhart/projects/sheaf_kg/data',dataset,savename)"
   ]
  },
  {
   "cell_type": "code",
   "execution_count": 3,
   "metadata": {},
   "outputs": [],
   "source": [
    "# ds = pykeen.datasets.get_dataset(dataset=dataset)\n",
    "\n",
    "# training = ds.training.mapped_triples\n",
    "# ds.training.mapped_triples = training[training[:,0].sort()[1]]\n",
    "# testing = ds.testing.mapped_triples\n",
    "# ds.testing.mapped_triples = testing[testing[:,0].sort()[1]]\n",
    "# validation = ds.validation.mapped_triples\n",
    "# ds.validation.mapped_triples = validation[validation[:,0].sort()[1]]\n",
    "# ds.training.relation_id_to_label"
   ]
  },
  {
   "cell_type": "markdown",
   "metadata": {},
   "source": [
    "- also_see: both restriction maps are identity\n",
    "- derivationally_related_form: unconstrained on both sides, or perhaps orthogonality\n",
    "- has_part: unique projection on both sides\n",
    "- hypernym: unique projection on both sides\n",
    "- instance_hypernym: unique projection on both sides\n",
    "- member_meronym: unique projection on both sides\n",
    "- member_of_domain_region: unique projection on both sides\n",
    "- member_of_domain_usage: unique projection on both sides\n",
    "- similar_to: some sort of minimally-distant/constrained transformation on both sides?\n",
    "- synset_domain_topic_of: unique projection on both sides\n",
    "- verb_group: some sort of minimally-distant/constrained transformation on both sides?"
   ]
  },
  {
   "cell_type": "code",
   "execution_count": null,
   "metadata": {},
   "outputs": [],
   "source": []
  },
  {
   "cell_type": "code",
   "execution_count": 4,
   "metadata": {},
   "outputs": [],
   "source": [
    "import functools\n",
    "import itertools\n",
    "from typing import Optional\n",
    "\n",
    "from pykeen.models import StructuredEmbedding\n",
    "from pykeen.models.base import EntityEmbeddingModel\n",
    "from pykeen.nn import Embedding\n",
    "from pykeen.losses import Loss\n",
    "from pykeen.nn.init import xavier_uniform_\n",
    "from pykeen.regularizers import Regularizer\n",
    "from pykeen.triples import TriplesFactory\n",
    "from pykeen.typing import DeviceHint\n",
    "from pykeen.utils import compose\n",
    "\n",
    "from torch.nn import functional\n",
    "from torch.nn.parameter import Parameter\n",
    "from torch import nn\n",
    "\n",
    "import geotorch\n",
    "\n",
    "class ModifiedSE(StructuredEmbedding):\n",
    "    \n",
    "    def __init__(\n",
    "        self,\n",
    "        triples_factory: TriplesFactory,\n",
    "        embedding_dim: int = 40,\n",
    "        edge_stalk_sizes: [int] = [40,40,20,20,20,20,20,20,40,20,40],\n",
    "        alpha: float = 0.1,\n",
    "        scoring_fct_norm: int = 2,\n",
    "        loss: Optional[Loss] = None,\n",
    "        preferred_device: DeviceHint = None,\n",
    "        random_seed: Optional[int] = None,\n",
    "        regularizer: Optional[Regularizer] = None,\n",
    "    ) -> None:\n",
    "        r\"\"\"Initialize SE.\n",
    "\n",
    "        :param embedding_dim: The entity embedding dimension $d$. Is usually $d \\in [50, 300]$.\n",
    "        :param scoring_fct_norm: The $l_p$ norm. Usually 1 for SE.\n",
    "        \"\"\"\n",
    "        super().__init__(\n",
    "            triples_factory=triples_factory,\n",
    "            embedding_dim=embedding_dim,\n",
    "            loss=loss,\n",
    "            preferred_device=preferred_device,\n",
    "            random_seed=random_seed,\n",
    "            regularizer=regularizer,\n",
    "        )\n",
    "                \n",
    "        self.alpha = alpha\n",
    "        self.preferred_device = preferred_device\n",
    "        \n",
    "        # Embeddings\n",
    "        init_bound = 6 / np.sqrt(self.embedding_dim)\n",
    "        \n",
    "        self.left_embeddings = []\n",
    "        self.right_embeddings = [] \n",
    "    \n",
    "        # relation 1\n",
    "        tsize = (edge_stalk_sizes[0],embedding_dim)\n",
    "#         emb1l = Parameter(nn.init.xavier_uniform_(torch.eye(tsize[0],tsize[1], device=preferred_device)),requires_grad=True)\n",
    "        emb1l = Parameter(torch.eye(tsize[0],tsize[1], device=preferred_device),requires_grad=False)\n",
    "        emb1r = emb1l\n",
    "        self.left_embeddings.append(emb1l)\n",
    "        self.right_embeddings.append(emb1r)\n",
    "        \n",
    "        # relation 2 \n",
    "        tsize = (edge_stalk_sizes[1],embedding_dim)\n",
    "        emb2l = Parameter(nn.init.xavier_uniform_(torch.empty(tsize, device=preferred_device)),requires_grad=True)\n",
    "        emb2r = emb2l\n",
    "        self.left_embeddings.append(emb2l)\n",
    "        self.right_embeddings.append(emb2r)\n",
    "        \n",
    "        # relation 3\n",
    "        tsize = (edge_stalk_sizes[2],embedding_dim)\n",
    "        emb3l = Parameter(nn.init.xavier_uniform_(torch.empty(tsize, device=preferred_device)), requires_grad=True)\n",
    "        emb3r = emb3l\n",
    "        self.left_embeddings.append(emb3l)\n",
    "        self.right_embeddings.append(emb3r)\n",
    "        \n",
    "        # relation 4\n",
    "        tsize = (edge_stalk_sizes[3],embedding_dim)\n",
    "        emb4l = Parameter(nn.init.xavier_uniform_(torch.empty(tsize, device=preferred_device)), requires_grad=True)\n",
    "        emb4r = emb4l\n",
    "        self.left_embeddings.append(emb4l)\n",
    "        self.right_embeddings.append(emb4r)\n",
    "        \n",
    "        # relation 5\n",
    "        tsize = (edge_stalk_sizes[4],embedding_dim)\n",
    "        emb5l = Parameter(nn.init.xavier_uniform_(torch.empty(tsize, device=preferred_device)),requires_grad=True)\n",
    "        emb5r = emb5l\n",
    "        self.left_embeddings.append(emb5l)\n",
    "        self.right_embeddings.append(emb5r)\n",
    "        \n",
    "        # relation 6\n",
    "        tsize = (edge_stalk_sizes[5],embedding_dim)\n",
    "        emb6l = Parameter(nn.init.xavier_uniform_(torch.empty(tsize, device=preferred_device)),requires_grad=True)\n",
    "        emb6r = emb6l\n",
    "        self.left_embeddings.append(emb6l)\n",
    "        self.right_embeddings.append(emb6r)\n",
    "        \n",
    "        # relation 7\n",
    "        tsize = (edge_stalk_sizes[6],embedding_dim)\n",
    "        emb7l = Parameter(nn.init.xavier_uniform_(torch.empty(tsize, device=preferred_device)),requires_grad=True)\n",
    "        emb7r = emb7l\n",
    "        self.left_embeddings.append(emb7l)\n",
    "        self.right_embeddings.append(emb7r)\n",
    "        \n",
    "        # relation 8\n",
    "        tsize = (edge_stalk_sizes[7],embedding_dim)\n",
    "        emb8l = Parameter(nn.init.xavier_uniform_(torch.empty(tsize, device=preferred_device)),requires_grad=True)\n",
    "        emb8r = emb8l\n",
    "        self.left_embeddings.append(emb8l)\n",
    "        self.right_embeddings.append(emb8r)\n",
    "        \n",
    "        # relation 9\n",
    "        tsize = (edge_stalk_sizes[8],embedding_dim)\n",
    "#         emb9l = Parameter(nn.init.xavier_uniform_(torch.eye(tsize[0],tsize[1], device=preferred_device)),requires_grad=True)\n",
    "        emb9l = Parameter(torch.eye(tsize[0],tsize[1], device=preferred_device),requires_grad=True)\n",
    "        emb9r = emb9l\n",
    "        self.left_embeddings.append(emb9l)\n",
    "        self.right_embeddings.append(emb9r)\n",
    "        \n",
    "        # relation 10\n",
    "        tsize = (edge_stalk_sizes[9],embedding_dim)\n",
    "        emb10l = Parameter(nn.init.xavier_uniform_(torch.empty(tsize, device=preferred_device)),requires_grad=True)\n",
    "        emb10r = emb10l\n",
    "        self.left_embeddings.append(emb10l)\n",
    "        self.right_embeddings.append(emb10r)\n",
    "        \n",
    "        # relation 11\n",
    "        tsize = (edge_stalk_sizes[10],embedding_dim)\n",
    "        emb11l = Parameter(torch.eye(tsize[0],tsize[1], device=preferred_device),requires_grad=True)\n",
    "        emb11r = emb11l\n",
    "        self.left_embeddings.append(emb11l)\n",
    "        self.right_embeddings.append(emb11r) \n",
    "        \n",
    "    def score_hrt(self, hrt_batch: torch.LongTensor) -> torch.FloatTensor:  # noqa: D102\n",
    "        # Get embeddings\n",
    "        rel_idxs = torch.unique(hrt_batch[:,1])\n",
    "        scores = torch.zeros(hrt_batch.shape[0], device=self.preferred_device)\n",
    "        for i in range(rel_idxs.shape[0]):\n",
    "            ix = rel_idxs[i]\n",
    "            batch_indices = torch.nonzero(hrt_batch[:,1] == ix)\n",
    "            batch = hrt_batch[hrt_batch[:,1] == ix]\n",
    "            h = self.entity_embeddings(indices=batch[:, 0]).view(-1, self.embedding_dim, 1)\n",
    "            t = self.entity_embeddings(indices=batch[:, 2]).view(-1, self.embedding_dim, 1)\n",
    "            rel_h = self.left_embeddings[ix]\n",
    "            rel_t = self.right_embeddings[ix]\n",
    "            \n",
    "            proj_h = torch.diagflat(rel_h) @ h\n",
    "            proj_t = torch.diagflat(rel_t) @ t\n",
    "            scores[batch_indices] = -torch.norm(proj_h - proj_t, dim=1, p=self.scoring_fct_norm)**2\n",
    "            \n",
    "        return scores\n",
    "\n",
    "    def score_t(self, hr_batch: torch.LongTensor, slice_size: int = None) -> torch.FloatTensor:  # noqa: D102\n",
    "        # Get embeddings\n",
    "        rel_idxs = torch.unique(hr_batch[:,1])\n",
    "        t_all = self.entity_embeddings(indices=None).view(1, -1, self.embedding_dim, 1)\n",
    "        scores = torch.zeros((hr_batch.shape[0],t_all.shape[1]), device=self.preferred_device)\n",
    "        for i in range(rel_idxs.shape[0]):\n",
    "            ix = rel_idxs[i]\n",
    "            batch_indices = torch.nonzero(hr_batch[:,1] == ix)\n",
    "            batch = hr_batch[hr_batch[:,1] == ix]\n",
    "            h = self.entity_embeddings(indices=batch[:, 0]).view(-1, self.embedding_dim, 1)\n",
    "            rel_h = self.left_embeddings[ix]\n",
    "            rel_t = self.right_embeddings[ix]\n",
    "            rel_t = rel_t.view(-1, 1, rel_t.shape[0], rel_t.shape[1])\n",
    "            \n",
    "            if slice_size is not None:\n",
    "                proj_t_arr = []\n",
    "                # Project entities\n",
    "                proj_h = rel_h @ h\n",
    "\n",
    "                for t in torch.split(t_all, slice_size, dim=1):\n",
    "                    # Project entities\n",
    "                    proj_t = rel_t @ t\n",
    "                    proj_t_arr.append(proj_t)\n",
    "                    \n",
    "                proj_t = torch.cat(proj_t_arr, dim=1)\n",
    "                \n",
    "            else:\n",
    "                proj_h = torch.diagflat(rel_h) @ h\n",
    "                proj_t = torch.diagflat(rel_t) @ t_all\n",
    "                \n",
    "            scores[batch_indices[:,0]] = -torch.norm(proj_h[:, None, :, 0] - proj_t[:, :, :, 0], dim=-1, p=self.scoring_fct_norm)**2\n",
    "        \n",
    "        return scores\n",
    "\n",
    "\n",
    "    def score_h(self, rt_batch: torch.LongTensor, slice_size: int = None) -> torch.FloatTensor:  # noqa: D102\n",
    "        # Get embeddings\n",
    "        rel_idxs = torch.unique(rt_batch[:,0])\n",
    "        h_all = self.entity_embeddings(indices=None).view(1, -1, self.embedding_dim, 1)\n",
    "        scores = torch.zeros((rt_batch.shape[0],h_all.shape[1]), device=self.preferred_device)\n",
    "        for i in range(rel_idxs.shape[0]):\n",
    "            ix = rel_idxs[i]\n",
    "            batch_indices = torch.nonzero(rt_batch[:,0] == ix)\n",
    "            batch = rt_batch[rt_batch[:,0] == ix]\n",
    "            t = self.entity_embeddings(indices=batch[:, 1]).view(-1, self.embedding_dim, 1)\n",
    "            rel_h = self.left_embeddings[ix]\n",
    "            rel_h = rel_h.view(-1, 1, rel_h.shape[0], rel_h.shape[1])\n",
    "            rel_t = self.right_embeddings[ix]\n",
    "            \n",
    "            if slice_size is not None:\n",
    "                proj_t_arr = []\n",
    "                # Project entities\n",
    "                proj_h = rel_h @ h\n",
    "\n",
    "                for t in torch.split(t_all, slice_size, dim=1):\n",
    "                    # Project entities\n",
    "                    proj_t = rel_t @ t\n",
    "                    proj_t_arr.append(proj_t)\n",
    "                    \n",
    "                proj_t = torch.cat(proj_t_arr, dim=1)\n",
    "                \n",
    "            else:\n",
    "                proj_h = torch.diagflat(rel_h) @ h_all\n",
    "                proj_t = torch.diagflat(rel_t) @ t\n",
    "\n",
    "            scores[batch_indices[:,0]] = -torch.norm(proj_h[:, :, :, 0] - proj_t[:, None, :, 0], dim=-1, p=self.scoring_fct_norm)**2\n",
    "        \n",
    "        return scores"
   ]
  },
  {
   "cell_type": "code",
   "execution_count": 5,
   "metadata": {
    "scrolled": false
   },
   "outputs": [
    {
     "name": "stderr",
     "output_type": "stream",
     "text": [
      "You're trying to map triples with 212 entities and 0 relations that are not in the training set. These triples will be excluded from the mapping.\n",
      "In total 210 from 3134 triples were filtered out\n",
      "You're trying to map triples with 211 entities and 0 relations that are not in the training set. These triples will be excluded from the mapping.\n",
      "In total 210 from 3034 triples were filtered out\n"
     ]
    },
    {
     "data": {
      "application/vnd.jupyter.widget-view+json": {
       "model_id": "3c2866c0e9da43b78f108363021351b9",
       "version_major": 2,
       "version_minor": 0
      },
      "text/plain": [
       "HBox(children=(HTML(value='Training epochs on cuda'), FloatProgress(value=0.0), HTML(value='')))"
      ]
     },
     "metadata": {},
     "output_type": "display_data"
    },
    {
     "data": {
      "application/vnd.jupyter.widget-view+json": {
       "model_id": "",
       "version_major": 2,
       "version_minor": 0
      },
      "text/plain": [
       "HBox(children=(HTML(value='Training batches on cuda'), FloatProgress(value=0.0, max=340.0), HTML(value='')))"
      ]
     },
     "metadata": {},
     "output_type": "display_data"
    },
    {
     "data": {
      "application/vnd.jupyter.widget-view+json": {
       "model_id": "",
       "version_major": 2,
       "version_minor": 0
      },
      "text/plain": [
       "HBox(children=(HTML(value='Training batches on cuda'), FloatProgress(value=0.0, max=340.0), HTML(value='')))"
      ]
     },
     "metadata": {},
     "output_type": "display_data"
    },
    {
     "data": {
      "application/vnd.jupyter.widget-view+json": {
       "model_id": "",
       "version_major": 2,
       "version_minor": 0
      },
      "text/plain": [
       "HBox(children=(HTML(value='Training batches on cuda'), FloatProgress(value=0.0, max=340.0), HTML(value='')))"
      ]
     },
     "metadata": {},
     "output_type": "display_data"
    },
    {
     "data": {
      "application/vnd.jupyter.widget-view+json": {
       "model_id": "",
       "version_major": 2,
       "version_minor": 0
      },
      "text/plain": [
       "HBox(children=(HTML(value='Training batches on cuda'), FloatProgress(value=0.0, max=340.0), HTML(value='')))"
      ]
     },
     "metadata": {},
     "output_type": "display_data"
    },
    {
     "data": {
      "application/vnd.jupyter.widget-view+json": {
       "model_id": "",
       "version_major": 2,
       "version_minor": 0
      },
      "text/plain": [
       "HBox(children=(HTML(value='Training batches on cuda'), FloatProgress(value=0.0, max=340.0), HTML(value='')))"
      ]
     },
     "metadata": {},
     "output_type": "display_data"
    },
    {
     "data": {
      "application/vnd.jupyter.widget-view+json": {
       "model_id": "",
       "version_major": 2,
       "version_minor": 0
      },
      "text/plain": [
       "HBox(children=(HTML(value='Training batches on cuda'), FloatProgress(value=0.0, max=340.0), HTML(value='')))"
      ]
     },
     "metadata": {},
     "output_type": "display_data"
    },
    {
     "data": {
      "application/vnd.jupyter.widget-view+json": {
       "model_id": "",
       "version_major": 2,
       "version_minor": 0
      },
      "text/plain": [
       "HBox(children=(HTML(value='Training batches on cuda'), FloatProgress(value=0.0, max=340.0), HTML(value='')))"
      ]
     },
     "metadata": {},
     "output_type": "display_data"
    },
    {
     "data": {
      "application/vnd.jupyter.widget-view+json": {
       "model_id": "",
       "version_major": 2,
       "version_minor": 0
      },
      "text/plain": [
       "HBox(children=(HTML(value='Training batches on cuda'), FloatProgress(value=0.0, max=340.0), HTML(value='')))"
      ]
     },
     "metadata": {},
     "output_type": "display_data"
    },
    {
     "data": {
      "application/vnd.jupyter.widget-view+json": {
       "model_id": "",
       "version_major": 2,
       "version_minor": 0
      },
      "text/plain": [
       "HBox(children=(HTML(value='Training batches on cuda'), FloatProgress(value=0.0, max=340.0), HTML(value='')))"
      ]
     },
     "metadata": {},
     "output_type": "display_data"
    },
    {
     "data": {
      "application/vnd.jupyter.widget-view+json": {
       "model_id": "",
       "version_major": 2,
       "version_minor": 0
      },
      "text/plain": [
       "HBox(children=(HTML(value='Training batches on cuda'), FloatProgress(value=0.0, max=340.0), HTML(value='')))"
      ]
     },
     "metadata": {},
     "output_type": "display_data"
    },
    {
     "data": {
      "application/vnd.jupyter.widget-view+json": {
       "model_id": "",
       "version_major": 2,
       "version_minor": 0
      },
      "text/plain": [
       "HBox(children=(HTML(value='Training batches on cuda'), FloatProgress(value=0.0, max=340.0), HTML(value='')))"
      ]
     },
     "metadata": {},
     "output_type": "display_data"
    },
    {
     "data": {
      "application/vnd.jupyter.widget-view+json": {
       "model_id": "",
       "version_major": 2,
       "version_minor": 0
      },
      "text/plain": [
       "HBox(children=(HTML(value='Training batches on cuda'), FloatProgress(value=0.0, max=340.0), HTML(value='')))"
      ]
     },
     "metadata": {},
     "output_type": "display_data"
    },
    {
     "data": {
      "application/vnd.jupyter.widget-view+json": {
       "model_id": "",
       "version_major": 2,
       "version_minor": 0
      },
      "text/plain": [
       "HBox(children=(HTML(value='Training batches on cuda'), FloatProgress(value=0.0, max=340.0), HTML(value='')))"
      ]
     },
     "metadata": {},
     "output_type": "display_data"
    },
    {
     "data": {
      "application/vnd.jupyter.widget-view+json": {
       "model_id": "",
       "version_major": 2,
       "version_minor": 0
      },
      "text/plain": [
       "HBox(children=(HTML(value='Training batches on cuda'), FloatProgress(value=0.0, max=340.0), HTML(value='')))"
      ]
     },
     "metadata": {},
     "output_type": "display_data"
    },
    {
     "data": {
      "application/vnd.jupyter.widget-view+json": {
       "model_id": "",
       "version_major": 2,
       "version_minor": 0
      },
      "text/plain": [
       "HBox(children=(HTML(value='Training batches on cuda'), FloatProgress(value=0.0, max=340.0), HTML(value='')))"
      ]
     },
     "metadata": {},
     "output_type": "display_data"
    },
    {
     "data": {
      "application/vnd.jupyter.widget-view+json": {
       "model_id": "",
       "version_major": 2,
       "version_minor": 0
      },
      "text/plain": [
       "HBox(children=(HTML(value='Training batches on cuda'), FloatProgress(value=0.0, max=340.0), HTML(value='')))"
      ]
     },
     "metadata": {},
     "output_type": "display_data"
    },
    {
     "data": {
      "application/vnd.jupyter.widget-view+json": {
       "model_id": "",
       "version_major": 2,
       "version_minor": 0
      },
      "text/plain": [
       "HBox(children=(HTML(value='Training batches on cuda'), FloatProgress(value=0.0, max=340.0), HTML(value='')))"
      ]
     },
     "metadata": {},
     "output_type": "display_data"
    },
    {
     "data": {
      "application/vnd.jupyter.widget-view+json": {
       "model_id": "",
       "version_major": 2,
       "version_minor": 0
      },
      "text/plain": [
       "HBox(children=(HTML(value='Training batches on cuda'), FloatProgress(value=0.0, max=340.0), HTML(value='')))"
      ]
     },
     "metadata": {},
     "output_type": "display_data"
    },
    {
     "data": {
      "application/vnd.jupyter.widget-view+json": {
       "model_id": "",
       "version_major": 2,
       "version_minor": 0
      },
      "text/plain": [
       "HBox(children=(HTML(value='Training batches on cuda'), FloatProgress(value=0.0, max=340.0), HTML(value='')))"
      ]
     },
     "metadata": {},
     "output_type": "display_data"
    },
    {
     "data": {
      "application/vnd.jupyter.widget-view+json": {
       "model_id": "",
       "version_major": 2,
       "version_minor": 0
      },
      "text/plain": [
       "HBox(children=(HTML(value='Training batches on cuda'), FloatProgress(value=0.0, max=340.0), HTML(value='')))"
      ]
     },
     "metadata": {},
     "output_type": "display_data"
    },
    {
     "data": {
      "application/vnd.jupyter.widget-view+json": {
       "model_id": "",
       "version_major": 2,
       "version_minor": 0
      },
      "text/plain": [
       "HBox(children=(HTML(value='Training batches on cuda'), FloatProgress(value=0.0, max=340.0), HTML(value='')))"
      ]
     },
     "metadata": {},
     "output_type": "display_data"
    },
    {
     "data": {
      "application/vnd.jupyter.widget-view+json": {
       "model_id": "",
       "version_major": 2,
       "version_minor": 0
      },
      "text/plain": [
       "HBox(children=(HTML(value='Training batches on cuda'), FloatProgress(value=0.0, max=340.0), HTML(value='')))"
      ]
     },
     "metadata": {},
     "output_type": "display_data"
    },
    {
     "data": {
      "application/vnd.jupyter.widget-view+json": {
       "model_id": "",
       "version_major": 2,
       "version_minor": 0
      },
      "text/plain": [
       "HBox(children=(HTML(value='Training batches on cuda'), FloatProgress(value=0.0, max=340.0), HTML(value='')))"
      ]
     },
     "metadata": {},
     "output_type": "display_data"
    },
    {
     "data": {
      "application/vnd.jupyter.widget-view+json": {
       "model_id": "",
       "version_major": 2,
       "version_minor": 0
      },
      "text/plain": [
       "HBox(children=(HTML(value='Training batches on cuda'), FloatProgress(value=0.0, max=340.0), HTML(value='')))"
      ]
     },
     "metadata": {},
     "output_type": "display_data"
    },
    {
     "data": {
      "application/vnd.jupyter.widget-view+json": {
       "model_id": "",
       "version_major": 2,
       "version_minor": 0
      },
      "text/plain": [
       "HBox(children=(HTML(value='Training batches on cuda'), FloatProgress(value=0.0, max=340.0), HTML(value='')))"
      ]
     },
     "metadata": {},
     "output_type": "display_data"
    },
    {
     "data": {
      "application/vnd.jupyter.widget-view+json": {
       "model_id": "",
       "version_major": 2,
       "version_minor": 0
      },
      "text/plain": [
       "HBox(children=(HTML(value='Training batches on cuda'), FloatProgress(value=0.0, max=340.0), HTML(value='')))"
      ]
     },
     "metadata": {},
     "output_type": "display_data"
    },
    {
     "data": {
      "application/vnd.jupyter.widget-view+json": {
       "model_id": "",
       "version_major": 2,
       "version_minor": 0
      },
      "text/plain": [
       "HBox(children=(HTML(value='Training batches on cuda'), FloatProgress(value=0.0, max=340.0), HTML(value='')))"
      ]
     },
     "metadata": {},
     "output_type": "display_data"
    },
    {
     "data": {
      "application/vnd.jupyter.widget-view+json": {
       "model_id": "",
       "version_major": 2,
       "version_minor": 0
      },
      "text/plain": [
       "HBox(children=(HTML(value='Training batches on cuda'), FloatProgress(value=0.0, max=340.0), HTML(value='')))"
      ]
     },
     "metadata": {},
     "output_type": "display_data"
    },
    {
     "data": {
      "application/vnd.jupyter.widget-view+json": {
       "model_id": "",
       "version_major": 2,
       "version_minor": 0
      },
      "text/plain": [
       "HBox(children=(HTML(value='Training batches on cuda'), FloatProgress(value=0.0, max=340.0), HTML(value='')))"
      ]
     },
     "metadata": {},
     "output_type": "display_data"
    },
    {
     "data": {
      "application/vnd.jupyter.widget-view+json": {
       "model_id": "",
       "version_major": 2,
       "version_minor": 0
      },
      "text/plain": [
       "HBox(children=(HTML(value='Training batches on cuda'), FloatProgress(value=0.0, max=340.0), HTML(value='')))"
      ]
     },
     "metadata": {},
     "output_type": "display_data"
    },
    {
     "data": {
      "application/vnd.jupyter.widget-view+json": {
       "model_id": "",
       "version_major": 2,
       "version_minor": 0
      },
      "text/plain": [
       "HBox(children=(HTML(value='Training batches on cuda'), FloatProgress(value=0.0, max=340.0), HTML(value='')))"
      ]
     },
     "metadata": {},
     "output_type": "display_data"
    },
    {
     "data": {
      "application/vnd.jupyter.widget-view+json": {
       "model_id": "",
       "version_major": 2,
       "version_minor": 0
      },
      "text/plain": [
       "HBox(children=(HTML(value='Training batches on cuda'), FloatProgress(value=0.0, max=340.0), HTML(value='')))"
      ]
     },
     "metadata": {},
     "output_type": "display_data"
    },
    {
     "data": {
      "application/vnd.jupyter.widget-view+json": {
       "model_id": "",
       "version_major": 2,
       "version_minor": 0
      },
      "text/plain": [
       "HBox(children=(HTML(value='Training batches on cuda'), FloatProgress(value=0.0, max=340.0), HTML(value='')))"
      ]
     },
     "metadata": {},
     "output_type": "display_data"
    },
    {
     "data": {
      "application/vnd.jupyter.widget-view+json": {
       "model_id": "",
       "version_major": 2,
       "version_minor": 0
      },
      "text/plain": [
       "HBox(children=(HTML(value='Training batches on cuda'), FloatProgress(value=0.0, max=340.0), HTML(value='')))"
      ]
     },
     "metadata": {},
     "output_type": "display_data"
    },
    {
     "data": {
      "application/vnd.jupyter.widget-view+json": {
       "model_id": "",
       "version_major": 2,
       "version_minor": 0
      },
      "text/plain": [
       "HBox(children=(HTML(value='Training batches on cuda'), FloatProgress(value=0.0, max=340.0), HTML(value='')))"
      ]
     },
     "metadata": {},
     "output_type": "display_data"
    },
    {
     "data": {
      "application/vnd.jupyter.widget-view+json": {
       "model_id": "",
       "version_major": 2,
       "version_minor": 0
      },
      "text/plain": [
       "HBox(children=(HTML(value='Training batches on cuda'), FloatProgress(value=0.0, max=340.0), HTML(value='')))"
      ]
     },
     "metadata": {},
     "output_type": "display_data"
    },
    {
     "data": {
      "application/vnd.jupyter.widget-view+json": {
       "model_id": "",
       "version_major": 2,
       "version_minor": 0
      },
      "text/plain": [
       "HBox(children=(HTML(value='Training batches on cuda'), FloatProgress(value=0.0, max=340.0), HTML(value='')))"
      ]
     },
     "metadata": {},
     "output_type": "display_data"
    },
    {
     "data": {
      "application/vnd.jupyter.widget-view+json": {
       "model_id": "",
       "version_major": 2,
       "version_minor": 0
      },
      "text/plain": [
       "HBox(children=(HTML(value='Training batches on cuda'), FloatProgress(value=0.0, max=340.0), HTML(value='')))"
      ]
     },
     "metadata": {},
     "output_type": "display_data"
    },
    {
     "data": {
      "application/vnd.jupyter.widget-view+json": {
       "model_id": "",
       "version_major": 2,
       "version_minor": 0
      },
      "text/plain": [
       "HBox(children=(HTML(value='Training batches on cuda'), FloatProgress(value=0.0, max=340.0), HTML(value='')))"
      ]
     },
     "metadata": {},
     "output_type": "display_data"
    },
    {
     "data": {
      "application/vnd.jupyter.widget-view+json": {
       "model_id": "",
       "version_major": 2,
       "version_minor": 0
      },
      "text/plain": [
       "HBox(children=(HTML(value='Training batches on cuda'), FloatProgress(value=0.0, max=340.0), HTML(value='')))"
      ]
     },
     "metadata": {},
     "output_type": "display_data"
    },
    {
     "data": {
      "application/vnd.jupyter.widget-view+json": {
       "model_id": "",
       "version_major": 2,
       "version_minor": 0
      },
      "text/plain": [
       "HBox(children=(HTML(value='Training batches on cuda'), FloatProgress(value=0.0, max=340.0), HTML(value='')))"
      ]
     },
     "metadata": {},
     "output_type": "display_data"
    },
    {
     "data": {
      "application/vnd.jupyter.widget-view+json": {
       "model_id": "",
       "version_major": 2,
       "version_minor": 0
      },
      "text/plain": [
       "HBox(children=(HTML(value='Training batches on cuda'), FloatProgress(value=0.0, max=340.0), HTML(value='')))"
      ]
     },
     "metadata": {},
     "output_type": "display_data"
    },
    {
     "data": {
      "application/vnd.jupyter.widget-view+json": {
       "model_id": "",
       "version_major": 2,
       "version_minor": 0
      },
      "text/plain": [
       "HBox(children=(HTML(value='Training batches on cuda'), FloatProgress(value=0.0, max=340.0), HTML(value='')))"
      ]
     },
     "metadata": {},
     "output_type": "display_data"
    },
    {
     "data": {
      "application/vnd.jupyter.widget-view+json": {
       "model_id": "",
       "version_major": 2,
       "version_minor": 0
      },
      "text/plain": [
       "HBox(children=(HTML(value='Training batches on cuda'), FloatProgress(value=0.0, max=340.0), HTML(value='')))"
      ]
     },
     "metadata": {},
     "output_type": "display_data"
    },
    {
     "data": {
      "application/vnd.jupyter.widget-view+json": {
       "model_id": "",
       "version_major": 2,
       "version_minor": 0
      },
      "text/plain": [
       "HBox(children=(HTML(value='Training batches on cuda'), FloatProgress(value=0.0, max=340.0), HTML(value='')))"
      ]
     },
     "metadata": {},
     "output_type": "display_data"
    },
    {
     "data": {
      "application/vnd.jupyter.widget-view+json": {
       "model_id": "",
       "version_major": 2,
       "version_minor": 0
      },
      "text/plain": [
       "HBox(children=(HTML(value='Training batches on cuda'), FloatProgress(value=0.0, max=340.0), HTML(value='')))"
      ]
     },
     "metadata": {},
     "output_type": "display_data"
    },
    {
     "data": {
      "application/vnd.jupyter.widget-view+json": {
       "model_id": "",
       "version_major": 2,
       "version_minor": 0
      },
      "text/plain": [
       "HBox(children=(HTML(value='Training batches on cuda'), FloatProgress(value=0.0, max=340.0), HTML(value='')))"
      ]
     },
     "metadata": {},
     "output_type": "display_data"
    },
    {
     "data": {
      "application/vnd.jupyter.widget-view+json": {
       "model_id": "",
       "version_major": 2,
       "version_minor": 0
      },
      "text/plain": [
       "HBox(children=(HTML(value='Training batches on cuda'), FloatProgress(value=0.0, max=340.0), HTML(value='')))"
      ]
     },
     "metadata": {},
     "output_type": "display_data"
    },
    {
     "data": {
      "application/vnd.jupyter.widget-view+json": {
       "model_id": "",
       "version_major": 2,
       "version_minor": 0
      },
      "text/plain": [
       "HBox(children=(HTML(value='Training batches on cuda'), FloatProgress(value=0.0, max=340.0), HTML(value='')))"
      ]
     },
     "metadata": {},
     "output_type": "display_data"
    },
    {
     "data": {
      "application/vnd.jupyter.widget-view+json": {
       "model_id": "",
       "version_major": 2,
       "version_minor": 0
      },
      "text/plain": [
       "HBox(children=(HTML(value='Training batches on cuda'), FloatProgress(value=0.0, max=340.0), HTML(value='')))"
      ]
     },
     "metadata": {},
     "output_type": "display_data"
    },
    {
     "data": {
      "application/vnd.jupyter.widget-view+json": {
       "model_id": "",
       "version_major": 2,
       "version_minor": 0
      },
      "text/plain": [
       "HBox(children=(HTML(value='Training batches on cuda'), FloatProgress(value=0.0, max=340.0), HTML(value='')))"
      ]
     },
     "metadata": {},
     "output_type": "display_data"
    },
    {
     "data": {
      "application/vnd.jupyter.widget-view+json": {
       "model_id": "",
       "version_major": 2,
       "version_minor": 0
      },
      "text/plain": [
       "HBox(children=(HTML(value='Training batches on cuda'), FloatProgress(value=0.0, max=340.0), HTML(value='')))"
      ]
     },
     "metadata": {},
     "output_type": "display_data"
    },
    {
     "data": {
      "application/vnd.jupyter.widget-view+json": {
       "model_id": "",
       "version_major": 2,
       "version_minor": 0
      },
      "text/plain": [
       "HBox(children=(HTML(value='Training batches on cuda'), FloatProgress(value=0.0, max=340.0), HTML(value='')))"
      ]
     },
     "metadata": {},
     "output_type": "display_data"
    },
    {
     "data": {
      "application/vnd.jupyter.widget-view+json": {
       "model_id": "",
       "version_major": 2,
       "version_minor": 0
      },
      "text/plain": [
       "HBox(children=(HTML(value='Training batches on cuda'), FloatProgress(value=0.0, max=340.0), HTML(value='')))"
      ]
     },
     "metadata": {},
     "output_type": "display_data"
    },
    {
     "data": {
      "application/vnd.jupyter.widget-view+json": {
       "model_id": "",
       "version_major": 2,
       "version_minor": 0
      },
      "text/plain": [
       "HBox(children=(HTML(value='Training batches on cuda'), FloatProgress(value=0.0, max=340.0), HTML(value='')))"
      ]
     },
     "metadata": {},
     "output_type": "display_data"
    },
    {
     "data": {
      "application/vnd.jupyter.widget-view+json": {
       "model_id": "",
       "version_major": 2,
       "version_minor": 0
      },
      "text/plain": [
       "HBox(children=(HTML(value='Training batches on cuda'), FloatProgress(value=0.0, max=340.0), HTML(value='')))"
      ]
     },
     "metadata": {},
     "output_type": "display_data"
    },
    {
     "data": {
      "application/vnd.jupyter.widget-view+json": {
       "model_id": "",
       "version_major": 2,
       "version_minor": 0
      },
      "text/plain": [
       "HBox(children=(HTML(value='Training batches on cuda'), FloatProgress(value=0.0, max=340.0), HTML(value='')))"
      ]
     },
     "metadata": {},
     "output_type": "display_data"
    },
    {
     "data": {
      "application/vnd.jupyter.widget-view+json": {
       "model_id": "",
       "version_major": 2,
       "version_minor": 0
      },
      "text/plain": [
       "HBox(children=(HTML(value='Training batches on cuda'), FloatProgress(value=0.0, max=340.0), HTML(value='')))"
      ]
     },
     "metadata": {},
     "output_type": "display_data"
    },
    {
     "data": {
      "application/vnd.jupyter.widget-view+json": {
       "model_id": "",
       "version_major": 2,
       "version_minor": 0
      },
      "text/plain": [
       "HBox(children=(HTML(value='Training batches on cuda'), FloatProgress(value=0.0, max=340.0), HTML(value='')))"
      ]
     },
     "metadata": {},
     "output_type": "display_data"
    },
    {
     "data": {
      "application/vnd.jupyter.widget-view+json": {
       "model_id": "",
       "version_major": 2,
       "version_minor": 0
      },
      "text/plain": [
       "HBox(children=(HTML(value='Training batches on cuda'), FloatProgress(value=0.0, max=340.0), HTML(value='')))"
      ]
     },
     "metadata": {},
     "output_type": "display_data"
    },
    {
     "data": {
      "application/vnd.jupyter.widget-view+json": {
       "model_id": "",
       "version_major": 2,
       "version_minor": 0
      },
      "text/plain": [
       "HBox(children=(HTML(value='Training batches on cuda'), FloatProgress(value=0.0, max=340.0), HTML(value='')))"
      ]
     },
     "metadata": {},
     "output_type": "display_data"
    },
    {
     "data": {
      "application/vnd.jupyter.widget-view+json": {
       "model_id": "",
       "version_major": 2,
       "version_minor": 0
      },
      "text/plain": [
       "HBox(children=(HTML(value='Training batches on cuda'), FloatProgress(value=0.0, max=340.0), HTML(value='')))"
      ]
     },
     "metadata": {},
     "output_type": "display_data"
    },
    {
     "data": {
      "application/vnd.jupyter.widget-view+json": {
       "model_id": "",
       "version_major": 2,
       "version_minor": 0
      },
      "text/plain": [
       "HBox(children=(HTML(value='Training batches on cuda'), FloatProgress(value=0.0, max=340.0), HTML(value='')))"
      ]
     },
     "metadata": {},
     "output_type": "display_data"
    },
    {
     "data": {
      "application/vnd.jupyter.widget-view+json": {
       "model_id": "",
       "version_major": 2,
       "version_minor": 0
      },
      "text/plain": [
       "HBox(children=(HTML(value='Training batches on cuda'), FloatProgress(value=0.0, max=340.0), HTML(value='')))"
      ]
     },
     "metadata": {},
     "output_type": "display_data"
    },
    {
     "data": {
      "application/vnd.jupyter.widget-view+json": {
       "model_id": "",
       "version_major": 2,
       "version_minor": 0
      },
      "text/plain": [
       "HBox(children=(HTML(value='Training batches on cuda'), FloatProgress(value=0.0, max=340.0), HTML(value='')))"
      ]
     },
     "metadata": {},
     "output_type": "display_data"
    },
    {
     "data": {
      "application/vnd.jupyter.widget-view+json": {
       "model_id": "",
       "version_major": 2,
       "version_minor": 0
      },
      "text/plain": [
       "HBox(children=(HTML(value='Training batches on cuda'), FloatProgress(value=0.0, max=340.0), HTML(value='')))"
      ]
     },
     "metadata": {},
     "output_type": "display_data"
    },
    {
     "data": {
      "application/vnd.jupyter.widget-view+json": {
       "model_id": "",
       "version_major": 2,
       "version_minor": 0
      },
      "text/plain": [
       "HBox(children=(HTML(value='Training batches on cuda'), FloatProgress(value=0.0, max=340.0), HTML(value='')))"
      ]
     },
     "metadata": {},
     "output_type": "display_data"
    },
    {
     "data": {
      "application/vnd.jupyter.widget-view+json": {
       "model_id": "",
       "version_major": 2,
       "version_minor": 0
      },
      "text/plain": [
       "HBox(children=(HTML(value='Training batches on cuda'), FloatProgress(value=0.0, max=340.0), HTML(value='')))"
      ]
     },
     "metadata": {},
     "output_type": "display_data"
    },
    {
     "data": {
      "application/vnd.jupyter.widget-view+json": {
       "model_id": "",
       "version_major": 2,
       "version_minor": 0
      },
      "text/plain": [
       "HBox(children=(HTML(value='Training batches on cuda'), FloatProgress(value=0.0, max=340.0), HTML(value='')))"
      ]
     },
     "metadata": {},
     "output_type": "display_data"
    },
    {
     "data": {
      "application/vnd.jupyter.widget-view+json": {
       "model_id": "",
       "version_major": 2,
       "version_minor": 0
      },
      "text/plain": [
       "HBox(children=(HTML(value='Training batches on cuda'), FloatProgress(value=0.0, max=340.0), HTML(value='')))"
      ]
     },
     "metadata": {},
     "output_type": "display_data"
    },
    {
     "data": {
      "application/vnd.jupyter.widget-view+json": {
       "model_id": "",
       "version_major": 2,
       "version_minor": 0
      },
      "text/plain": [
       "HBox(children=(HTML(value='Training batches on cuda'), FloatProgress(value=0.0, max=340.0), HTML(value='')))"
      ]
     },
     "metadata": {},
     "output_type": "display_data"
    },
    {
     "data": {
      "application/vnd.jupyter.widget-view+json": {
       "model_id": "",
       "version_major": 2,
       "version_minor": 0
      },
      "text/plain": [
       "HBox(children=(HTML(value='Training batches on cuda'), FloatProgress(value=0.0, max=340.0), HTML(value='')))"
      ]
     },
     "metadata": {},
     "output_type": "display_data"
    },
    {
     "data": {
      "application/vnd.jupyter.widget-view+json": {
       "model_id": "",
       "version_major": 2,
       "version_minor": 0
      },
      "text/plain": [
       "HBox(children=(HTML(value='Training batches on cuda'), FloatProgress(value=0.0, max=340.0), HTML(value='')))"
      ]
     },
     "metadata": {},
     "output_type": "display_data"
    },
    {
     "data": {
      "application/vnd.jupyter.widget-view+json": {
       "model_id": "",
       "version_major": 2,
       "version_minor": 0
      },
      "text/plain": [
       "HBox(children=(HTML(value='Training batches on cuda'), FloatProgress(value=0.0, max=340.0), HTML(value='')))"
      ]
     },
     "metadata": {},
     "output_type": "display_data"
    },
    {
     "data": {
      "application/vnd.jupyter.widget-view+json": {
       "model_id": "",
       "version_major": 2,
       "version_minor": 0
      },
      "text/plain": [
       "HBox(children=(HTML(value='Training batches on cuda'), FloatProgress(value=0.0, max=340.0), HTML(value='')))"
      ]
     },
     "metadata": {},
     "output_type": "display_data"
    },
    {
     "data": {
      "application/vnd.jupyter.widget-view+json": {
       "model_id": "",
       "version_major": 2,
       "version_minor": 0
      },
      "text/plain": [
       "HBox(children=(HTML(value='Training batches on cuda'), FloatProgress(value=0.0, max=340.0), HTML(value='')))"
      ]
     },
     "metadata": {},
     "output_type": "display_data"
    },
    {
     "data": {
      "application/vnd.jupyter.widget-view+json": {
       "model_id": "",
       "version_major": 2,
       "version_minor": 0
      },
      "text/plain": [
       "HBox(children=(HTML(value='Training batches on cuda'), FloatProgress(value=0.0, max=340.0), HTML(value='')))"
      ]
     },
     "metadata": {},
     "output_type": "display_data"
    },
    {
     "data": {
      "application/vnd.jupyter.widget-view+json": {
       "model_id": "",
       "version_major": 2,
       "version_minor": 0
      },
      "text/plain": [
       "HBox(children=(HTML(value='Training batches on cuda'), FloatProgress(value=0.0, max=340.0), HTML(value='')))"
      ]
     },
     "metadata": {},
     "output_type": "display_data"
    },
    {
     "data": {
      "application/vnd.jupyter.widget-view+json": {
       "model_id": "",
       "version_major": 2,
       "version_minor": 0
      },
      "text/plain": [
       "HBox(children=(HTML(value='Training batches on cuda'), FloatProgress(value=0.0, max=340.0), HTML(value='')))"
      ]
     },
     "metadata": {},
     "output_type": "display_data"
    },
    {
     "data": {
      "application/vnd.jupyter.widget-view+json": {
       "model_id": "",
       "version_major": 2,
       "version_minor": 0
      },
      "text/plain": [
       "HBox(children=(HTML(value='Training batches on cuda'), FloatProgress(value=0.0, max=340.0), HTML(value='')))"
      ]
     },
     "metadata": {},
     "output_type": "display_data"
    },
    {
     "data": {
      "application/vnd.jupyter.widget-view+json": {
       "model_id": "",
       "version_major": 2,
       "version_minor": 0
      },
      "text/plain": [
       "HBox(children=(HTML(value='Training batches on cuda'), FloatProgress(value=0.0, max=340.0), HTML(value='')))"
      ]
     },
     "metadata": {},
     "output_type": "display_data"
    },
    {
     "data": {
      "application/vnd.jupyter.widget-view+json": {
       "model_id": "",
       "version_major": 2,
       "version_minor": 0
      },
      "text/plain": [
       "HBox(children=(HTML(value='Training batches on cuda'), FloatProgress(value=0.0, max=340.0), HTML(value='')))"
      ]
     },
     "metadata": {},
     "output_type": "display_data"
    },
    {
     "data": {
      "application/vnd.jupyter.widget-view+json": {
       "model_id": "",
       "version_major": 2,
       "version_minor": 0
      },
      "text/plain": [
       "HBox(children=(HTML(value='Training batches on cuda'), FloatProgress(value=0.0, max=340.0), HTML(value='')))"
      ]
     },
     "metadata": {},
     "output_type": "display_data"
    },
    {
     "data": {
      "application/vnd.jupyter.widget-view+json": {
       "model_id": "",
       "version_major": 2,
       "version_minor": 0
      },
      "text/plain": [
       "HBox(children=(HTML(value='Training batches on cuda'), FloatProgress(value=0.0, max=340.0), HTML(value='')))"
      ]
     },
     "metadata": {},
     "output_type": "display_data"
    },
    {
     "data": {
      "application/vnd.jupyter.widget-view+json": {
       "model_id": "",
       "version_major": 2,
       "version_minor": 0
      },
      "text/plain": [
       "HBox(children=(HTML(value='Training batches on cuda'), FloatProgress(value=0.0, max=340.0), HTML(value='')))"
      ]
     },
     "metadata": {},
     "output_type": "display_data"
    },
    {
     "data": {
      "application/vnd.jupyter.widget-view+json": {
       "model_id": "",
       "version_major": 2,
       "version_minor": 0
      },
      "text/plain": [
       "HBox(children=(HTML(value='Training batches on cuda'), FloatProgress(value=0.0, max=340.0), HTML(value='')))"
      ]
     },
     "metadata": {},
     "output_type": "display_data"
    },
    {
     "data": {
      "application/vnd.jupyter.widget-view+json": {
       "model_id": "",
       "version_major": 2,
       "version_minor": 0
      },
      "text/plain": [
       "HBox(children=(HTML(value='Training batches on cuda'), FloatProgress(value=0.0, max=340.0), HTML(value='')))"
      ]
     },
     "metadata": {},
     "output_type": "display_data"
    },
    {
     "data": {
      "application/vnd.jupyter.widget-view+json": {
       "model_id": "",
       "version_major": 2,
       "version_minor": 0
      },
      "text/plain": [
       "HBox(children=(HTML(value='Training batches on cuda'), FloatProgress(value=0.0, max=340.0), HTML(value='')))"
      ]
     },
     "metadata": {},
     "output_type": "display_data"
    },
    {
     "data": {
      "application/vnd.jupyter.widget-view+json": {
       "model_id": "",
       "version_major": 2,
       "version_minor": 0
      },
      "text/plain": [
       "HBox(children=(HTML(value='Training batches on cuda'), FloatProgress(value=0.0, max=340.0), HTML(value='')))"
      ]
     },
     "metadata": {},
     "output_type": "display_data"
    },
    {
     "data": {
      "application/vnd.jupyter.widget-view+json": {
       "model_id": "",
       "version_major": 2,
       "version_minor": 0
      },
      "text/plain": [
       "HBox(children=(HTML(value='Training batches on cuda'), FloatProgress(value=0.0, max=340.0), HTML(value='')))"
      ]
     },
     "metadata": {},
     "output_type": "display_data"
    },
    {
     "data": {
      "application/vnd.jupyter.widget-view+json": {
       "model_id": "",
       "version_major": 2,
       "version_minor": 0
      },
      "text/plain": [
       "HBox(children=(HTML(value='Training batches on cuda'), FloatProgress(value=0.0, max=340.0), HTML(value='')))"
      ]
     },
     "metadata": {},
     "output_type": "display_data"
    },
    {
     "data": {
      "application/vnd.jupyter.widget-view+json": {
       "model_id": "",
       "version_major": 2,
       "version_minor": 0
      },
      "text/plain": [
       "HBox(children=(HTML(value='Training batches on cuda'), FloatProgress(value=0.0, max=340.0), HTML(value='')))"
      ]
     },
     "metadata": {},
     "output_type": "display_data"
    },
    {
     "data": {
      "application/vnd.jupyter.widget-view+json": {
       "model_id": "",
       "version_major": 2,
       "version_minor": 0
      },
      "text/plain": [
       "HBox(children=(HTML(value='Training batches on cuda'), FloatProgress(value=0.0, max=340.0), HTML(value='')))"
      ]
     },
     "metadata": {},
     "output_type": "display_data"
    },
    {
     "data": {
      "application/vnd.jupyter.widget-view+json": {
       "model_id": "",
       "version_major": 2,
       "version_minor": 0
      },
      "text/plain": [
       "HBox(children=(HTML(value='Training batches on cuda'), FloatProgress(value=0.0, max=340.0), HTML(value='')))"
      ]
     },
     "metadata": {},
     "output_type": "display_data"
    },
    {
     "data": {
      "application/vnd.jupyter.widget-view+json": {
       "model_id": "",
       "version_major": 2,
       "version_minor": 0
      },
      "text/plain": [
       "HBox(children=(HTML(value='Training batches on cuda'), FloatProgress(value=0.0, max=340.0), HTML(value='')))"
      ]
     },
     "metadata": {},
     "output_type": "display_data"
    },
    {
     "data": {
      "application/vnd.jupyter.widget-view+json": {
       "model_id": "",
       "version_major": 2,
       "version_minor": 0
      },
      "text/plain": [
       "HBox(children=(HTML(value='Training batches on cuda'), FloatProgress(value=0.0, max=340.0), HTML(value='')))"
      ]
     },
     "metadata": {},
     "output_type": "display_data"
    },
    {
     "data": {
      "application/vnd.jupyter.widget-view+json": {
       "model_id": "",
       "version_major": 2,
       "version_minor": 0
      },
      "text/plain": [
       "HBox(children=(HTML(value='Training batches on cuda'), FloatProgress(value=0.0, max=340.0), HTML(value='')))"
      ]
     },
     "metadata": {},
     "output_type": "display_data"
    },
    {
     "data": {
      "application/vnd.jupyter.widget-view+json": {
       "model_id": "",
       "version_major": 2,
       "version_minor": 0
      },
      "text/plain": [
       "HBox(children=(HTML(value='Training batches on cuda'), FloatProgress(value=0.0, max=340.0), HTML(value='')))"
      ]
     },
     "metadata": {},
     "output_type": "display_data"
    },
    {
     "data": {
      "application/vnd.jupyter.widget-view+json": {
       "model_id": "",
       "version_major": 2,
       "version_minor": 0
      },
      "text/plain": [
       "HBox(children=(HTML(value='Training batches on cuda'), FloatProgress(value=0.0, max=340.0), HTML(value='')))"
      ]
     },
     "metadata": {},
     "output_type": "display_data"
    },
    {
     "data": {
      "application/vnd.jupyter.widget-view+json": {
       "model_id": "",
       "version_major": 2,
       "version_minor": 0
      },
      "text/plain": [
       "HBox(children=(HTML(value='Training batches on cuda'), FloatProgress(value=0.0, max=340.0), HTML(value='')))"
      ]
     },
     "metadata": {},
     "output_type": "display_data"
    },
    {
     "name": "stderr",
     "output_type": "stream",
     "text": [
      "INFO:pykeen.evaluation.evaluator:Starting batch_size search for evaluation now...\n"
     ]
    },
    {
     "name": "stdout",
     "output_type": "stream",
     "text": [
      "\n"
     ]
    },
    {
     "name": "stderr",
     "output_type": "stream",
     "text": [
      "INFO:pykeen.evaluation.evaluator:Concluded batch_size search with batch_size=512.\n"
     ]
    },
    {
     "data": {
      "application/vnd.jupyter.widget-view+json": {
       "model_id": "b5f5cceed50749658748ab4fb7c3804e",
       "version_major": 2,
       "version_minor": 0
      },
      "text/plain": [
       "HBox(children=(HTML(value='Evaluating on cuda'), FloatProgress(value=0.0, max=2924.0), HTML(value='')))"
      ]
     },
     "metadata": {},
     "output_type": "display_data"
    },
    {
     "name": "stderr",
     "output_type": "stream",
     "text": [
      "INFO:pykeen.evaluation.evaluator:Evaluation took 2.61s seconds\n"
     ]
    },
    {
     "name": "stdout",
     "output_type": "stream",
     "text": [
      "\n"
     ]
    },
    {
     "data": {
      "text/plain": [
       "ModifiedSE(\n",
       "  (loss): SoftplusLoss(\n",
       "    (softplus): Softplus(beta=1, threshold=20)\n",
       "  )\n",
       "  (regularizer): NoRegularizer()\n",
       "  (entity_embeddings): Embedding(\n",
       "    (_embeddings): Embedding(40559, 64)\n",
       "  )\n",
       "  (left_relation_embeddings): Embedding(\n",
       "    (_embeddings): Embedding(11, 4096)\n",
       "  )\n",
       "  (right_relation_embeddings): Embedding(\n",
       "    (_embeddings): Embedding(11, 4096)\n",
       "  )\n",
       ")"
      ]
     },
     "execution_count": 5,
     "metadata": {},
     "output_type": "execute_result"
    }
   ],
   "source": [
    "result2 = pipeline(\n",
    "    model=ModifiedSE,\n",
    "    dataset=dataset,\n",
    "    random_seed=random_seed,\n",
    "    device='gpu',\n",
    "    training_kwargs=dict(num_epochs=num_epochs),\n",
    "    evaluation_kwargs=dict(),\n",
    "    model_kwargs=dict(embedding_dim=embedding_dim, edge_stalk_sizes=edge_stalk_sizes),\n",
    "    loss=loss,\n",
    "    training_loop='slcwa',\n",
    "    loss_kwargs=dict()\n",
    ")\n",
    "model2 = result2.model\n",
    "model2"
   ]
  },
  {
   "cell_type": "code",
   "execution_count": 6,
   "metadata": {},
   "outputs": [
    {
     "name": "stderr",
     "output_type": "stream",
     "text": [
      "WARNING:pykeen.triples.triples_factory:You're trying to map triples with 212 entities and 0 relations that are not in the training set. These triples will be excluded from the mapping.\n",
      "WARNING:pykeen.triples.triples_factory:In total 210 from 3134 triples were filtered out\n",
      "WARNING:pykeen.triples.triples_factory:You're trying to map triples with 211 entities and 0 relations that are not in the training set. These triples will be excluded from the mapping.\n",
      "WARNING:pykeen.triples.triples_factory:In total 210 from 3034 triples were filtered out\n"
     ]
    },
    {
     "data": {
      "application/vnd.jupyter.widget-view+json": {
       "model_id": "6c7628f29cd9464ba716b320487161cf",
       "version_major": 2,
       "version_minor": 0
      },
      "text/plain": [
       "HBox(children=(HTML(value='Training epochs on cuda'), FloatProgress(value=0.0), HTML(value='')))"
      ]
     },
     "metadata": {},
     "output_type": "display_data"
    },
    {
     "data": {
      "application/vnd.jupyter.widget-view+json": {
       "model_id": "",
       "version_major": 2,
       "version_minor": 0
      },
      "text/plain": [
       "HBox(children=(HTML(value='Training batches on cuda'), FloatProgress(value=0.0, max=340.0), HTML(value='')))"
      ]
     },
     "metadata": {},
     "output_type": "display_data"
    },
    {
     "data": {
      "application/vnd.jupyter.widget-view+json": {
       "model_id": "",
       "version_major": 2,
       "version_minor": 0
      },
      "text/plain": [
       "HBox(children=(HTML(value='Training batches on cuda'), FloatProgress(value=0.0, max=340.0), HTML(value='')))"
      ]
     },
     "metadata": {},
     "output_type": "display_data"
    },
    {
     "data": {
      "application/vnd.jupyter.widget-view+json": {
       "model_id": "",
       "version_major": 2,
       "version_minor": 0
      },
      "text/plain": [
       "HBox(children=(HTML(value='Training batches on cuda'), FloatProgress(value=0.0, max=340.0), HTML(value='')))"
      ]
     },
     "metadata": {},
     "output_type": "display_data"
    },
    {
     "data": {
      "application/vnd.jupyter.widget-view+json": {
       "model_id": "",
       "version_major": 2,
       "version_minor": 0
      },
      "text/plain": [
       "HBox(children=(HTML(value='Training batches on cuda'), FloatProgress(value=0.0, max=340.0), HTML(value='')))"
      ]
     },
     "metadata": {},
     "output_type": "display_data"
    },
    {
     "data": {
      "application/vnd.jupyter.widget-view+json": {
       "model_id": "",
       "version_major": 2,
       "version_minor": 0
      },
      "text/plain": [
       "HBox(children=(HTML(value='Training batches on cuda'), FloatProgress(value=0.0, max=340.0), HTML(value='')))"
      ]
     },
     "metadata": {},
     "output_type": "display_data"
    },
    {
     "data": {
      "application/vnd.jupyter.widget-view+json": {
       "model_id": "",
       "version_major": 2,
       "version_minor": 0
      },
      "text/plain": [
       "HBox(children=(HTML(value='Training batches on cuda'), FloatProgress(value=0.0, max=340.0), HTML(value='')))"
      ]
     },
     "metadata": {},
     "output_type": "display_data"
    },
    {
     "data": {
      "application/vnd.jupyter.widget-view+json": {
       "model_id": "",
       "version_major": 2,
       "version_minor": 0
      },
      "text/plain": [
       "HBox(children=(HTML(value='Training batches on cuda'), FloatProgress(value=0.0, max=340.0), HTML(value='')))"
      ]
     },
     "metadata": {},
     "output_type": "display_data"
    },
    {
     "data": {
      "application/vnd.jupyter.widget-view+json": {
       "model_id": "",
       "version_major": 2,
       "version_minor": 0
      },
      "text/plain": [
       "HBox(children=(HTML(value='Training batches on cuda'), FloatProgress(value=0.0, max=340.0), HTML(value='')))"
      ]
     },
     "metadata": {},
     "output_type": "display_data"
    },
    {
     "data": {
      "application/vnd.jupyter.widget-view+json": {
       "model_id": "",
       "version_major": 2,
       "version_minor": 0
      },
      "text/plain": [
       "HBox(children=(HTML(value='Training batches on cuda'), FloatProgress(value=0.0, max=340.0), HTML(value='')))"
      ]
     },
     "metadata": {},
     "output_type": "display_data"
    },
    {
     "data": {
      "application/vnd.jupyter.widget-view+json": {
       "model_id": "",
       "version_major": 2,
       "version_minor": 0
      },
      "text/plain": [
       "HBox(children=(HTML(value='Training batches on cuda'), FloatProgress(value=0.0, max=340.0), HTML(value='')))"
      ]
     },
     "metadata": {},
     "output_type": "display_data"
    },
    {
     "data": {
      "application/vnd.jupyter.widget-view+json": {
       "model_id": "",
       "version_major": 2,
       "version_minor": 0
      },
      "text/plain": [
       "HBox(children=(HTML(value='Training batches on cuda'), FloatProgress(value=0.0, max=340.0), HTML(value='')))"
      ]
     },
     "metadata": {},
     "output_type": "display_data"
    },
    {
     "data": {
      "application/vnd.jupyter.widget-view+json": {
       "model_id": "",
       "version_major": 2,
       "version_minor": 0
      },
      "text/plain": [
       "HBox(children=(HTML(value='Training batches on cuda'), FloatProgress(value=0.0, max=340.0), HTML(value='')))"
      ]
     },
     "metadata": {},
     "output_type": "display_data"
    },
    {
     "data": {
      "application/vnd.jupyter.widget-view+json": {
       "model_id": "",
       "version_major": 2,
       "version_minor": 0
      },
      "text/plain": [
       "HBox(children=(HTML(value='Training batches on cuda'), FloatProgress(value=0.0, max=340.0), HTML(value='')))"
      ]
     },
     "metadata": {},
     "output_type": "display_data"
    },
    {
     "data": {
      "application/vnd.jupyter.widget-view+json": {
       "model_id": "",
       "version_major": 2,
       "version_minor": 0
      },
      "text/plain": [
       "HBox(children=(HTML(value='Training batches on cuda'), FloatProgress(value=0.0, max=340.0), HTML(value='')))"
      ]
     },
     "metadata": {},
     "output_type": "display_data"
    },
    {
     "data": {
      "application/vnd.jupyter.widget-view+json": {
       "model_id": "",
       "version_major": 2,
       "version_minor": 0
      },
      "text/plain": [
       "HBox(children=(HTML(value='Training batches on cuda'), FloatProgress(value=0.0, max=340.0), HTML(value='')))"
      ]
     },
     "metadata": {},
     "output_type": "display_data"
    },
    {
     "data": {
      "application/vnd.jupyter.widget-view+json": {
       "model_id": "",
       "version_major": 2,
       "version_minor": 0
      },
      "text/plain": [
       "HBox(children=(HTML(value='Training batches on cuda'), FloatProgress(value=0.0, max=340.0), HTML(value='')))"
      ]
     },
     "metadata": {},
     "output_type": "display_data"
    },
    {
     "data": {
      "application/vnd.jupyter.widget-view+json": {
       "model_id": "",
       "version_major": 2,
       "version_minor": 0
      },
      "text/plain": [
       "HBox(children=(HTML(value='Training batches on cuda'), FloatProgress(value=0.0, max=340.0), HTML(value='')))"
      ]
     },
     "metadata": {},
     "output_type": "display_data"
    },
    {
     "data": {
      "application/vnd.jupyter.widget-view+json": {
       "model_id": "",
       "version_major": 2,
       "version_minor": 0
      },
      "text/plain": [
       "HBox(children=(HTML(value='Training batches on cuda'), FloatProgress(value=0.0, max=340.0), HTML(value='')))"
      ]
     },
     "metadata": {},
     "output_type": "display_data"
    },
    {
     "data": {
      "application/vnd.jupyter.widget-view+json": {
       "model_id": "",
       "version_major": 2,
       "version_minor": 0
      },
      "text/plain": [
       "HBox(children=(HTML(value='Training batches on cuda'), FloatProgress(value=0.0, max=340.0), HTML(value='')))"
      ]
     },
     "metadata": {},
     "output_type": "display_data"
    },
    {
     "data": {
      "application/vnd.jupyter.widget-view+json": {
       "model_id": "",
       "version_major": 2,
       "version_minor": 0
      },
      "text/plain": [
       "HBox(children=(HTML(value='Training batches on cuda'), FloatProgress(value=0.0, max=340.0), HTML(value='')))"
      ]
     },
     "metadata": {},
     "output_type": "display_data"
    },
    {
     "data": {
      "application/vnd.jupyter.widget-view+json": {
       "model_id": "",
       "version_major": 2,
       "version_minor": 0
      },
      "text/plain": [
       "HBox(children=(HTML(value='Training batches on cuda'), FloatProgress(value=0.0, max=340.0), HTML(value='')))"
      ]
     },
     "metadata": {},
     "output_type": "display_data"
    },
    {
     "data": {
      "application/vnd.jupyter.widget-view+json": {
       "model_id": "",
       "version_major": 2,
       "version_minor": 0
      },
      "text/plain": [
       "HBox(children=(HTML(value='Training batches on cuda'), FloatProgress(value=0.0, max=340.0), HTML(value='')))"
      ]
     },
     "metadata": {},
     "output_type": "display_data"
    },
    {
     "data": {
      "application/vnd.jupyter.widget-view+json": {
       "model_id": "",
       "version_major": 2,
       "version_minor": 0
      },
      "text/plain": [
       "HBox(children=(HTML(value='Training batches on cuda'), FloatProgress(value=0.0, max=340.0), HTML(value='')))"
      ]
     },
     "metadata": {},
     "output_type": "display_data"
    },
    {
     "data": {
      "application/vnd.jupyter.widget-view+json": {
       "model_id": "",
       "version_major": 2,
       "version_minor": 0
      },
      "text/plain": [
       "HBox(children=(HTML(value='Training batches on cuda'), FloatProgress(value=0.0, max=340.0), HTML(value='')))"
      ]
     },
     "metadata": {},
     "output_type": "display_data"
    },
    {
     "data": {
      "application/vnd.jupyter.widget-view+json": {
       "model_id": "",
       "version_major": 2,
       "version_minor": 0
      },
      "text/plain": [
       "HBox(children=(HTML(value='Training batches on cuda'), FloatProgress(value=0.0, max=340.0), HTML(value='')))"
      ]
     },
     "metadata": {},
     "output_type": "display_data"
    },
    {
     "data": {
      "application/vnd.jupyter.widget-view+json": {
       "model_id": "",
       "version_major": 2,
       "version_minor": 0
      },
      "text/plain": [
       "HBox(children=(HTML(value='Training batches on cuda'), FloatProgress(value=0.0, max=340.0), HTML(value='')))"
      ]
     },
     "metadata": {},
     "output_type": "display_data"
    },
    {
     "data": {
      "application/vnd.jupyter.widget-view+json": {
       "model_id": "",
       "version_major": 2,
       "version_minor": 0
      },
      "text/plain": [
       "HBox(children=(HTML(value='Training batches on cuda'), FloatProgress(value=0.0, max=340.0), HTML(value='')))"
      ]
     },
     "metadata": {},
     "output_type": "display_data"
    },
    {
     "data": {
      "application/vnd.jupyter.widget-view+json": {
       "model_id": "",
       "version_major": 2,
       "version_minor": 0
      },
      "text/plain": [
       "HBox(children=(HTML(value='Training batches on cuda'), FloatProgress(value=0.0, max=340.0), HTML(value='')))"
      ]
     },
     "metadata": {},
     "output_type": "display_data"
    },
    {
     "data": {
      "application/vnd.jupyter.widget-view+json": {
       "model_id": "",
       "version_major": 2,
       "version_minor": 0
      },
      "text/plain": [
       "HBox(children=(HTML(value='Training batches on cuda'), FloatProgress(value=0.0, max=340.0), HTML(value='')))"
      ]
     },
     "metadata": {},
     "output_type": "display_data"
    },
    {
     "data": {
      "application/vnd.jupyter.widget-view+json": {
       "model_id": "",
       "version_major": 2,
       "version_minor": 0
      },
      "text/plain": [
       "HBox(children=(HTML(value='Training batches on cuda'), FloatProgress(value=0.0, max=340.0), HTML(value='')))"
      ]
     },
     "metadata": {},
     "output_type": "display_data"
    },
    {
     "data": {
      "application/vnd.jupyter.widget-view+json": {
       "model_id": "",
       "version_major": 2,
       "version_minor": 0
      },
      "text/plain": [
       "HBox(children=(HTML(value='Training batches on cuda'), FloatProgress(value=0.0, max=340.0), HTML(value='')))"
      ]
     },
     "metadata": {},
     "output_type": "display_data"
    },
    {
     "data": {
      "application/vnd.jupyter.widget-view+json": {
       "model_id": "",
       "version_major": 2,
       "version_minor": 0
      },
      "text/plain": [
       "HBox(children=(HTML(value='Training batches on cuda'), FloatProgress(value=0.0, max=340.0), HTML(value='')))"
      ]
     },
     "metadata": {},
     "output_type": "display_data"
    },
    {
     "data": {
      "application/vnd.jupyter.widget-view+json": {
       "model_id": "",
       "version_major": 2,
       "version_minor": 0
      },
      "text/plain": [
       "HBox(children=(HTML(value='Training batches on cuda'), FloatProgress(value=0.0, max=340.0), HTML(value='')))"
      ]
     },
     "metadata": {},
     "output_type": "display_data"
    },
    {
     "data": {
      "application/vnd.jupyter.widget-view+json": {
       "model_id": "",
       "version_major": 2,
       "version_minor": 0
      },
      "text/plain": [
       "HBox(children=(HTML(value='Training batches on cuda'), FloatProgress(value=0.0, max=340.0), HTML(value='')))"
      ]
     },
     "metadata": {},
     "output_type": "display_data"
    },
    {
     "data": {
      "application/vnd.jupyter.widget-view+json": {
       "model_id": "",
       "version_major": 2,
       "version_minor": 0
      },
      "text/plain": [
       "HBox(children=(HTML(value='Training batches on cuda'), FloatProgress(value=0.0, max=340.0), HTML(value='')))"
      ]
     },
     "metadata": {},
     "output_type": "display_data"
    },
    {
     "data": {
      "application/vnd.jupyter.widget-view+json": {
       "model_id": "",
       "version_major": 2,
       "version_minor": 0
      },
      "text/plain": [
       "HBox(children=(HTML(value='Training batches on cuda'), FloatProgress(value=0.0, max=340.0), HTML(value='')))"
      ]
     },
     "metadata": {},
     "output_type": "display_data"
    },
    {
     "data": {
      "application/vnd.jupyter.widget-view+json": {
       "model_id": "",
       "version_major": 2,
       "version_minor": 0
      },
      "text/plain": [
       "HBox(children=(HTML(value='Training batches on cuda'), FloatProgress(value=0.0, max=340.0), HTML(value='')))"
      ]
     },
     "metadata": {},
     "output_type": "display_data"
    },
    {
     "data": {
      "application/vnd.jupyter.widget-view+json": {
       "model_id": "",
       "version_major": 2,
       "version_minor": 0
      },
      "text/plain": [
       "HBox(children=(HTML(value='Training batches on cuda'), FloatProgress(value=0.0, max=340.0), HTML(value='')))"
      ]
     },
     "metadata": {},
     "output_type": "display_data"
    },
    {
     "data": {
      "application/vnd.jupyter.widget-view+json": {
       "model_id": "",
       "version_major": 2,
       "version_minor": 0
      },
      "text/plain": [
       "HBox(children=(HTML(value='Training batches on cuda'), FloatProgress(value=0.0, max=340.0), HTML(value='')))"
      ]
     },
     "metadata": {},
     "output_type": "display_data"
    },
    {
     "data": {
      "application/vnd.jupyter.widget-view+json": {
       "model_id": "",
       "version_major": 2,
       "version_minor": 0
      },
      "text/plain": [
       "HBox(children=(HTML(value='Training batches on cuda'), FloatProgress(value=0.0, max=340.0), HTML(value='')))"
      ]
     },
     "metadata": {},
     "output_type": "display_data"
    },
    {
     "data": {
      "application/vnd.jupyter.widget-view+json": {
       "model_id": "",
       "version_major": 2,
       "version_minor": 0
      },
      "text/plain": [
       "HBox(children=(HTML(value='Training batches on cuda'), FloatProgress(value=0.0, max=340.0), HTML(value='')))"
      ]
     },
     "metadata": {},
     "output_type": "display_data"
    },
    {
     "data": {
      "application/vnd.jupyter.widget-view+json": {
       "model_id": "",
       "version_major": 2,
       "version_minor": 0
      },
      "text/plain": [
       "HBox(children=(HTML(value='Training batches on cuda'), FloatProgress(value=0.0, max=340.0), HTML(value='')))"
      ]
     },
     "metadata": {},
     "output_type": "display_data"
    },
    {
     "data": {
      "application/vnd.jupyter.widget-view+json": {
       "model_id": "",
       "version_major": 2,
       "version_minor": 0
      },
      "text/plain": [
       "HBox(children=(HTML(value='Training batches on cuda'), FloatProgress(value=0.0, max=340.0), HTML(value='')))"
      ]
     },
     "metadata": {},
     "output_type": "display_data"
    },
    {
     "data": {
      "application/vnd.jupyter.widget-view+json": {
       "model_id": "",
       "version_major": 2,
       "version_minor": 0
      },
      "text/plain": [
       "HBox(children=(HTML(value='Training batches on cuda'), FloatProgress(value=0.0, max=340.0), HTML(value='')))"
      ]
     },
     "metadata": {},
     "output_type": "display_data"
    },
    {
     "data": {
      "application/vnd.jupyter.widget-view+json": {
       "model_id": "",
       "version_major": 2,
       "version_minor": 0
      },
      "text/plain": [
       "HBox(children=(HTML(value='Training batches on cuda'), FloatProgress(value=0.0, max=340.0), HTML(value='')))"
      ]
     },
     "metadata": {},
     "output_type": "display_data"
    },
    {
     "data": {
      "application/vnd.jupyter.widget-view+json": {
       "model_id": "",
       "version_major": 2,
       "version_minor": 0
      },
      "text/plain": [
       "HBox(children=(HTML(value='Training batches on cuda'), FloatProgress(value=0.0, max=340.0), HTML(value='')))"
      ]
     },
     "metadata": {},
     "output_type": "display_data"
    },
    {
     "data": {
      "application/vnd.jupyter.widget-view+json": {
       "model_id": "",
       "version_major": 2,
       "version_minor": 0
      },
      "text/plain": [
       "HBox(children=(HTML(value='Training batches on cuda'), FloatProgress(value=0.0, max=340.0), HTML(value='')))"
      ]
     },
     "metadata": {},
     "output_type": "display_data"
    },
    {
     "data": {
      "application/vnd.jupyter.widget-view+json": {
       "model_id": "",
       "version_major": 2,
       "version_minor": 0
      },
      "text/plain": [
       "HBox(children=(HTML(value='Training batches on cuda'), FloatProgress(value=0.0, max=340.0), HTML(value='')))"
      ]
     },
     "metadata": {},
     "output_type": "display_data"
    },
    {
     "data": {
      "application/vnd.jupyter.widget-view+json": {
       "model_id": "",
       "version_major": 2,
       "version_minor": 0
      },
      "text/plain": [
       "HBox(children=(HTML(value='Training batches on cuda'), FloatProgress(value=0.0, max=340.0), HTML(value='')))"
      ]
     },
     "metadata": {},
     "output_type": "display_data"
    },
    {
     "data": {
      "application/vnd.jupyter.widget-view+json": {
       "model_id": "",
       "version_major": 2,
       "version_minor": 0
      },
      "text/plain": [
       "HBox(children=(HTML(value='Training batches on cuda'), FloatProgress(value=0.0, max=340.0), HTML(value='')))"
      ]
     },
     "metadata": {},
     "output_type": "display_data"
    },
    {
     "data": {
      "application/vnd.jupyter.widget-view+json": {
       "model_id": "",
       "version_major": 2,
       "version_minor": 0
      },
      "text/plain": [
       "HBox(children=(HTML(value='Training batches on cuda'), FloatProgress(value=0.0, max=340.0), HTML(value='')))"
      ]
     },
     "metadata": {},
     "output_type": "display_data"
    },
    {
     "data": {
      "application/vnd.jupyter.widget-view+json": {
       "model_id": "",
       "version_major": 2,
       "version_minor": 0
      },
      "text/plain": [
       "HBox(children=(HTML(value='Training batches on cuda'), FloatProgress(value=0.0, max=340.0), HTML(value='')))"
      ]
     },
     "metadata": {},
     "output_type": "display_data"
    },
    {
     "data": {
      "application/vnd.jupyter.widget-view+json": {
       "model_id": "",
       "version_major": 2,
       "version_minor": 0
      },
      "text/plain": [
       "HBox(children=(HTML(value='Training batches on cuda'), FloatProgress(value=0.0, max=340.0), HTML(value='')))"
      ]
     },
     "metadata": {},
     "output_type": "display_data"
    },
    {
     "data": {
      "application/vnd.jupyter.widget-view+json": {
       "model_id": "",
       "version_major": 2,
       "version_minor": 0
      },
      "text/plain": [
       "HBox(children=(HTML(value='Training batches on cuda'), FloatProgress(value=0.0, max=340.0), HTML(value='')))"
      ]
     },
     "metadata": {},
     "output_type": "display_data"
    },
    {
     "data": {
      "application/vnd.jupyter.widget-view+json": {
       "model_id": "",
       "version_major": 2,
       "version_minor": 0
      },
      "text/plain": [
       "HBox(children=(HTML(value='Training batches on cuda'), FloatProgress(value=0.0, max=340.0), HTML(value='')))"
      ]
     },
     "metadata": {},
     "output_type": "display_data"
    },
    {
     "data": {
      "application/vnd.jupyter.widget-view+json": {
       "model_id": "",
       "version_major": 2,
       "version_minor": 0
      },
      "text/plain": [
       "HBox(children=(HTML(value='Training batches on cuda'), FloatProgress(value=0.0, max=340.0), HTML(value='')))"
      ]
     },
     "metadata": {},
     "output_type": "display_data"
    },
    {
     "data": {
      "application/vnd.jupyter.widget-view+json": {
       "model_id": "",
       "version_major": 2,
       "version_minor": 0
      },
      "text/plain": [
       "HBox(children=(HTML(value='Training batches on cuda'), FloatProgress(value=0.0, max=340.0), HTML(value='')))"
      ]
     },
     "metadata": {},
     "output_type": "display_data"
    },
    {
     "data": {
      "application/vnd.jupyter.widget-view+json": {
       "model_id": "",
       "version_major": 2,
       "version_minor": 0
      },
      "text/plain": [
       "HBox(children=(HTML(value='Training batches on cuda'), FloatProgress(value=0.0, max=340.0), HTML(value='')))"
      ]
     },
     "metadata": {},
     "output_type": "display_data"
    },
    {
     "data": {
      "application/vnd.jupyter.widget-view+json": {
       "model_id": "",
       "version_major": 2,
       "version_minor": 0
      },
      "text/plain": [
       "HBox(children=(HTML(value='Training batches on cuda'), FloatProgress(value=0.0, max=340.0), HTML(value='')))"
      ]
     },
     "metadata": {},
     "output_type": "display_data"
    },
    {
     "data": {
      "application/vnd.jupyter.widget-view+json": {
       "model_id": "",
       "version_major": 2,
       "version_minor": 0
      },
      "text/plain": [
       "HBox(children=(HTML(value='Training batches on cuda'), FloatProgress(value=0.0, max=340.0), HTML(value='')))"
      ]
     },
     "metadata": {},
     "output_type": "display_data"
    },
    {
     "data": {
      "application/vnd.jupyter.widget-view+json": {
       "model_id": "",
       "version_major": 2,
       "version_minor": 0
      },
      "text/plain": [
       "HBox(children=(HTML(value='Training batches on cuda'), FloatProgress(value=0.0, max=340.0), HTML(value='')))"
      ]
     },
     "metadata": {},
     "output_type": "display_data"
    },
    {
     "data": {
      "application/vnd.jupyter.widget-view+json": {
       "model_id": "",
       "version_major": 2,
       "version_minor": 0
      },
      "text/plain": [
       "HBox(children=(HTML(value='Training batches on cuda'), FloatProgress(value=0.0, max=340.0), HTML(value='')))"
      ]
     },
     "metadata": {},
     "output_type": "display_data"
    },
    {
     "data": {
      "application/vnd.jupyter.widget-view+json": {
       "model_id": "",
       "version_major": 2,
       "version_minor": 0
      },
      "text/plain": [
       "HBox(children=(HTML(value='Training batches on cuda'), FloatProgress(value=0.0, max=340.0), HTML(value='')))"
      ]
     },
     "metadata": {},
     "output_type": "display_data"
    },
    {
     "data": {
      "application/vnd.jupyter.widget-view+json": {
       "model_id": "",
       "version_major": 2,
       "version_minor": 0
      },
      "text/plain": [
       "HBox(children=(HTML(value='Training batches on cuda'), FloatProgress(value=0.0, max=340.0), HTML(value='')))"
      ]
     },
     "metadata": {},
     "output_type": "display_data"
    },
    {
     "data": {
      "application/vnd.jupyter.widget-view+json": {
       "model_id": "",
       "version_major": 2,
       "version_minor": 0
      },
      "text/plain": [
       "HBox(children=(HTML(value='Training batches on cuda'), FloatProgress(value=0.0, max=340.0), HTML(value='')))"
      ]
     },
     "metadata": {},
     "output_type": "display_data"
    },
    {
     "data": {
      "application/vnd.jupyter.widget-view+json": {
       "model_id": "",
       "version_major": 2,
       "version_minor": 0
      },
      "text/plain": [
       "HBox(children=(HTML(value='Training batches on cuda'), FloatProgress(value=0.0, max=340.0), HTML(value='')))"
      ]
     },
     "metadata": {},
     "output_type": "display_data"
    },
    {
     "data": {
      "application/vnd.jupyter.widget-view+json": {
       "model_id": "",
       "version_major": 2,
       "version_minor": 0
      },
      "text/plain": [
       "HBox(children=(HTML(value='Training batches on cuda'), FloatProgress(value=0.0, max=340.0), HTML(value='')))"
      ]
     },
     "metadata": {},
     "output_type": "display_data"
    },
    {
     "data": {
      "application/vnd.jupyter.widget-view+json": {
       "model_id": "",
       "version_major": 2,
       "version_minor": 0
      },
      "text/plain": [
       "HBox(children=(HTML(value='Training batches on cuda'), FloatProgress(value=0.0, max=340.0), HTML(value='')))"
      ]
     },
     "metadata": {},
     "output_type": "display_data"
    },
    {
     "data": {
      "application/vnd.jupyter.widget-view+json": {
       "model_id": "",
       "version_major": 2,
       "version_minor": 0
      },
      "text/plain": [
       "HBox(children=(HTML(value='Training batches on cuda'), FloatProgress(value=0.0, max=340.0), HTML(value='')))"
      ]
     },
     "metadata": {},
     "output_type": "display_data"
    },
    {
     "data": {
      "application/vnd.jupyter.widget-view+json": {
       "model_id": "",
       "version_major": 2,
       "version_minor": 0
      },
      "text/plain": [
       "HBox(children=(HTML(value='Training batches on cuda'), FloatProgress(value=0.0, max=340.0), HTML(value='')))"
      ]
     },
     "metadata": {},
     "output_type": "display_data"
    },
    {
     "data": {
      "application/vnd.jupyter.widget-view+json": {
       "model_id": "",
       "version_major": 2,
       "version_minor": 0
      },
      "text/plain": [
       "HBox(children=(HTML(value='Training batches on cuda'), FloatProgress(value=0.0, max=340.0), HTML(value='')))"
      ]
     },
     "metadata": {},
     "output_type": "display_data"
    },
    {
     "data": {
      "application/vnd.jupyter.widget-view+json": {
       "model_id": "",
       "version_major": 2,
       "version_minor": 0
      },
      "text/plain": [
       "HBox(children=(HTML(value='Training batches on cuda'), FloatProgress(value=0.0, max=340.0), HTML(value='')))"
      ]
     },
     "metadata": {},
     "output_type": "display_data"
    },
    {
     "data": {
      "application/vnd.jupyter.widget-view+json": {
       "model_id": "",
       "version_major": 2,
       "version_minor": 0
      },
      "text/plain": [
       "HBox(children=(HTML(value='Training batches on cuda'), FloatProgress(value=0.0, max=340.0), HTML(value='')))"
      ]
     },
     "metadata": {},
     "output_type": "display_data"
    },
    {
     "data": {
      "application/vnd.jupyter.widget-view+json": {
       "model_id": "",
       "version_major": 2,
       "version_minor": 0
      },
      "text/plain": [
       "HBox(children=(HTML(value='Training batches on cuda'), FloatProgress(value=0.0, max=340.0), HTML(value='')))"
      ]
     },
     "metadata": {},
     "output_type": "display_data"
    },
    {
     "data": {
      "application/vnd.jupyter.widget-view+json": {
       "model_id": "",
       "version_major": 2,
       "version_minor": 0
      },
      "text/plain": [
       "HBox(children=(HTML(value='Training batches on cuda'), FloatProgress(value=0.0, max=340.0), HTML(value='')))"
      ]
     },
     "metadata": {},
     "output_type": "display_data"
    },
    {
     "data": {
      "application/vnd.jupyter.widget-view+json": {
       "model_id": "",
       "version_major": 2,
       "version_minor": 0
      },
      "text/plain": [
       "HBox(children=(HTML(value='Training batches on cuda'), FloatProgress(value=0.0, max=340.0), HTML(value='')))"
      ]
     },
     "metadata": {},
     "output_type": "display_data"
    },
    {
     "data": {
      "application/vnd.jupyter.widget-view+json": {
       "model_id": "",
       "version_major": 2,
       "version_minor": 0
      },
      "text/plain": [
       "HBox(children=(HTML(value='Training batches on cuda'), FloatProgress(value=0.0, max=340.0), HTML(value='')))"
      ]
     },
     "metadata": {},
     "output_type": "display_data"
    },
    {
     "data": {
      "application/vnd.jupyter.widget-view+json": {
       "model_id": "",
       "version_major": 2,
       "version_minor": 0
      },
      "text/plain": [
       "HBox(children=(HTML(value='Training batches on cuda'), FloatProgress(value=0.0, max=340.0), HTML(value='')))"
      ]
     },
     "metadata": {},
     "output_type": "display_data"
    },
    {
     "data": {
      "application/vnd.jupyter.widget-view+json": {
       "model_id": "",
       "version_major": 2,
       "version_minor": 0
      },
      "text/plain": [
       "HBox(children=(HTML(value='Training batches on cuda'), FloatProgress(value=0.0, max=340.0), HTML(value='')))"
      ]
     },
     "metadata": {},
     "output_type": "display_data"
    },
    {
     "data": {
      "application/vnd.jupyter.widget-view+json": {
       "model_id": "",
       "version_major": 2,
       "version_minor": 0
      },
      "text/plain": [
       "HBox(children=(HTML(value='Training batches on cuda'), FloatProgress(value=0.0, max=340.0), HTML(value='')))"
      ]
     },
     "metadata": {},
     "output_type": "display_data"
    },
    {
     "data": {
      "application/vnd.jupyter.widget-view+json": {
       "model_id": "",
       "version_major": 2,
       "version_minor": 0
      },
      "text/plain": [
       "HBox(children=(HTML(value='Training batches on cuda'), FloatProgress(value=0.0, max=340.0), HTML(value='')))"
      ]
     },
     "metadata": {},
     "output_type": "display_data"
    },
    {
     "data": {
      "application/vnd.jupyter.widget-view+json": {
       "model_id": "",
       "version_major": 2,
       "version_minor": 0
      },
      "text/plain": [
       "HBox(children=(HTML(value='Training batches on cuda'), FloatProgress(value=0.0, max=340.0), HTML(value='')))"
      ]
     },
     "metadata": {},
     "output_type": "display_data"
    },
    {
     "data": {
      "application/vnd.jupyter.widget-view+json": {
       "model_id": "",
       "version_major": 2,
       "version_minor": 0
      },
      "text/plain": [
       "HBox(children=(HTML(value='Training batches on cuda'), FloatProgress(value=0.0, max=340.0), HTML(value='')))"
      ]
     },
     "metadata": {},
     "output_type": "display_data"
    },
    {
     "data": {
      "application/vnd.jupyter.widget-view+json": {
       "model_id": "",
       "version_major": 2,
       "version_minor": 0
      },
      "text/plain": [
       "HBox(children=(HTML(value='Training batches on cuda'), FloatProgress(value=0.0, max=340.0), HTML(value='')))"
      ]
     },
     "metadata": {},
     "output_type": "display_data"
    },
    {
     "data": {
      "application/vnd.jupyter.widget-view+json": {
       "model_id": "",
       "version_major": 2,
       "version_minor": 0
      },
      "text/plain": [
       "HBox(children=(HTML(value='Training batches on cuda'), FloatProgress(value=0.0, max=340.0), HTML(value='')))"
      ]
     },
     "metadata": {},
     "output_type": "display_data"
    },
    {
     "data": {
      "application/vnd.jupyter.widget-view+json": {
       "model_id": "",
       "version_major": 2,
       "version_minor": 0
      },
      "text/plain": [
       "HBox(children=(HTML(value='Training batches on cuda'), FloatProgress(value=0.0, max=340.0), HTML(value='')))"
      ]
     },
     "metadata": {},
     "output_type": "display_data"
    },
    {
     "data": {
      "application/vnd.jupyter.widget-view+json": {
       "model_id": "",
       "version_major": 2,
       "version_minor": 0
      },
      "text/plain": [
       "HBox(children=(HTML(value='Training batches on cuda'), FloatProgress(value=0.0, max=340.0), HTML(value='')))"
      ]
     },
     "metadata": {},
     "output_type": "display_data"
    },
    {
     "data": {
      "application/vnd.jupyter.widget-view+json": {
       "model_id": "",
       "version_major": 2,
       "version_minor": 0
      },
      "text/plain": [
       "HBox(children=(HTML(value='Training batches on cuda'), FloatProgress(value=0.0, max=340.0), HTML(value='')))"
      ]
     },
     "metadata": {},
     "output_type": "display_data"
    },
    {
     "data": {
      "application/vnd.jupyter.widget-view+json": {
       "model_id": "",
       "version_major": 2,
       "version_minor": 0
      },
      "text/plain": [
       "HBox(children=(HTML(value='Training batches on cuda'), FloatProgress(value=0.0, max=340.0), HTML(value='')))"
      ]
     },
     "metadata": {},
     "output_type": "display_data"
    },
    {
     "data": {
      "application/vnd.jupyter.widget-view+json": {
       "model_id": "",
       "version_major": 2,
       "version_minor": 0
      },
      "text/plain": [
       "HBox(children=(HTML(value='Training batches on cuda'), FloatProgress(value=0.0, max=340.0), HTML(value='')))"
      ]
     },
     "metadata": {},
     "output_type": "display_data"
    },
    {
     "data": {
      "application/vnd.jupyter.widget-view+json": {
       "model_id": "",
       "version_major": 2,
       "version_minor": 0
      },
      "text/plain": [
       "HBox(children=(HTML(value='Training batches on cuda'), FloatProgress(value=0.0, max=340.0), HTML(value='')))"
      ]
     },
     "metadata": {},
     "output_type": "display_data"
    },
    {
     "data": {
      "application/vnd.jupyter.widget-view+json": {
       "model_id": "",
       "version_major": 2,
       "version_minor": 0
      },
      "text/plain": [
       "HBox(children=(HTML(value='Training batches on cuda'), FloatProgress(value=0.0, max=340.0), HTML(value='')))"
      ]
     },
     "metadata": {},
     "output_type": "display_data"
    },
    {
     "data": {
      "application/vnd.jupyter.widget-view+json": {
       "model_id": "",
       "version_major": 2,
       "version_minor": 0
      },
      "text/plain": [
       "HBox(children=(HTML(value='Training batches on cuda'), FloatProgress(value=0.0, max=340.0), HTML(value='')))"
      ]
     },
     "metadata": {},
     "output_type": "display_data"
    },
    {
     "data": {
      "application/vnd.jupyter.widget-view+json": {
       "model_id": "",
       "version_major": 2,
       "version_minor": 0
      },
      "text/plain": [
       "HBox(children=(HTML(value='Training batches on cuda'), FloatProgress(value=0.0, max=340.0), HTML(value='')))"
      ]
     },
     "metadata": {},
     "output_type": "display_data"
    },
    {
     "data": {
      "application/vnd.jupyter.widget-view+json": {
       "model_id": "",
       "version_major": 2,
       "version_minor": 0
      },
      "text/plain": [
       "HBox(children=(HTML(value='Training batches on cuda'), FloatProgress(value=0.0, max=340.0), HTML(value='')))"
      ]
     },
     "metadata": {},
     "output_type": "display_data"
    },
    {
     "data": {
      "application/vnd.jupyter.widget-view+json": {
       "model_id": "",
       "version_major": 2,
       "version_minor": 0
      },
      "text/plain": [
       "HBox(children=(HTML(value='Training batches on cuda'), FloatProgress(value=0.0, max=340.0), HTML(value='')))"
      ]
     },
     "metadata": {},
     "output_type": "display_data"
    },
    {
     "data": {
      "application/vnd.jupyter.widget-view+json": {
       "model_id": "",
       "version_major": 2,
       "version_minor": 0
      },
      "text/plain": [
       "HBox(children=(HTML(value='Training batches on cuda'), FloatProgress(value=0.0, max=340.0), HTML(value='')))"
      ]
     },
     "metadata": {},
     "output_type": "display_data"
    },
    {
     "data": {
      "application/vnd.jupyter.widget-view+json": {
       "model_id": "",
       "version_major": 2,
       "version_minor": 0
      },
      "text/plain": [
       "HBox(children=(HTML(value='Training batches on cuda'), FloatProgress(value=0.0, max=340.0), HTML(value='')))"
      ]
     },
     "metadata": {},
     "output_type": "display_data"
    },
    {
     "data": {
      "application/vnd.jupyter.widget-view+json": {
       "model_id": "",
       "version_major": 2,
       "version_minor": 0
      },
      "text/plain": [
       "HBox(children=(HTML(value='Training batches on cuda'), FloatProgress(value=0.0, max=340.0), HTML(value='')))"
      ]
     },
     "metadata": {},
     "output_type": "display_data"
    },
    {
     "data": {
      "application/vnd.jupyter.widget-view+json": {
       "model_id": "",
       "version_major": 2,
       "version_minor": 0
      },
      "text/plain": [
       "HBox(children=(HTML(value='Training batches on cuda'), FloatProgress(value=0.0, max=340.0), HTML(value='')))"
      ]
     },
     "metadata": {},
     "output_type": "display_data"
    },
    {
     "name": "stderr",
     "output_type": "stream",
     "text": [
      "INFO:pykeen.evaluation.evaluator:Starting batch_size search for evaluation now...\n"
     ]
    },
    {
     "name": "stdout",
     "output_type": "stream",
     "text": [
      "\n"
     ]
    },
    {
     "name": "stderr",
     "output_type": "stream",
     "text": [
      "INFO:pykeen.evaluation.evaluator:Concluded batch_size search with batch_size=128.\n"
     ]
    },
    {
     "data": {
      "application/vnd.jupyter.widget-view+json": {
       "model_id": "b6bd5b1f8697454bae68fc88b292fbc0",
       "version_major": 2,
       "version_minor": 0
      },
      "text/plain": [
       "HBox(children=(HTML(value='Evaluating on cuda'), FloatProgress(value=0.0, max=2924.0), HTML(value='')))"
      ]
     },
     "metadata": {},
     "output_type": "display_data"
    },
    {
     "name": "stderr",
     "output_type": "stream",
     "text": [
      "INFO:pykeen.evaluation.evaluator:Evaluation took 2.99s seconds\n"
     ]
    },
    {
     "name": "stdout",
     "output_type": "stream",
     "text": [
      "\n"
     ]
    }
   ],
   "source": [
    "transe_results = pipeline(\n",
    "        dataset=dataset,\n",
    "        model='TransE',\n",
    "        random_seed=1235,\n",
    "        device='gpu',\n",
    "        training_kwargs=dict(num_epochs=num_epochs),\n",
    "        model_kwargs=dict(embedding_dim=embedding_dim),\n",
    "        loss='SoftplusLoss',\n",
    "        training_loop='slcwa',\n",
    "        loss_kwargs=dict()\n",
    "    )"
   ]
  },
  {
   "cell_type": "code",
   "execution_count": 7,
   "metadata": {},
   "outputs": [
    {
     "name": "stderr",
     "output_type": "stream",
     "text": [
      "WARNING:pykeen.triples.triples_factory:You're trying to map triples with 212 entities and 0 relations that are not in the training set. These triples will be excluded from the mapping.\n",
      "WARNING:pykeen.triples.triples_factory:In total 210 from 3134 triples were filtered out\n",
      "WARNING:pykeen.triples.triples_factory:You're trying to map triples with 211 entities and 0 relations that are not in the training set. These triples will be excluded from the mapping.\n",
      "WARNING:pykeen.triples.triples_factory:In total 210 from 3034 triples were filtered out\n"
     ]
    },
    {
     "data": {
      "application/vnd.jupyter.widget-view+json": {
       "model_id": "b24ed6188f3645d2ad6ae804524d5efb",
       "version_major": 2,
       "version_minor": 0
      },
      "text/plain": [
       "HBox(children=(HTML(value='Training epochs on cuda'), FloatProgress(value=0.0), HTML(value='')))"
      ]
     },
     "metadata": {},
     "output_type": "display_data"
    },
    {
     "data": {
      "application/vnd.jupyter.widget-view+json": {
       "model_id": "",
       "version_major": 2,
       "version_minor": 0
      },
      "text/plain": [
       "HBox(children=(HTML(value='Training batches on cuda'), FloatProgress(value=0.0, max=340.0), HTML(value='')))"
      ]
     },
     "metadata": {},
     "output_type": "display_data"
    },
    {
     "data": {
      "application/vnd.jupyter.widget-view+json": {
       "model_id": "",
       "version_major": 2,
       "version_minor": 0
      },
      "text/plain": [
       "HBox(children=(HTML(value='Training batches on cuda'), FloatProgress(value=0.0, max=340.0), HTML(value='')))"
      ]
     },
     "metadata": {},
     "output_type": "display_data"
    },
    {
     "data": {
      "application/vnd.jupyter.widget-view+json": {
       "model_id": "",
       "version_major": 2,
       "version_minor": 0
      },
      "text/plain": [
       "HBox(children=(HTML(value='Training batches on cuda'), FloatProgress(value=0.0, max=340.0), HTML(value='')))"
      ]
     },
     "metadata": {},
     "output_type": "display_data"
    },
    {
     "data": {
      "application/vnd.jupyter.widget-view+json": {
       "model_id": "",
       "version_major": 2,
       "version_minor": 0
      },
      "text/plain": [
       "HBox(children=(HTML(value='Training batches on cuda'), FloatProgress(value=0.0, max=340.0), HTML(value='')))"
      ]
     },
     "metadata": {},
     "output_type": "display_data"
    },
    {
     "data": {
      "application/vnd.jupyter.widget-view+json": {
       "model_id": "",
       "version_major": 2,
       "version_minor": 0
      },
      "text/plain": [
       "HBox(children=(HTML(value='Training batches on cuda'), FloatProgress(value=0.0, max=340.0), HTML(value='')))"
      ]
     },
     "metadata": {},
     "output_type": "display_data"
    },
    {
     "data": {
      "application/vnd.jupyter.widget-view+json": {
       "model_id": "",
       "version_major": 2,
       "version_minor": 0
      },
      "text/plain": [
       "HBox(children=(HTML(value='Training batches on cuda'), FloatProgress(value=0.0, max=340.0), HTML(value='')))"
      ]
     },
     "metadata": {},
     "output_type": "display_data"
    },
    {
     "data": {
      "application/vnd.jupyter.widget-view+json": {
       "model_id": "",
       "version_major": 2,
       "version_minor": 0
      },
      "text/plain": [
       "HBox(children=(HTML(value='Training batches on cuda'), FloatProgress(value=0.0, max=340.0), HTML(value='')))"
      ]
     },
     "metadata": {},
     "output_type": "display_data"
    },
    {
     "data": {
      "application/vnd.jupyter.widget-view+json": {
       "model_id": "",
       "version_major": 2,
       "version_minor": 0
      },
      "text/plain": [
       "HBox(children=(HTML(value='Training batches on cuda'), FloatProgress(value=0.0, max=340.0), HTML(value='')))"
      ]
     },
     "metadata": {},
     "output_type": "display_data"
    },
    {
     "data": {
      "application/vnd.jupyter.widget-view+json": {
       "model_id": "",
       "version_major": 2,
       "version_minor": 0
      },
      "text/plain": [
       "HBox(children=(HTML(value='Training batches on cuda'), FloatProgress(value=0.0, max=340.0), HTML(value='')))"
      ]
     },
     "metadata": {},
     "output_type": "display_data"
    },
    {
     "data": {
      "application/vnd.jupyter.widget-view+json": {
       "model_id": "",
       "version_major": 2,
       "version_minor": 0
      },
      "text/plain": [
       "HBox(children=(HTML(value='Training batches on cuda'), FloatProgress(value=0.0, max=340.0), HTML(value='')))"
      ]
     },
     "metadata": {},
     "output_type": "display_data"
    },
    {
     "data": {
      "application/vnd.jupyter.widget-view+json": {
       "model_id": "",
       "version_major": 2,
       "version_minor": 0
      },
      "text/plain": [
       "HBox(children=(HTML(value='Training batches on cuda'), FloatProgress(value=0.0, max=340.0), HTML(value='')))"
      ]
     },
     "metadata": {},
     "output_type": "display_data"
    },
    {
     "data": {
      "application/vnd.jupyter.widget-view+json": {
       "model_id": "",
       "version_major": 2,
       "version_minor": 0
      },
      "text/plain": [
       "HBox(children=(HTML(value='Training batches on cuda'), FloatProgress(value=0.0, max=340.0), HTML(value='')))"
      ]
     },
     "metadata": {},
     "output_type": "display_data"
    },
    {
     "data": {
      "application/vnd.jupyter.widget-view+json": {
       "model_id": "",
       "version_major": 2,
       "version_minor": 0
      },
      "text/plain": [
       "HBox(children=(HTML(value='Training batches on cuda'), FloatProgress(value=0.0, max=340.0), HTML(value='')))"
      ]
     },
     "metadata": {},
     "output_type": "display_data"
    },
    {
     "data": {
      "application/vnd.jupyter.widget-view+json": {
       "model_id": "",
       "version_major": 2,
       "version_minor": 0
      },
      "text/plain": [
       "HBox(children=(HTML(value='Training batches on cuda'), FloatProgress(value=0.0, max=340.0), HTML(value='')))"
      ]
     },
     "metadata": {},
     "output_type": "display_data"
    },
    {
     "data": {
      "application/vnd.jupyter.widget-view+json": {
       "model_id": "",
       "version_major": 2,
       "version_minor": 0
      },
      "text/plain": [
       "HBox(children=(HTML(value='Training batches on cuda'), FloatProgress(value=0.0, max=340.0), HTML(value='')))"
      ]
     },
     "metadata": {},
     "output_type": "display_data"
    },
    {
     "data": {
      "application/vnd.jupyter.widget-view+json": {
       "model_id": "",
       "version_major": 2,
       "version_minor": 0
      },
      "text/plain": [
       "HBox(children=(HTML(value='Training batches on cuda'), FloatProgress(value=0.0, max=340.0), HTML(value='')))"
      ]
     },
     "metadata": {},
     "output_type": "display_data"
    },
    {
     "data": {
      "application/vnd.jupyter.widget-view+json": {
       "model_id": "",
       "version_major": 2,
       "version_minor": 0
      },
      "text/plain": [
       "HBox(children=(HTML(value='Training batches on cuda'), FloatProgress(value=0.0, max=340.0), HTML(value='')))"
      ]
     },
     "metadata": {},
     "output_type": "display_data"
    },
    {
     "data": {
      "application/vnd.jupyter.widget-view+json": {
       "model_id": "",
       "version_major": 2,
       "version_minor": 0
      },
      "text/plain": [
       "HBox(children=(HTML(value='Training batches on cuda'), FloatProgress(value=0.0, max=340.0), HTML(value='')))"
      ]
     },
     "metadata": {},
     "output_type": "display_data"
    },
    {
     "data": {
      "application/vnd.jupyter.widget-view+json": {
       "model_id": "",
       "version_major": 2,
       "version_minor": 0
      },
      "text/plain": [
       "HBox(children=(HTML(value='Training batches on cuda'), FloatProgress(value=0.0, max=340.0), HTML(value='')))"
      ]
     },
     "metadata": {},
     "output_type": "display_data"
    },
    {
     "data": {
      "application/vnd.jupyter.widget-view+json": {
       "model_id": "",
       "version_major": 2,
       "version_minor": 0
      },
      "text/plain": [
       "HBox(children=(HTML(value='Training batches on cuda'), FloatProgress(value=0.0, max=340.0), HTML(value='')))"
      ]
     },
     "metadata": {},
     "output_type": "display_data"
    },
    {
     "data": {
      "application/vnd.jupyter.widget-view+json": {
       "model_id": "",
       "version_major": 2,
       "version_minor": 0
      },
      "text/plain": [
       "HBox(children=(HTML(value='Training batches on cuda'), FloatProgress(value=0.0, max=340.0), HTML(value='')))"
      ]
     },
     "metadata": {},
     "output_type": "display_data"
    },
    {
     "data": {
      "application/vnd.jupyter.widget-view+json": {
       "model_id": "",
       "version_major": 2,
       "version_minor": 0
      },
      "text/plain": [
       "HBox(children=(HTML(value='Training batches on cuda'), FloatProgress(value=0.0, max=340.0), HTML(value='')))"
      ]
     },
     "metadata": {},
     "output_type": "display_data"
    },
    {
     "data": {
      "application/vnd.jupyter.widget-view+json": {
       "model_id": "",
       "version_major": 2,
       "version_minor": 0
      },
      "text/plain": [
       "HBox(children=(HTML(value='Training batches on cuda'), FloatProgress(value=0.0, max=340.0), HTML(value='')))"
      ]
     },
     "metadata": {},
     "output_type": "display_data"
    },
    {
     "data": {
      "application/vnd.jupyter.widget-view+json": {
       "model_id": "",
       "version_major": 2,
       "version_minor": 0
      },
      "text/plain": [
       "HBox(children=(HTML(value='Training batches on cuda'), FloatProgress(value=0.0, max=340.0), HTML(value='')))"
      ]
     },
     "metadata": {},
     "output_type": "display_data"
    },
    {
     "data": {
      "application/vnd.jupyter.widget-view+json": {
       "model_id": "",
       "version_major": 2,
       "version_minor": 0
      },
      "text/plain": [
       "HBox(children=(HTML(value='Training batches on cuda'), FloatProgress(value=0.0, max=340.0), HTML(value='')))"
      ]
     },
     "metadata": {},
     "output_type": "display_data"
    },
    {
     "data": {
      "application/vnd.jupyter.widget-view+json": {
       "model_id": "",
       "version_major": 2,
       "version_minor": 0
      },
      "text/plain": [
       "HBox(children=(HTML(value='Training batches on cuda'), FloatProgress(value=0.0, max=340.0), HTML(value='')))"
      ]
     },
     "metadata": {},
     "output_type": "display_data"
    },
    {
     "data": {
      "application/vnd.jupyter.widget-view+json": {
       "model_id": "",
       "version_major": 2,
       "version_minor": 0
      },
      "text/plain": [
       "HBox(children=(HTML(value='Training batches on cuda'), FloatProgress(value=0.0, max=340.0), HTML(value='')))"
      ]
     },
     "metadata": {},
     "output_type": "display_data"
    },
    {
     "data": {
      "application/vnd.jupyter.widget-view+json": {
       "model_id": "",
       "version_major": 2,
       "version_minor": 0
      },
      "text/plain": [
       "HBox(children=(HTML(value='Training batches on cuda'), FloatProgress(value=0.0, max=340.0), HTML(value='')))"
      ]
     },
     "metadata": {},
     "output_type": "display_data"
    },
    {
     "data": {
      "application/vnd.jupyter.widget-view+json": {
       "model_id": "",
       "version_major": 2,
       "version_minor": 0
      },
      "text/plain": [
       "HBox(children=(HTML(value='Training batches on cuda'), FloatProgress(value=0.0, max=340.0), HTML(value='')))"
      ]
     },
     "metadata": {},
     "output_type": "display_data"
    },
    {
     "data": {
      "application/vnd.jupyter.widget-view+json": {
       "model_id": "",
       "version_major": 2,
       "version_minor": 0
      },
      "text/plain": [
       "HBox(children=(HTML(value='Training batches on cuda'), FloatProgress(value=0.0, max=340.0), HTML(value='')))"
      ]
     },
     "metadata": {},
     "output_type": "display_data"
    },
    {
     "data": {
      "application/vnd.jupyter.widget-view+json": {
       "model_id": "",
       "version_major": 2,
       "version_minor": 0
      },
      "text/plain": [
       "HBox(children=(HTML(value='Training batches on cuda'), FloatProgress(value=0.0, max=340.0), HTML(value='')))"
      ]
     },
     "metadata": {},
     "output_type": "display_data"
    },
    {
     "data": {
      "application/vnd.jupyter.widget-view+json": {
       "model_id": "",
       "version_major": 2,
       "version_minor": 0
      },
      "text/plain": [
       "HBox(children=(HTML(value='Training batches on cuda'), FloatProgress(value=0.0, max=340.0), HTML(value='')))"
      ]
     },
     "metadata": {},
     "output_type": "display_data"
    },
    {
     "data": {
      "application/vnd.jupyter.widget-view+json": {
       "model_id": "",
       "version_major": 2,
       "version_minor": 0
      },
      "text/plain": [
       "HBox(children=(HTML(value='Training batches on cuda'), FloatProgress(value=0.0, max=340.0), HTML(value='')))"
      ]
     },
     "metadata": {},
     "output_type": "display_data"
    },
    {
     "data": {
      "application/vnd.jupyter.widget-view+json": {
       "model_id": "",
       "version_major": 2,
       "version_minor": 0
      },
      "text/plain": [
       "HBox(children=(HTML(value='Training batches on cuda'), FloatProgress(value=0.0, max=340.0), HTML(value='')))"
      ]
     },
     "metadata": {},
     "output_type": "display_data"
    },
    {
     "data": {
      "application/vnd.jupyter.widget-view+json": {
       "model_id": "",
       "version_major": 2,
       "version_minor": 0
      },
      "text/plain": [
       "HBox(children=(HTML(value='Training batches on cuda'), FloatProgress(value=0.0, max=340.0), HTML(value='')))"
      ]
     },
     "metadata": {},
     "output_type": "display_data"
    },
    {
     "data": {
      "application/vnd.jupyter.widget-view+json": {
       "model_id": "",
       "version_major": 2,
       "version_minor": 0
      },
      "text/plain": [
       "HBox(children=(HTML(value='Training batches on cuda'), FloatProgress(value=0.0, max=340.0), HTML(value='')))"
      ]
     },
     "metadata": {},
     "output_type": "display_data"
    },
    {
     "data": {
      "application/vnd.jupyter.widget-view+json": {
       "model_id": "",
       "version_major": 2,
       "version_minor": 0
      },
      "text/plain": [
       "HBox(children=(HTML(value='Training batches on cuda'), FloatProgress(value=0.0, max=340.0), HTML(value='')))"
      ]
     },
     "metadata": {},
     "output_type": "display_data"
    },
    {
     "data": {
      "application/vnd.jupyter.widget-view+json": {
       "model_id": "",
       "version_major": 2,
       "version_minor": 0
      },
      "text/plain": [
       "HBox(children=(HTML(value='Training batches on cuda'), FloatProgress(value=0.0, max=340.0), HTML(value='')))"
      ]
     },
     "metadata": {},
     "output_type": "display_data"
    },
    {
     "data": {
      "application/vnd.jupyter.widget-view+json": {
       "model_id": "",
       "version_major": 2,
       "version_minor": 0
      },
      "text/plain": [
       "HBox(children=(HTML(value='Training batches on cuda'), FloatProgress(value=0.0, max=340.0), HTML(value='')))"
      ]
     },
     "metadata": {},
     "output_type": "display_data"
    },
    {
     "data": {
      "application/vnd.jupyter.widget-view+json": {
       "model_id": "",
       "version_major": 2,
       "version_minor": 0
      },
      "text/plain": [
       "HBox(children=(HTML(value='Training batches on cuda'), FloatProgress(value=0.0, max=340.0), HTML(value='')))"
      ]
     },
     "metadata": {},
     "output_type": "display_data"
    },
    {
     "data": {
      "application/vnd.jupyter.widget-view+json": {
       "model_id": "",
       "version_major": 2,
       "version_minor": 0
      },
      "text/plain": [
       "HBox(children=(HTML(value='Training batches on cuda'), FloatProgress(value=0.0, max=340.0), HTML(value='')))"
      ]
     },
     "metadata": {},
     "output_type": "display_data"
    },
    {
     "data": {
      "application/vnd.jupyter.widget-view+json": {
       "model_id": "",
       "version_major": 2,
       "version_minor": 0
      },
      "text/plain": [
       "HBox(children=(HTML(value='Training batches on cuda'), FloatProgress(value=0.0, max=340.0), HTML(value='')))"
      ]
     },
     "metadata": {},
     "output_type": "display_data"
    },
    {
     "data": {
      "application/vnd.jupyter.widget-view+json": {
       "model_id": "",
       "version_major": 2,
       "version_minor": 0
      },
      "text/plain": [
       "HBox(children=(HTML(value='Training batches on cuda'), FloatProgress(value=0.0, max=340.0), HTML(value='')))"
      ]
     },
     "metadata": {},
     "output_type": "display_data"
    },
    {
     "data": {
      "application/vnd.jupyter.widget-view+json": {
       "model_id": "",
       "version_major": 2,
       "version_minor": 0
      },
      "text/plain": [
       "HBox(children=(HTML(value='Training batches on cuda'), FloatProgress(value=0.0, max=340.0), HTML(value='')))"
      ]
     },
     "metadata": {},
     "output_type": "display_data"
    },
    {
     "data": {
      "application/vnd.jupyter.widget-view+json": {
       "model_id": "",
       "version_major": 2,
       "version_minor": 0
      },
      "text/plain": [
       "HBox(children=(HTML(value='Training batches on cuda'), FloatProgress(value=0.0, max=340.0), HTML(value='')))"
      ]
     },
     "metadata": {},
     "output_type": "display_data"
    },
    {
     "data": {
      "application/vnd.jupyter.widget-view+json": {
       "model_id": "",
       "version_major": 2,
       "version_minor": 0
      },
      "text/plain": [
       "HBox(children=(HTML(value='Training batches on cuda'), FloatProgress(value=0.0, max=340.0), HTML(value='')))"
      ]
     },
     "metadata": {},
     "output_type": "display_data"
    },
    {
     "data": {
      "application/vnd.jupyter.widget-view+json": {
       "model_id": "",
       "version_major": 2,
       "version_minor": 0
      },
      "text/plain": [
       "HBox(children=(HTML(value='Training batches on cuda'), FloatProgress(value=0.0, max=340.0), HTML(value='')))"
      ]
     },
     "metadata": {},
     "output_type": "display_data"
    },
    {
     "data": {
      "application/vnd.jupyter.widget-view+json": {
       "model_id": "",
       "version_major": 2,
       "version_minor": 0
      },
      "text/plain": [
       "HBox(children=(HTML(value='Training batches on cuda'), FloatProgress(value=0.0, max=340.0), HTML(value='')))"
      ]
     },
     "metadata": {},
     "output_type": "display_data"
    },
    {
     "data": {
      "application/vnd.jupyter.widget-view+json": {
       "model_id": "",
       "version_major": 2,
       "version_minor": 0
      },
      "text/plain": [
       "HBox(children=(HTML(value='Training batches on cuda'), FloatProgress(value=0.0, max=340.0), HTML(value='')))"
      ]
     },
     "metadata": {},
     "output_type": "display_data"
    },
    {
     "data": {
      "application/vnd.jupyter.widget-view+json": {
       "model_id": "",
       "version_major": 2,
       "version_minor": 0
      },
      "text/plain": [
       "HBox(children=(HTML(value='Training batches on cuda'), FloatProgress(value=0.0, max=340.0), HTML(value='')))"
      ]
     },
     "metadata": {},
     "output_type": "display_data"
    },
    {
     "data": {
      "application/vnd.jupyter.widget-view+json": {
       "model_id": "",
       "version_major": 2,
       "version_minor": 0
      },
      "text/plain": [
       "HBox(children=(HTML(value='Training batches on cuda'), FloatProgress(value=0.0, max=340.0), HTML(value='')))"
      ]
     },
     "metadata": {},
     "output_type": "display_data"
    },
    {
     "data": {
      "application/vnd.jupyter.widget-view+json": {
       "model_id": "",
       "version_major": 2,
       "version_minor": 0
      },
      "text/plain": [
       "HBox(children=(HTML(value='Training batches on cuda'), FloatProgress(value=0.0, max=340.0), HTML(value='')))"
      ]
     },
     "metadata": {},
     "output_type": "display_data"
    },
    {
     "data": {
      "application/vnd.jupyter.widget-view+json": {
       "model_id": "",
       "version_major": 2,
       "version_minor": 0
      },
      "text/plain": [
       "HBox(children=(HTML(value='Training batches on cuda'), FloatProgress(value=0.0, max=340.0), HTML(value='')))"
      ]
     },
     "metadata": {},
     "output_type": "display_data"
    },
    {
     "data": {
      "application/vnd.jupyter.widget-view+json": {
       "model_id": "",
       "version_major": 2,
       "version_minor": 0
      },
      "text/plain": [
       "HBox(children=(HTML(value='Training batches on cuda'), FloatProgress(value=0.0, max=340.0), HTML(value='')))"
      ]
     },
     "metadata": {},
     "output_type": "display_data"
    },
    {
     "data": {
      "application/vnd.jupyter.widget-view+json": {
       "model_id": "",
       "version_major": 2,
       "version_minor": 0
      },
      "text/plain": [
       "HBox(children=(HTML(value='Training batches on cuda'), FloatProgress(value=0.0, max=340.0), HTML(value='')))"
      ]
     },
     "metadata": {},
     "output_type": "display_data"
    },
    {
     "data": {
      "application/vnd.jupyter.widget-view+json": {
       "model_id": "",
       "version_major": 2,
       "version_minor": 0
      },
      "text/plain": [
       "HBox(children=(HTML(value='Training batches on cuda'), FloatProgress(value=0.0, max=340.0), HTML(value='')))"
      ]
     },
     "metadata": {},
     "output_type": "display_data"
    },
    {
     "data": {
      "application/vnd.jupyter.widget-view+json": {
       "model_id": "",
       "version_major": 2,
       "version_minor": 0
      },
      "text/plain": [
       "HBox(children=(HTML(value='Training batches on cuda'), FloatProgress(value=0.0, max=340.0), HTML(value='')))"
      ]
     },
     "metadata": {},
     "output_type": "display_data"
    },
    {
     "data": {
      "application/vnd.jupyter.widget-view+json": {
       "model_id": "",
       "version_major": 2,
       "version_minor": 0
      },
      "text/plain": [
       "HBox(children=(HTML(value='Training batches on cuda'), FloatProgress(value=0.0, max=340.0), HTML(value='')))"
      ]
     },
     "metadata": {},
     "output_type": "display_data"
    },
    {
     "data": {
      "application/vnd.jupyter.widget-view+json": {
       "model_id": "",
       "version_major": 2,
       "version_minor": 0
      },
      "text/plain": [
       "HBox(children=(HTML(value='Training batches on cuda'), FloatProgress(value=0.0, max=340.0), HTML(value='')))"
      ]
     },
     "metadata": {},
     "output_type": "display_data"
    },
    {
     "data": {
      "application/vnd.jupyter.widget-view+json": {
       "model_id": "",
       "version_major": 2,
       "version_minor": 0
      },
      "text/plain": [
       "HBox(children=(HTML(value='Training batches on cuda'), FloatProgress(value=0.0, max=340.0), HTML(value='')))"
      ]
     },
     "metadata": {},
     "output_type": "display_data"
    },
    {
     "data": {
      "application/vnd.jupyter.widget-view+json": {
       "model_id": "",
       "version_major": 2,
       "version_minor": 0
      },
      "text/plain": [
       "HBox(children=(HTML(value='Training batches on cuda'), FloatProgress(value=0.0, max=340.0), HTML(value='')))"
      ]
     },
     "metadata": {},
     "output_type": "display_data"
    },
    {
     "data": {
      "application/vnd.jupyter.widget-view+json": {
       "model_id": "",
       "version_major": 2,
       "version_minor": 0
      },
      "text/plain": [
       "HBox(children=(HTML(value='Training batches on cuda'), FloatProgress(value=0.0, max=340.0), HTML(value='')))"
      ]
     },
     "metadata": {},
     "output_type": "display_data"
    },
    {
     "data": {
      "application/vnd.jupyter.widget-view+json": {
       "model_id": "",
       "version_major": 2,
       "version_minor": 0
      },
      "text/plain": [
       "HBox(children=(HTML(value='Training batches on cuda'), FloatProgress(value=0.0, max=340.0), HTML(value='')))"
      ]
     },
     "metadata": {},
     "output_type": "display_data"
    },
    {
     "data": {
      "application/vnd.jupyter.widget-view+json": {
       "model_id": "",
       "version_major": 2,
       "version_minor": 0
      },
      "text/plain": [
       "HBox(children=(HTML(value='Training batches on cuda'), FloatProgress(value=0.0, max=340.0), HTML(value='')))"
      ]
     },
     "metadata": {},
     "output_type": "display_data"
    },
    {
     "data": {
      "application/vnd.jupyter.widget-view+json": {
       "model_id": "",
       "version_major": 2,
       "version_minor": 0
      },
      "text/plain": [
       "HBox(children=(HTML(value='Training batches on cuda'), FloatProgress(value=0.0, max=340.0), HTML(value='')))"
      ]
     },
     "metadata": {},
     "output_type": "display_data"
    },
    {
     "data": {
      "application/vnd.jupyter.widget-view+json": {
       "model_id": "",
       "version_major": 2,
       "version_minor": 0
      },
      "text/plain": [
       "HBox(children=(HTML(value='Training batches on cuda'), FloatProgress(value=0.0, max=340.0), HTML(value='')))"
      ]
     },
     "metadata": {},
     "output_type": "display_data"
    },
    {
     "data": {
      "application/vnd.jupyter.widget-view+json": {
       "model_id": "",
       "version_major": 2,
       "version_minor": 0
      },
      "text/plain": [
       "HBox(children=(HTML(value='Training batches on cuda'), FloatProgress(value=0.0, max=340.0), HTML(value='')))"
      ]
     },
     "metadata": {},
     "output_type": "display_data"
    },
    {
     "data": {
      "application/vnd.jupyter.widget-view+json": {
       "model_id": "",
       "version_major": 2,
       "version_minor": 0
      },
      "text/plain": [
       "HBox(children=(HTML(value='Training batches on cuda'), FloatProgress(value=0.0, max=340.0), HTML(value='')))"
      ]
     },
     "metadata": {},
     "output_type": "display_data"
    },
    {
     "data": {
      "application/vnd.jupyter.widget-view+json": {
       "model_id": "",
       "version_major": 2,
       "version_minor": 0
      },
      "text/plain": [
       "HBox(children=(HTML(value='Training batches on cuda'), FloatProgress(value=0.0, max=340.0), HTML(value='')))"
      ]
     },
     "metadata": {},
     "output_type": "display_data"
    },
    {
     "data": {
      "application/vnd.jupyter.widget-view+json": {
       "model_id": "",
       "version_major": 2,
       "version_minor": 0
      },
      "text/plain": [
       "HBox(children=(HTML(value='Training batches on cuda'), FloatProgress(value=0.0, max=340.0), HTML(value='')))"
      ]
     },
     "metadata": {},
     "output_type": "display_data"
    },
    {
     "data": {
      "application/vnd.jupyter.widget-view+json": {
       "model_id": "",
       "version_major": 2,
       "version_minor": 0
      },
      "text/plain": [
       "HBox(children=(HTML(value='Training batches on cuda'), FloatProgress(value=0.0, max=340.0), HTML(value='')))"
      ]
     },
     "metadata": {},
     "output_type": "display_data"
    },
    {
     "data": {
      "application/vnd.jupyter.widget-view+json": {
       "model_id": "",
       "version_major": 2,
       "version_minor": 0
      },
      "text/plain": [
       "HBox(children=(HTML(value='Training batches on cuda'), FloatProgress(value=0.0, max=340.0), HTML(value='')))"
      ]
     },
     "metadata": {},
     "output_type": "display_data"
    },
    {
     "data": {
      "application/vnd.jupyter.widget-view+json": {
       "model_id": "",
       "version_major": 2,
       "version_minor": 0
      },
      "text/plain": [
       "HBox(children=(HTML(value='Training batches on cuda'), FloatProgress(value=0.0, max=340.0), HTML(value='')))"
      ]
     },
     "metadata": {},
     "output_type": "display_data"
    },
    {
     "data": {
      "application/vnd.jupyter.widget-view+json": {
       "model_id": "",
       "version_major": 2,
       "version_minor": 0
      },
      "text/plain": [
       "HBox(children=(HTML(value='Training batches on cuda'), FloatProgress(value=0.0, max=340.0), HTML(value='')))"
      ]
     },
     "metadata": {},
     "output_type": "display_data"
    },
    {
     "data": {
      "application/vnd.jupyter.widget-view+json": {
       "model_id": "",
       "version_major": 2,
       "version_minor": 0
      },
      "text/plain": [
       "HBox(children=(HTML(value='Training batches on cuda'), FloatProgress(value=0.0, max=340.0), HTML(value='')))"
      ]
     },
     "metadata": {},
     "output_type": "display_data"
    },
    {
     "data": {
      "application/vnd.jupyter.widget-view+json": {
       "model_id": "",
       "version_major": 2,
       "version_minor": 0
      },
      "text/plain": [
       "HBox(children=(HTML(value='Training batches on cuda'), FloatProgress(value=0.0, max=340.0), HTML(value='')))"
      ]
     },
     "metadata": {},
     "output_type": "display_data"
    },
    {
     "data": {
      "application/vnd.jupyter.widget-view+json": {
       "model_id": "",
       "version_major": 2,
       "version_minor": 0
      },
      "text/plain": [
       "HBox(children=(HTML(value='Training batches on cuda'), FloatProgress(value=0.0, max=340.0), HTML(value='')))"
      ]
     },
     "metadata": {},
     "output_type": "display_data"
    },
    {
     "data": {
      "application/vnd.jupyter.widget-view+json": {
       "model_id": "",
       "version_major": 2,
       "version_minor": 0
      },
      "text/plain": [
       "HBox(children=(HTML(value='Training batches on cuda'), FloatProgress(value=0.0, max=340.0), HTML(value='')))"
      ]
     },
     "metadata": {},
     "output_type": "display_data"
    },
    {
     "data": {
      "application/vnd.jupyter.widget-view+json": {
       "model_id": "",
       "version_major": 2,
       "version_minor": 0
      },
      "text/plain": [
       "HBox(children=(HTML(value='Training batches on cuda'), FloatProgress(value=0.0, max=340.0), HTML(value='')))"
      ]
     },
     "metadata": {},
     "output_type": "display_data"
    },
    {
     "data": {
      "application/vnd.jupyter.widget-view+json": {
       "model_id": "",
       "version_major": 2,
       "version_minor": 0
      },
      "text/plain": [
       "HBox(children=(HTML(value='Training batches on cuda'), FloatProgress(value=0.0, max=340.0), HTML(value='')))"
      ]
     },
     "metadata": {},
     "output_type": "display_data"
    },
    {
     "data": {
      "application/vnd.jupyter.widget-view+json": {
       "model_id": "",
       "version_major": 2,
       "version_minor": 0
      },
      "text/plain": [
       "HBox(children=(HTML(value='Training batches on cuda'), FloatProgress(value=0.0, max=340.0), HTML(value='')))"
      ]
     },
     "metadata": {},
     "output_type": "display_data"
    },
    {
     "data": {
      "application/vnd.jupyter.widget-view+json": {
       "model_id": "",
       "version_major": 2,
       "version_minor": 0
      },
      "text/plain": [
       "HBox(children=(HTML(value='Training batches on cuda'), FloatProgress(value=0.0, max=340.0), HTML(value='')))"
      ]
     },
     "metadata": {},
     "output_type": "display_data"
    },
    {
     "data": {
      "application/vnd.jupyter.widget-view+json": {
       "model_id": "",
       "version_major": 2,
       "version_minor": 0
      },
      "text/plain": [
       "HBox(children=(HTML(value='Training batches on cuda'), FloatProgress(value=0.0, max=340.0), HTML(value='')))"
      ]
     },
     "metadata": {},
     "output_type": "display_data"
    },
    {
     "data": {
      "application/vnd.jupyter.widget-view+json": {
       "model_id": "",
       "version_major": 2,
       "version_minor": 0
      },
      "text/plain": [
       "HBox(children=(HTML(value='Training batches on cuda'), FloatProgress(value=0.0, max=340.0), HTML(value='')))"
      ]
     },
     "metadata": {},
     "output_type": "display_data"
    },
    {
     "data": {
      "application/vnd.jupyter.widget-view+json": {
       "model_id": "",
       "version_major": 2,
       "version_minor": 0
      },
      "text/plain": [
       "HBox(children=(HTML(value='Training batches on cuda'), FloatProgress(value=0.0, max=340.0), HTML(value='')))"
      ]
     },
     "metadata": {},
     "output_type": "display_data"
    },
    {
     "data": {
      "application/vnd.jupyter.widget-view+json": {
       "model_id": "",
       "version_major": 2,
       "version_minor": 0
      },
      "text/plain": [
       "HBox(children=(HTML(value='Training batches on cuda'), FloatProgress(value=0.0, max=340.0), HTML(value='')))"
      ]
     },
     "metadata": {},
     "output_type": "display_data"
    },
    {
     "data": {
      "application/vnd.jupyter.widget-view+json": {
       "model_id": "",
       "version_major": 2,
       "version_minor": 0
      },
      "text/plain": [
       "HBox(children=(HTML(value='Training batches on cuda'), FloatProgress(value=0.0, max=340.0), HTML(value='')))"
      ]
     },
     "metadata": {},
     "output_type": "display_data"
    },
    {
     "data": {
      "application/vnd.jupyter.widget-view+json": {
       "model_id": "",
       "version_major": 2,
       "version_minor": 0
      },
      "text/plain": [
       "HBox(children=(HTML(value='Training batches on cuda'), FloatProgress(value=0.0, max=340.0), HTML(value='')))"
      ]
     },
     "metadata": {},
     "output_type": "display_data"
    },
    {
     "data": {
      "application/vnd.jupyter.widget-view+json": {
       "model_id": "",
       "version_major": 2,
       "version_minor": 0
      },
      "text/plain": [
       "HBox(children=(HTML(value='Training batches on cuda'), FloatProgress(value=0.0, max=340.0), HTML(value='')))"
      ]
     },
     "metadata": {},
     "output_type": "display_data"
    },
    {
     "data": {
      "application/vnd.jupyter.widget-view+json": {
       "model_id": "",
       "version_major": 2,
       "version_minor": 0
      },
      "text/plain": [
       "HBox(children=(HTML(value='Training batches on cuda'), FloatProgress(value=0.0, max=340.0), HTML(value='')))"
      ]
     },
     "metadata": {},
     "output_type": "display_data"
    },
    {
     "data": {
      "application/vnd.jupyter.widget-view+json": {
       "model_id": "",
       "version_major": 2,
       "version_minor": 0
      },
      "text/plain": [
       "HBox(children=(HTML(value='Training batches on cuda'), FloatProgress(value=0.0, max=340.0), HTML(value='')))"
      ]
     },
     "metadata": {},
     "output_type": "display_data"
    },
    {
     "data": {
      "application/vnd.jupyter.widget-view+json": {
       "model_id": "",
       "version_major": 2,
       "version_minor": 0
      },
      "text/plain": [
       "HBox(children=(HTML(value='Training batches on cuda'), FloatProgress(value=0.0, max=340.0), HTML(value='')))"
      ]
     },
     "metadata": {},
     "output_type": "display_data"
    },
    {
     "data": {
      "application/vnd.jupyter.widget-view+json": {
       "model_id": "",
       "version_major": 2,
       "version_minor": 0
      },
      "text/plain": [
       "HBox(children=(HTML(value='Training batches on cuda'), FloatProgress(value=0.0, max=340.0), HTML(value='')))"
      ]
     },
     "metadata": {},
     "output_type": "display_data"
    },
    {
     "data": {
      "application/vnd.jupyter.widget-view+json": {
       "model_id": "",
       "version_major": 2,
       "version_minor": 0
      },
      "text/plain": [
       "HBox(children=(HTML(value='Training batches on cuda'), FloatProgress(value=0.0, max=340.0), HTML(value='')))"
      ]
     },
     "metadata": {},
     "output_type": "display_data"
    },
    {
     "data": {
      "application/vnd.jupyter.widget-view+json": {
       "model_id": "",
       "version_major": 2,
       "version_minor": 0
      },
      "text/plain": [
       "HBox(children=(HTML(value='Training batches on cuda'), FloatProgress(value=0.0, max=340.0), HTML(value='')))"
      ]
     },
     "metadata": {},
     "output_type": "display_data"
    },
    {
     "data": {
      "application/vnd.jupyter.widget-view+json": {
       "model_id": "",
       "version_major": 2,
       "version_minor": 0
      },
      "text/plain": [
       "HBox(children=(HTML(value='Training batches on cuda'), FloatProgress(value=0.0, max=340.0), HTML(value='')))"
      ]
     },
     "metadata": {},
     "output_type": "display_data"
    },
    {
     "data": {
      "application/vnd.jupyter.widget-view+json": {
       "model_id": "",
       "version_major": 2,
       "version_minor": 0
      },
      "text/plain": [
       "HBox(children=(HTML(value='Training batches on cuda'), FloatProgress(value=0.0, max=340.0), HTML(value='')))"
      ]
     },
     "metadata": {},
     "output_type": "display_data"
    },
    {
     "data": {
      "application/vnd.jupyter.widget-view+json": {
       "model_id": "",
       "version_major": 2,
       "version_minor": 0
      },
      "text/plain": [
       "HBox(children=(HTML(value='Training batches on cuda'), FloatProgress(value=0.0, max=340.0), HTML(value='')))"
      ]
     },
     "metadata": {},
     "output_type": "display_data"
    },
    {
     "data": {
      "application/vnd.jupyter.widget-view+json": {
       "model_id": "",
       "version_major": 2,
       "version_minor": 0
      },
      "text/plain": [
       "HBox(children=(HTML(value='Training batches on cuda'), FloatProgress(value=0.0, max=340.0), HTML(value='')))"
      ]
     },
     "metadata": {},
     "output_type": "display_data"
    },
    {
     "data": {
      "application/vnd.jupyter.widget-view+json": {
       "model_id": "",
       "version_major": 2,
       "version_minor": 0
      },
      "text/plain": [
       "HBox(children=(HTML(value='Training batches on cuda'), FloatProgress(value=0.0, max=340.0), HTML(value='')))"
      ]
     },
     "metadata": {},
     "output_type": "display_data"
    },
    {
     "name": "stderr",
     "output_type": "stream",
     "text": [
      "INFO:pykeen.evaluation.evaluator:Starting batch_size search for evaluation now...\n"
     ]
    },
    {
     "name": "stdout",
     "output_type": "stream",
     "text": [
      "\n"
     ]
    },
    {
     "name": "stderr",
     "output_type": "stream",
     "text": [
      "INFO:pykeen.evaluation.evaluator:Concluded batch_size search with batch_size=256.\n"
     ]
    },
    {
     "data": {
      "application/vnd.jupyter.widget-view+json": {
       "model_id": "7a27f7d9f10c4f26ba599ef451e3c658",
       "version_major": 2,
       "version_minor": 0
      },
      "text/plain": [
       "HBox(children=(HTML(value='Evaluating on cuda'), FloatProgress(value=0.0, max=2924.0), HTML(value='')))"
      ]
     },
     "metadata": {},
     "output_type": "display_data"
    },
    {
     "name": "stderr",
     "output_type": "stream",
     "text": [
      "INFO:pykeen.evaluation.evaluator:Evaluation took 2.36s seconds\n"
     ]
    },
    {
     "name": "stdout",
     "output_type": "stream",
     "text": [
      "\n"
     ]
    }
   ],
   "source": [
    "rotate_results = pipeline(\n",
    "        dataset=dataset,\n",
    "        model='RotatE',\n",
    "        random_seed=1235,\n",
    "        device='gpu',\n",
    "        training_kwargs=dict(num_epochs=num_epochs),\n",
    "        model_kwargs=dict(embedding_dim=embedding_dim//2),\n",
    "        loss='SoftplusLoss',\n",
    "        training_loop='slcwa',\n",
    "        loss_kwargs=dict()\n",
    "    )"
   ]
  },
  {
   "cell_type": "code",
   "execution_count": 8,
   "metadata": {},
   "outputs": [
    {
     "data": {
      "image/png": "[encoded data removed]",
      "text/plain": [
       "<Figure size 432x288 with 1 Axes>"
      ]
     },
     "metadata": {
      "needs_background": "light"
     },
     "output_type": "display_data"
    }
   ],
   "source": [
    "result2.plot_losses()\n",
    "transe_results.plot_losses()\n",
    "rotate_results.plot_losses()\n",
    "plt.show()"
   ]
  },
  {
   "cell_type": "code",
   "execution_count": 9,
   "metadata": {},
   "outputs": [],
   "source": [
    "res_df = result2.metric_results.to_df()\n",
    "transe_df = transe_results.metric_results.to_df()\n",
    "rotate_df = rotate_results.metric_results.to_df()\n",
    "res_df['transe_diff'] = res_df.Value - transe_df.Value\n",
    "res_df['rotate_diff'] = res_df.Value - rotate_df.Value"
   ]
  },
  {
   "cell_type": "code",
   "execution_count": 10,
   "metadata": {},
   "outputs": [
    {
     "data": {
      "text/html": [
       "<div>\n",
       "<style scoped>\n",
       "    .dataframe tbody tr th:only-of-type {\n",
       "        vertical-align: middle;\n",
       "    }\n",
       "\n",
       "    .dataframe tbody tr th {\n",
       "        vertical-align: top;\n",
       "    }\n",
       "\n",
       "    .dataframe thead th {\n",
       "        text-align: right;\n",
       "    }\n",
       "</style>\n",
       "<table border=\"1\" class=\"dataframe\">\n",
       "  <thead>\n",
       "    <tr style=\"text-align: right;\">\n",
       "      <th></th>\n",
       "      <th>Side</th>\n",
       "      <th>Type</th>\n",
       "      <th>Metric</th>\n",
       "      <th>Value</th>\n",
       "      <th>transe_diff</th>\n",
       "      <th>rotate_diff</th>\n",
       "    </tr>\n",
       "  </thead>\n",
       "  <tbody>\n",
       "    <tr>\n",
       "      <th>0</th>\n",
       "      <td>both</td>\n",
       "      <td>avg</td>\n",
       "      <td>adjusted_mean_rank</td>\n",
       "      <td>0.393259</td>\n",
       "      <td>0.059001</td>\n",
       "      <td>-0.316302</td>\n",
       "    </tr>\n",
       "    <tr>\n",
       "      <th>1</th>\n",
       "      <td>tail</td>\n",
       "      <td>avg</td>\n",
       "      <td>adjusted_mean_rank</td>\n",
       "      <td>0.340782</td>\n",
       "      <td>0.028858</td>\n",
       "      <td>-0.241986</td>\n",
       "    </tr>\n",
       "    <tr>\n",
       "      <th>2</th>\n",
       "      <td>head</td>\n",
       "      <td>avg</td>\n",
       "      <td>adjusted_mean_rank</td>\n",
       "      <td>0.445735</td>\n",
       "      <td>0.089143</td>\n",
       "      <td>-0.390619</td>\n",
       "    </tr>\n",
       "    <tr>\n",
       "      <th>3</th>\n",
       "      <td>both</td>\n",
       "      <td>best</td>\n",
       "      <td>mean_rank</td>\n",
       "      <td>7970.756498</td>\n",
       "      <td>1195.256327</td>\n",
       "      <td>-6409.341997</td>\n",
       "    </tr>\n",
       "    <tr>\n",
       "      <th>4</th>\n",
       "      <td>both</td>\n",
       "      <td>best</td>\n",
       "      <td>mean_reciprocal_rank</td>\n",
       "      <td>0.143682</td>\n",
       "      <td>0.004546</td>\n",
       "      <td>0.141741</td>\n",
       "    </tr>\n",
       "    <tr>\n",
       "      <th>5</th>\n",
       "      <td>both</td>\n",
       "      <td>best</td>\n",
       "      <td>hits_at_1</td>\n",
       "      <td>0.000000</td>\n",
       "      <td>0.000000</td>\n",
       "      <td>-0.000342</td>\n",
       "    </tr>\n",
       "    <tr>\n",
       "      <th>6</th>\n",
       "      <td>both</td>\n",
       "      <td>best</td>\n",
       "      <td>hits_at_3</td>\n",
       "      <td>0.274453</td>\n",
       "      <td>0.030096</td>\n",
       "      <td>0.273427</td>\n",
       "    </tr>\n",
       "    <tr>\n",
       "      <th>7</th>\n",
       "      <td>both</td>\n",
       "      <td>best</td>\n",
       "      <td>hits_at_5</td>\n",
       "      <td>0.313440</td>\n",
       "      <td>-0.013851</td>\n",
       "      <td>0.311389</td>\n",
       "    </tr>\n",
       "    <tr>\n",
       "      <th>8</th>\n",
       "      <td>both</td>\n",
       "      <td>best</td>\n",
       "      <td>hits_at_10</td>\n",
       "      <td>0.341655</td>\n",
       "      <td>-0.049761</td>\n",
       "      <td>0.338919</td>\n",
       "    </tr>\n",
       "    <tr>\n",
       "      <th>9</th>\n",
       "      <td>both</td>\n",
       "      <td>worst</td>\n",
       "      <td>mean_rank</td>\n",
       "      <td>7970.760944</td>\n",
       "      <td>1195.253591</td>\n",
       "      <td>-6409.342681</td>\n",
       "    </tr>\n",
       "    <tr>\n",
       "      <th>10</th>\n",
       "      <td>both</td>\n",
       "      <td>worst</td>\n",
       "      <td>mean_reciprocal_rank</td>\n",
       "      <td>0.143682</td>\n",
       "      <td>0.004546</td>\n",
       "      <td>0.141741</td>\n",
       "    </tr>\n",
       "    <tr>\n",
       "      <th>11</th>\n",
       "      <td>both</td>\n",
       "      <td>worst</td>\n",
       "      <td>hits_at_1</td>\n",
       "      <td>0.000000</td>\n",
       "      <td>0.000000</td>\n",
       "      <td>-0.000342</td>\n",
       "    </tr>\n",
       "    <tr>\n",
       "      <th>12</th>\n",
       "      <td>both</td>\n",
       "      <td>worst</td>\n",
       "      <td>hits_at_3</td>\n",
       "      <td>0.274453</td>\n",
       "      <td>0.030096</td>\n",
       "      <td>0.273427</td>\n",
       "    </tr>\n",
       "    <tr>\n",
       "      <th>13</th>\n",
       "      <td>both</td>\n",
       "      <td>worst</td>\n",
       "      <td>hits_at_5</td>\n",
       "      <td>0.313440</td>\n",
       "      <td>-0.013851</td>\n",
       "      <td>0.311389</td>\n",
       "    </tr>\n",
       "    <tr>\n",
       "      <th>14</th>\n",
       "      <td>both</td>\n",
       "      <td>worst</td>\n",
       "      <td>hits_at_10</td>\n",
       "      <td>0.341655</td>\n",
       "      <td>-0.049761</td>\n",
       "      <td>0.338919</td>\n",
       "    </tr>\n",
       "    <tr>\n",
       "      <th>15</th>\n",
       "      <td>both</td>\n",
       "      <td>avg</td>\n",
       "      <td>mean_rank</td>\n",
       "      <td>7970.758721</td>\n",
       "      <td>1195.254959</td>\n",
       "      <td>-6409.342339</td>\n",
       "    </tr>\n",
       "    <tr>\n",
       "      <th>16</th>\n",
       "      <td>both</td>\n",
       "      <td>avg</td>\n",
       "      <td>mean_reciprocal_rank</td>\n",
       "      <td>0.143682</td>\n",
       "      <td>0.004546</td>\n",
       "      <td>0.141741</td>\n",
       "    </tr>\n",
       "    <tr>\n",
       "      <th>17</th>\n",
       "      <td>both</td>\n",
       "      <td>avg</td>\n",
       "      <td>hits_at_1</td>\n",
       "      <td>0.000000</td>\n",
       "      <td>0.000000</td>\n",
       "      <td>-0.000342</td>\n",
       "    </tr>\n",
       "    <tr>\n",
       "      <th>18</th>\n",
       "      <td>both</td>\n",
       "      <td>avg</td>\n",
       "      <td>hits_at_3</td>\n",
       "      <td>0.274453</td>\n",
       "      <td>0.030096</td>\n",
       "      <td>0.273427</td>\n",
       "    </tr>\n",
       "    <tr>\n",
       "      <th>19</th>\n",
       "      <td>both</td>\n",
       "      <td>avg</td>\n",
       "      <td>hits_at_5</td>\n",
       "      <td>0.313440</td>\n",
       "      <td>-0.013851</td>\n",
       "      <td>0.311389</td>\n",
       "    </tr>\n",
       "    <tr>\n",
       "      <th>20</th>\n",
       "      <td>both</td>\n",
       "      <td>avg</td>\n",
       "      <td>hits_at_10</td>\n",
       "      <td>0.341655</td>\n",
       "      <td>-0.049761</td>\n",
       "      <td>0.338919</td>\n",
       "    </tr>\n",
       "    <tr>\n",
       "      <th>21</th>\n",
       "      <td>tail</td>\n",
       "      <td>best</td>\n",
       "      <td>mean_rank</td>\n",
       "      <td>6909.244870</td>\n",
       "      <td>585.056772</td>\n",
       "      <td>-4905.245212</td>\n",
       "    </tr>\n",
       "    <tr>\n",
       "      <th>22</th>\n",
       "      <td>tail</td>\n",
       "      <td>best</td>\n",
       "      <td>mean_reciprocal_rank</td>\n",
       "      <td>0.144984</td>\n",
       "      <td>0.003106</td>\n",
       "      <td>0.142402</td>\n",
       "    </tr>\n",
       "    <tr>\n",
       "      <th>23</th>\n",
       "      <td>tail</td>\n",
       "      <td>best</td>\n",
       "      <td>hits_at_1</td>\n",
       "      <td>0.000000</td>\n",
       "      <td>0.000000</td>\n",
       "      <td>-0.000342</td>\n",
       "    </tr>\n",
       "    <tr>\n",
       "      <th>24</th>\n",
       "      <td>tail</td>\n",
       "      <td>best</td>\n",
       "      <td>hits_at_3</td>\n",
       "      <td>0.275992</td>\n",
       "      <td>0.026334</td>\n",
       "      <td>0.274624</td>\n",
       "    </tr>\n",
       "    <tr>\n",
       "      <th>25</th>\n",
       "      <td>tail</td>\n",
       "      <td>best</td>\n",
       "      <td>hits_at_5</td>\n",
       "      <td>0.314637</td>\n",
       "      <td>-0.019494</td>\n",
       "      <td>0.311902</td>\n",
       "    </tr>\n",
       "    <tr>\n",
       "      <th>26</th>\n",
       "      <td>tail</td>\n",
       "      <td>best</td>\n",
       "      <td>hits_at_10</td>\n",
       "      <td>0.343365</td>\n",
       "      <td>-0.054036</td>\n",
       "      <td>0.339603</td>\n",
       "    </tr>\n",
       "    <tr>\n",
       "      <th>27</th>\n",
       "      <td>tail</td>\n",
       "      <td>worst</td>\n",
       "      <td>mean_rank</td>\n",
       "      <td>6909.248290</td>\n",
       "      <td>585.053352</td>\n",
       "      <td>-4905.246922</td>\n",
       "    </tr>\n",
       "    <tr>\n",
       "      <th>28</th>\n",
       "      <td>tail</td>\n",
       "      <td>worst</td>\n",
       "      <td>mean_reciprocal_rank</td>\n",
       "      <td>0.144984</td>\n",
       "      <td>0.003106</td>\n",
       "      <td>0.142402</td>\n",
       "    </tr>\n",
       "    <tr>\n",
       "      <th>29</th>\n",
       "      <td>tail</td>\n",
       "      <td>worst</td>\n",
       "      <td>hits_at_1</td>\n",
       "      <td>0.000000</td>\n",
       "      <td>0.000000</td>\n",
       "      <td>-0.000342</td>\n",
       "    </tr>\n",
       "    <tr>\n",
       "      <th>30</th>\n",
       "      <td>tail</td>\n",
       "      <td>worst</td>\n",
       "      <td>hits_at_3</td>\n",
       "      <td>0.275992</td>\n",
       "      <td>0.026334</td>\n",
       "      <td>0.274624</td>\n",
       "    </tr>\n",
       "    <tr>\n",
       "      <th>31</th>\n",
       "      <td>tail</td>\n",
       "      <td>worst</td>\n",
       "      <td>hits_at_5</td>\n",
       "      <td>0.314637</td>\n",
       "      <td>-0.019494</td>\n",
       "      <td>0.311902</td>\n",
       "    </tr>\n",
       "    <tr>\n",
       "      <th>32</th>\n",
       "      <td>tail</td>\n",
       "      <td>worst</td>\n",
       "      <td>hits_at_10</td>\n",
       "      <td>0.343365</td>\n",
       "      <td>-0.054036</td>\n",
       "      <td>0.339603</td>\n",
       "    </tr>\n",
       "    <tr>\n",
       "      <th>33</th>\n",
       "      <td>tail</td>\n",
       "      <td>avg</td>\n",
       "      <td>mean_rank</td>\n",
       "      <td>6909.246580</td>\n",
       "      <td>585.055062</td>\n",
       "      <td>-4905.246067</td>\n",
       "    </tr>\n",
       "    <tr>\n",
       "      <th>34</th>\n",
       "      <td>tail</td>\n",
       "      <td>avg</td>\n",
       "      <td>mean_reciprocal_rank</td>\n",
       "      <td>0.144984</td>\n",
       "      <td>0.003106</td>\n",
       "      <td>0.142402</td>\n",
       "    </tr>\n",
       "    <tr>\n",
       "      <th>35</th>\n",
       "      <td>tail</td>\n",
       "      <td>avg</td>\n",
       "      <td>hits_at_1</td>\n",
       "      <td>0.000000</td>\n",
       "      <td>0.000000</td>\n",
       "      <td>-0.000342</td>\n",
       "    </tr>\n",
       "    <tr>\n",
       "      <th>36</th>\n",
       "      <td>tail</td>\n",
       "      <td>avg</td>\n",
       "      <td>hits_at_3</td>\n",
       "      <td>0.275992</td>\n",
       "      <td>0.026334</td>\n",
       "      <td>0.274624</td>\n",
       "    </tr>\n",
       "    <tr>\n",
       "      <th>37</th>\n",
       "      <td>tail</td>\n",
       "      <td>avg</td>\n",
       "      <td>hits_at_5</td>\n",
       "      <td>0.314637</td>\n",
       "      <td>-0.019494</td>\n",
       "      <td>0.311902</td>\n",
       "    </tr>\n",
       "    <tr>\n",
       "      <th>38</th>\n",
       "      <td>tail</td>\n",
       "      <td>avg</td>\n",
       "      <td>hits_at_10</td>\n",
       "      <td>0.343365</td>\n",
       "      <td>-0.054036</td>\n",
       "      <td>0.339603</td>\n",
       "    </tr>\n",
       "    <tr>\n",
       "      <th>39</th>\n",
       "      <td>head</td>\n",
       "      <td>best</td>\n",
       "      <td>mean_rank</td>\n",
       "      <td>9032.268126</td>\n",
       "      <td>1805.455882</td>\n",
       "      <td>-7913.438782</td>\n",
       "    </tr>\n",
       "    <tr>\n",
       "      <th>40</th>\n",
       "      <td>head</td>\n",
       "      <td>best</td>\n",
       "      <td>mean_reciprocal_rank</td>\n",
       "      <td>0.142379</td>\n",
       "      <td>0.005986</td>\n",
       "      <td>0.141080</td>\n",
       "    </tr>\n",
       "    <tr>\n",
       "      <th>41</th>\n",
       "      <td>head</td>\n",
       "      <td>best</td>\n",
       "      <td>hits_at_1</td>\n",
       "      <td>0.000000</td>\n",
       "      <td>0.000000</td>\n",
       "      <td>-0.000342</td>\n",
       "    </tr>\n",
       "    <tr>\n",
       "      <th>42</th>\n",
       "      <td>head</td>\n",
       "      <td>best</td>\n",
       "      <td>hits_at_3</td>\n",
       "      <td>0.272914</td>\n",
       "      <td>0.033858</td>\n",
       "      <td>0.272230</td>\n",
       "    </tr>\n",
       "    <tr>\n",
       "      <th>43</th>\n",
       "      <td>head</td>\n",
       "      <td>best</td>\n",
       "      <td>hits_at_5</td>\n",
       "      <td>0.312244</td>\n",
       "      <td>-0.008208</td>\n",
       "      <td>0.310876</td>\n",
       "    </tr>\n",
       "    <tr>\n",
       "      <th>44</th>\n",
       "      <td>head</td>\n",
       "      <td>best</td>\n",
       "      <td>hits_at_10</td>\n",
       "      <td>0.339945</td>\n",
       "      <td>-0.045486</td>\n",
       "      <td>0.338235</td>\n",
       "    </tr>\n",
       "    <tr>\n",
       "      <th>45</th>\n",
       "      <td>head</td>\n",
       "      <td>worst</td>\n",
       "      <td>mean_rank</td>\n",
       "      <td>9032.273598</td>\n",
       "      <td>1805.453830</td>\n",
       "      <td>-7913.438440</td>\n",
       "    </tr>\n",
       "    <tr>\n",
       "      <th>46</th>\n",
       "      <td>head</td>\n",
       "      <td>worst</td>\n",
       "      <td>mean_reciprocal_rank</td>\n",
       "      <td>0.142379</td>\n",
       "      <td>0.005986</td>\n",
       "      <td>0.141080</td>\n",
       "    </tr>\n",
       "    <tr>\n",
       "      <th>47</th>\n",
       "      <td>head</td>\n",
       "      <td>worst</td>\n",
       "      <td>hits_at_1</td>\n",
       "      <td>0.000000</td>\n",
       "      <td>0.000000</td>\n",
       "      <td>-0.000342</td>\n",
       "    </tr>\n",
       "    <tr>\n",
       "      <th>48</th>\n",
       "      <td>head</td>\n",
       "      <td>worst</td>\n",
       "      <td>hits_at_3</td>\n",
       "      <td>0.272914</td>\n",
       "      <td>0.033858</td>\n",
       "      <td>0.272230</td>\n",
       "    </tr>\n",
       "    <tr>\n",
       "      <th>49</th>\n",
       "      <td>head</td>\n",
       "      <td>worst</td>\n",
       "      <td>hits_at_5</td>\n",
       "      <td>0.312244</td>\n",
       "      <td>-0.008208</td>\n",
       "      <td>0.310876</td>\n",
       "    </tr>\n",
       "    <tr>\n",
       "      <th>50</th>\n",
       "      <td>head</td>\n",
       "      <td>worst</td>\n",
       "      <td>hits_at_10</td>\n",
       "      <td>0.339945</td>\n",
       "      <td>-0.045486</td>\n",
       "      <td>0.338235</td>\n",
       "    </tr>\n",
       "    <tr>\n",
       "      <th>51</th>\n",
       "      <td>head</td>\n",
       "      <td>avg</td>\n",
       "      <td>mean_rank</td>\n",
       "      <td>9032.270862</td>\n",
       "      <td>1805.454856</td>\n",
       "      <td>-7913.438611</td>\n",
       "    </tr>\n",
       "    <tr>\n",
       "      <th>52</th>\n",
       "      <td>head</td>\n",
       "      <td>avg</td>\n",
       "      <td>mean_reciprocal_rank</td>\n",
       "      <td>0.142379</td>\n",
       "      <td>0.005986</td>\n",
       "      <td>0.141080</td>\n",
       "    </tr>\n",
       "    <tr>\n",
       "      <th>53</th>\n",
       "      <td>head</td>\n",
       "      <td>avg</td>\n",
       "      <td>hits_at_1</td>\n",
       "      <td>0.000000</td>\n",
       "      <td>0.000000</td>\n",
       "      <td>-0.000342</td>\n",
       "    </tr>\n",
       "    <tr>\n",
       "      <th>54</th>\n",
       "      <td>head</td>\n",
       "      <td>avg</td>\n",
       "      <td>hits_at_3</td>\n",
       "      <td>0.272914</td>\n",
       "      <td>0.033858</td>\n",
       "      <td>0.272230</td>\n",
       "    </tr>\n",
       "    <tr>\n",
       "      <th>55</th>\n",
       "      <td>head</td>\n",
       "      <td>avg</td>\n",
       "      <td>hits_at_5</td>\n",
       "      <td>0.312244</td>\n",
       "      <td>-0.008208</td>\n",
       "      <td>0.310876</td>\n",
       "    </tr>\n",
       "    <tr>\n",
       "      <th>56</th>\n",
       "      <td>head</td>\n",
       "      <td>avg</td>\n",
       "      <td>hits_at_10</td>\n",
       "      <td>0.339945</td>\n",
       "      <td>-0.045486</td>\n",
       "      <td>0.338235</td>\n",
       "    </tr>\n",
       "  </tbody>\n",
       "</table>\n",
       "</div>"
      ],
      "text/plain": [
       "    Side   Type                Metric        Value  transe_diff  rotate_diff\n",
       "0   both    avg    adjusted_mean_rank     0.393259     0.059001    -0.316302\n",
       "1   tail    avg    adjusted_mean_rank     0.340782     0.028858    -0.241986\n",
       "2   head    avg    adjusted_mean_rank     0.445735     0.089143    -0.390619\n",
       "3   both   best             mean_rank  7970.756498  1195.256327 -6409.341997\n",
       "4   both   best  mean_reciprocal_rank     0.143682     0.004546     0.141741\n",
       "5   both   best             hits_at_1     0.000000     0.000000    -0.000342\n",
       "6   both   best             hits_at_3     0.274453     0.030096     0.273427\n",
       "7   both   best             hits_at_5     0.313440    -0.013851     0.311389\n",
       "8   both   best            hits_at_10     0.341655    -0.049761     0.338919\n",
       "9   both  worst             mean_rank  7970.760944  1195.253591 -6409.342681\n",
       "10  both  worst  mean_reciprocal_rank     0.143682     0.004546     0.141741\n",
       "11  both  worst             hits_at_1     0.000000     0.000000    -0.000342\n",
       "12  both  worst             hits_at_3     0.274453     0.030096     0.273427\n",
       "13  both  worst             hits_at_5     0.313440    -0.013851     0.311389\n",
       "14  both  worst            hits_at_10     0.341655    -0.049761     0.338919\n",
       "15  both    avg             mean_rank  7970.758721  1195.254959 -6409.342339\n",
       "16  both    avg  mean_reciprocal_rank     0.143682     0.004546     0.141741\n",
       "17  both    avg             hits_at_1     0.000000     0.000000    -0.000342\n",
       "18  both    avg             hits_at_3     0.274453     0.030096     0.273427\n",
       "19  both    avg             hits_at_5     0.313440    -0.013851     0.311389\n",
       "20  both    avg            hits_at_10     0.341655    -0.049761     0.338919\n",
       "21  tail   best             mean_rank  6909.244870   585.056772 -4905.245212\n",
       "22  tail   best  mean_reciprocal_rank     0.144984     0.003106     0.142402\n",
       "23  tail   best             hits_at_1     0.000000     0.000000    -0.000342\n",
       "24  tail   best             hits_at_3     0.275992     0.026334     0.274624\n",
       "25  tail   best             hits_at_5     0.314637    -0.019494     0.311902\n",
       "26  tail   best            hits_at_10     0.343365    -0.054036     0.339603\n",
       "27  tail  worst             mean_rank  6909.248290   585.053352 -4905.246922\n",
       "28  tail  worst  mean_reciprocal_rank     0.144984     0.003106     0.142402\n",
       "29  tail  worst             hits_at_1     0.000000     0.000000    -0.000342\n",
       "30  tail  worst             hits_at_3     0.275992     0.026334     0.274624\n",
       "31  tail  worst             hits_at_5     0.314637    -0.019494     0.311902\n",
       "32  tail  worst            hits_at_10     0.343365    -0.054036     0.339603\n",
       "33  tail    avg             mean_rank  6909.246580   585.055062 -4905.246067\n",
       "34  tail    avg  mean_reciprocal_rank     0.144984     0.003106     0.142402\n",
       "35  tail    avg             hits_at_1     0.000000     0.000000    -0.000342\n",
       "36  tail    avg             hits_at_3     0.275992     0.026334     0.274624\n",
       "37  tail    avg             hits_at_5     0.314637    -0.019494     0.311902\n",
       "38  tail    avg            hits_at_10     0.343365    -0.054036     0.339603\n",
       "39  head   best             mean_rank  9032.268126  1805.455882 -7913.438782\n",
       "40  head   best  mean_reciprocal_rank     0.142379     0.005986     0.141080\n",
       "41  head   best             hits_at_1     0.000000     0.000000    -0.000342\n",
       "42  head   best             hits_at_3     0.272914     0.033858     0.272230\n",
       "43  head   best             hits_at_5     0.312244    -0.008208     0.310876\n",
       "44  head   best            hits_at_10     0.339945    -0.045486     0.338235\n",
       "45  head  worst             mean_rank  9032.273598  1805.453830 -7913.438440\n",
       "46  head  worst  mean_reciprocal_rank     0.142379     0.005986     0.141080\n",
       "47  head  worst             hits_at_1     0.000000     0.000000    -0.000342\n",
       "48  head  worst             hits_at_3     0.272914     0.033858     0.272230\n",
       "49  head  worst             hits_at_5     0.312244    -0.008208     0.310876\n",
       "50  head  worst            hits_at_10     0.339945    -0.045486     0.338235\n",
       "51  head    avg             mean_rank  9032.270862  1805.454856 -7913.438611\n",
       "52  head    avg  mean_reciprocal_rank     0.142379     0.005986     0.141080\n",
       "53  head    avg             hits_at_1     0.000000     0.000000    -0.000342\n",
       "54  head    avg             hits_at_3     0.272914     0.033858     0.272230\n",
       "55  head    avg             hits_at_5     0.312244    -0.008208     0.310876\n",
       "56  head    avg            hits_at_10     0.339945    -0.045486     0.338235"
      ]
     },
     "execution_count": 10,
     "metadata": {},
     "output_type": "execute_result"
    }
   ],
   "source": [
    "res_df"
   ]
  },
  {
   "cell_type": "code",
   "execution_count": 11,
   "metadata": {},
   "outputs": [],
   "source": [
    "\n",
    "# res_df.to_csv(saveloc+'.csv')\n",
    "# result2.save_to_directory(saveloc)"
   ]
  },
  {
   "cell_type": "code",
   "execution_count": null,
   "metadata": {},
   "outputs": [],
   "source": []
  }
 ],
 "metadata": {
  "kernelspec": {
   "display_name": "Python 3",
   "language": "python",
   "name": "python3"
  },
  "language_info": {
   "codemirror_mode": {
    "name": "ipython",
    "version": 3
   },
   "file_extension": ".py",
   "mimetype": "text/x-python",
   "name": "python",
   "nbconvert_exporter": "python",
   "pygments_lexer": "ipython3",
   "version": "3.7.9"
  }
 },
 "nbformat": 4,
 "nbformat_minor": 4
}
