{
 "cells": [
  {
   "cell_type": "code",
   "execution_count": 1,
   "metadata": {},
   "outputs": [],
   "source": [
    "%load_ext autoreload\n",
    "%autoreload 2\n",
    "import os\n",
    "import sys\n",
    "import time\n",
    "import pickle\n",
    "from tqdm import tqdm\n",
    "os.chdir('/home/gebhart/projects/sheaf_kg')\n",
    "\n",
    "import sheaf_kg.harmonic_extension as harmonic_extension\n",
    "\n",
    "import matplotlib.pyplot as plt\n",
    "import pandas as pd\n",
    "import numpy as np\n",
    "import pykeen\n",
    "import torch\n",
    "from pykeen.pipeline import pipeline"
   ]
  },
  {
   "cell_type": "code",
   "execution_count": 2,
   "metadata": {},
   "outputs": [],
   "source": [
    "dataset = 'FB15k'\n",
    "num_test = 1000\n",
    "model_name = 'StructuredEmbedding_1000epochs_64dim_SoftplusLossloss_42seed_20210128-1346'\n",
    "save_loc = '/home/gebhart/projects/sheaf_kg/data/{}/{}/trained_model.pkl'.format(dataset,model_name)\n",
    "q2b_path = '/home/gebhart/projects/sheaf_kg/data/{}-q2b'.format(dataset)\n",
    "model = torch.load(save_loc).to('cpu')"
   ]
  },
  {
   "cell_type": "code",
   "execution_count": 3,
   "metadata": {},
   "outputs": [],
   "source": [
    "query_structures = [('e', ('r', 'r')), ('e', ('r', 'r', 'r')), (('e', ('r',)), ('e', ('r',))), (('e', ('r',)), ('e', ('r',)), ('e', ('r',))), (('e', ('r', 'r')), ('e', ('r',))), ((('e', ('r',)), ('e', ('r',))), ('r',))]\n",
    "\n",
    "query_name_dict = {('e',('r',)): '1p', \n",
    "                    ('e', ('r', 'r')): '2p',\n",
    "                    ('e', ('r', 'r', 'r')): '3p',\n",
    "                    (('e', ('r',)), ('e', ('r',))): '2i',\n",
    "                    (('e', ('r',)), ('e', ('r',)), ('e', ('r',))): '3i',\n",
    "                    ((('e', ('r',)), ('e', ('r',))), ('r',)): 'ip',\n",
    "                    (('e', ('r', 'r')), ('e', ('r',))): 'pi',\n",
    "                    (('e', ('r',)), ('e', ('r', 'n'))): '2in',\n",
    "                    (('e', ('r',)), ('e', ('r',)), ('e', ('r', 'n'))): '3in',\n",
    "                    ((('e', ('r',)), ('e', ('r', 'n'))), ('r',)): 'inp',\n",
    "                    (('e', ('r', 'r')), ('e', ('r', 'n'))): 'pin',\n",
    "                    (('e', ('r', 'r', 'n')), ('e', ('r',))): 'pni',\n",
    "                    (('e', ('r',)), ('e', ('r',)), ('u',)): '2u-DNF',\n",
    "                    ((('e', ('r',)), ('e', ('r',)), ('u',)), ('r',)): 'up-DNF',\n",
    "                    ((('e', ('r', 'n')), ('e', ('r', 'n'))), ('n',)): '2u-DM',\n",
    "                    ((('e', ('r', 'n')), ('e', ('r', 'n'))), ('n', 'r')): 'up-DM'\n",
    "                }"
   ]
  },
  {
   "cell_type": "code",
   "execution_count": 4,
   "metadata": {
    "scrolled": true
   },
   "outputs": [],
   "source": [
    "ds = pykeen.datasets.get_dataset(dataset=dataset)\n",
    "training = ds.training.mapped_triples\n",
    "relid2label = ds.training.relation_id_to_label \n",
    "label2relid = {v:k for k,v in relid2label.items()}\n",
    "\n",
    "entid2label = ds.training.entity_id_to_label \n",
    "label2entid = {v:k for k,v in entid2label.items()}"
   ]
  },
  {
   "cell_type": "code",
   "execution_count": 5,
   "metadata": {},
   "outputs": [],
   "source": [
    "with open(os.path.join(q2b_path,'test-queries.pkl'), 'rb') as f:\n",
    "    test_queries = pickle.load(f)\n",
    "\n",
    "with open(os.path.join(q2b_path,'test-easy-answers.pkl'), 'rb') as f:\n",
    "    test_answers = pickle.load(f)\n",
    "    \n",
    "with open(os.path.join(q2b_path,'id2rel.pkl'), 'rb') as f:\n",
    "    id2rel = pickle.load(f)\n",
    "    \n",
    "with open(os.path.join(q2b_path,'id2ent.pkl'), 'rb') as f:\n",
    "    id2ent = pickle.load(f)"
   ]
  },
  {
   "cell_type": "code",
   "execution_count": 6,
   "metadata": {},
   "outputs": [],
   "source": [
    "def map_ent(e):\n",
    "    return label2entid[id2ent[e]]\n",
    "def map_rel(r):\n",
    "    orientation = 1\n",
    "    relname = id2rel[r]\n",
    "    if relname[0] == '-':\n",
    "        orientation = -1\n",
    "    return label2relid[relname[1:]], orientation"
   ]
  },
  {
   "cell_type": "code",
   "execution_count": 7,
   "metadata": {},
   "outputs": [],
   "source": [
    "def L_p(query, model):\n",
    "    '''query of form ('e', ('r', 'r', ... , 'r')).\n",
    "    here we assume 2 or more relations are present so 2p or greater\n",
    "    '''\n",
    "    ent = map_ent(query[0])\n",
    "    invs = []\n",
    "    rels = []\n",
    "    for r in query[1]:\n",
    "        mapped_id, orientation = map_rel(r) \n",
    "        rels.append(mapped_id)\n",
    "        invs.append(orientation)\n",
    "    n_path_ents = len(rels)\n",
    "    \n",
    "    edge_indices = np.concatenate([np.arange(0,n_path_ents)[:,np.newaxis].T, np.arange(1,n_path_ents+1)[:,np.newaxis].T], axis=0)\n",
    "    \n",
    "    rel_idx_tensor = torch.LongTensor(rels)\n",
    "    left_restrictions = model.left_relation_embeddings(indices=rel_idx_tensor).view(-1, model.embedding_dim, model.embedding_dim).detach().numpy()\n",
    "    right_restrictions = model.right_relation_embeddings(indices=rel_idx_tensor).view(-1, model.embedding_dim, model.embedding_dim).detach().numpy()\n",
    "    \n",
    "    restrictions = np.empty((len(rels), 2, left_restrictions.shape[2], left_restrictions.shape[1]))\n",
    "#     restrictions[:,0,:,:] = left_restrictions\n",
    "#     restrictions[:,1,:,:] = right_restrictions\n",
    "    for invix in range(len(invs)):\n",
    "        if invix == -1:\n",
    "            restrictions[:,0,:,:] = right_restrictions\n",
    "            restrictions[:,1,:,:] = left_restrictions\n",
    "        else:\n",
    "            restrictions[:,0,:,:] = left_restrictions\n",
    "            restrictions[:,1,:,:] = right_restrictions\n",
    "    \n",
    "    ent_idx_tensor = torch.LongTensor([ent])\n",
    "    source_embeddings = model.entity_embeddings(indices=ent_idx_tensor).view(-1, model.embedding_dim).detach().numpy()\n",
    "    \n",
    "    B = np.array([0,n_path_ents],np.int)\n",
    "    U = np.array(range(1,n_path_ents),np.int)\n",
    "    source_vertices = [0]\n",
    "    target_vertices = [1]\n",
    "    LSchur = harmonic_extension.Kron_reduction(edge_indices, restrictions, B, U)\n",
    "    return LSchur, source_vertices, target_vertices, source_embeddings\n",
    "\n",
    "def L_i(query, model):\n",
    "    '''query of form (('e', ('r',)), ('e', ('r',)), ... , ('e', ('r',)))'''\n",
    "    num_intersects = len(query)\n",
    "    ents = []\n",
    "    rels = []\n",
    "    invs = []\n",
    "    for pair in query:\n",
    "        ents.append(map_ent(pair[0]))\n",
    "        rel, inv = map_rel(pair[1][0])\n",
    "        rels.append(rel)\n",
    "        invs.append(inv)\n",
    "    n_ents = num_intersects\n",
    "    edge_indices = np.concatenate([np.arange(0,n_ents)[:,np.newaxis].T, np.full(n_ents,n_ents)[:,np.newaxis].T], axis=0)\n",
    "    \n",
    "    rel_idx_tensor = torch.LongTensor(rels)\n",
    "    left_restrictions = model.left_relation_embeddings(indices=rel_idx_tensor).view(-1, model.embedding_dim, model.embedding_dim).detach().numpy()\n",
    "    right_restrictions = model.right_relation_embeddings(indices=rel_idx_tensor).view(-1, model.embedding_dim, model.embedding_dim).detach().numpy()\n",
    "    \n",
    "    restrictions = np.empty((len(rels), 2, left_restrictions.shape[2], left_restrictions.shape[1]))\n",
    "#     restrictions[:,0,:,:] = left_restrictions\n",
    "#     restrictions[:,1,:,:] = right_restrictions\n",
    "    for invix in range(len(invs)):\n",
    "        if invix == -1:\n",
    "            restrictions[:,0,:,:] = right_restrictions\n",
    "            restrictions[:,1,:,:] = left_restrictions\n",
    "        else:\n",
    "            restrictions[:,0,:,:] = left_restrictions\n",
    "            restrictions[:,1,:,:] = right_restrictions\n",
    "    \n",
    "    ent_idx_tensor = torch.LongTensor(ents)\n",
    "    source_embeddings = model.entity_embeddings(indices=ent_idx_tensor).view(-1, model.embedding_dim).detach().numpy()\n",
    "    \n",
    "    L = harmonic_extension.Laplacian(edge_indices, restrictions)\n",
    "    source_vertices = np.arange(n_ents)\n",
    "    target_vertices = [n_ents]\n",
    "    return L, source_vertices, target_vertices, source_embeddings\n",
    "\n",
    "def L_ip(query, model):\n",
    "    '''query of form ((('e', ('r',)), ('e', ('r',))), ('r',))'''\n",
    "    ents = [map_ent(t[0]) for t in query[0]]\n",
    "    rel0, inv0 = map_rel(query[0][0][1][0])\n",
    "    rel1, inv1 = map_rel(query[0][1][1][0])\n",
    "    rel2, inv2 = map_rel(query[1][0])\n",
    "    rels = [rel0, rel1, rel2]\n",
    "    invs = [inv0, inv1, inv2]\n",
    "    n_ents = len(ents)\n",
    "    edge_indices = np.array([[0,2],[1,2],[2,3]],np.int).T\n",
    "    \n",
    "    rel_idx_tensor = torch.LongTensor(rels)\n",
    "    left_restrictions = model.left_relation_embeddings(indices=rel_idx_tensor).view(-1, model.embedding_dim, model.embedding_dim).detach().numpy()\n",
    "    right_restrictions = model.right_relation_embeddings(indices=rel_idx_tensor).view(-1, model.embedding_dim, model.embedding_dim).detach().numpy()\n",
    "    \n",
    "    restrictions = np.empty((len(rels), 2, left_restrictions.shape[2], left_restrictions.shape[1]))\n",
    "#     restrictions[:,0,:,:] = left_restrictions\n",
    "#     restrictions[:,1,:,:] = right_restrictions\n",
    "    for invix in range(len(invs)):\n",
    "        if invix == -1:\n",
    "            restrictions[:,0,:,:] = right_restrictions\n",
    "            restrictions[:,1,:,:] = left_restrictions\n",
    "        else:\n",
    "            restrictions[:,0,:,:] = left_restrictions\n",
    "            restrictions[:,1,:,:] = right_restrictions\n",
    "    \n",
    "    ent_idx_tensor = torch.LongTensor(ents)\n",
    "    source_embeddings = model.entity_embeddings(indices=ent_idx_tensor).view(-1, model.embedding_dim).detach().numpy()\n",
    "    \n",
    "    B = np.array([0,2,3],np.int)\n",
    "    U = np.array([1],np.int)\n",
    "    source_vertices = [0,1]\n",
    "    target_vertices = [2]\n",
    "    LSchur = harmonic_extension.Kron_reduction(edge_indices, restrictions, B, U)\n",
    "    return LSchur, source_vertices, target_vertices, source_embeddings\n",
    "    \n",
    "def L_pi(query, model):\n",
    "    '''query of form (('e', ('r', 'r')), ('e', ('r',)))'''\n",
    "    ents = [map_ent(t[0]) for t in query]\n",
    "    rel0, inv0 = map_rel(query[0][1][0])\n",
    "    rel1, inv1 = map_rel(query[0][1][1])\n",
    "    rel2, inv2 = map_rel(query[1][1][0])\n",
    "    rels = [rel0, rel1, rel2]\n",
    "    invs = [inv0, inv1, inv2]\n",
    "    n_ents = len(ents)\n",
    "    edge_indices = np.array([[0,2],[2,3],[1,3]],np.int).T\n",
    "    \n",
    "    rel_idx_tensor = torch.LongTensor(rels)\n",
    "    left_restrictions = model.left_relation_embeddings(indices=rel_idx_tensor).view(-1, model.embedding_dim, model.embedding_dim).detach().numpy()\n",
    "    right_restrictions = model.right_relation_embeddings(indices=rel_idx_tensor).view(-1, model.embedding_dim, model.embedding_dim).detach().numpy()\n",
    "    \n",
    "    restrictions = np.empty((len(rels), 2, left_restrictions.shape[2], left_restrictions.shape[1]))\n",
    "#     restrictions[:,0,:,:] = left_restrictions\n",
    "#     restrictions[:,1,:,:] = right_restrictions\n",
    "    for invix in range(len(invs)):\n",
    "        if invix == -1:\n",
    "            restrictions[:,0,:,:] = right_restrictions\n",
    "            restrictions[:,1,:,:] = left_restrictions\n",
    "        else:\n",
    "            restrictions[:,0,:,:] = left_restrictions\n",
    "            restrictions[:,1,:,:] = right_restrictions\n",
    "    \n",
    "    ent_idx_tensor = torch.LongTensor(ents)\n",
    "    source_embeddings = model.entity_embeddings(indices=ent_idx_tensor).view(-1, model.embedding_dim).detach().numpy()\n",
    "    \n",
    "    B = np.array([0,1,3],np.int)\n",
    "    U = np.array([2],np.int)\n",
    "    source_vertices = [0,1]\n",
    "    target_vertices = [2]\n",
    "    LSchur = harmonic_extension.Kron_reduction(edge_indices, restrictions, B, U)\n",
    "    return LSchur, source_vertices, target_vertices, source_embeddings\n",
    "\n",
    "query_name_fn_dict = {'2p': L_p, '3p':L_p, '2i': L_i, '3i':L_i, 'ip':L_ip, 'pi': L_pi}"
   ]
  },
  {
   "cell_type": "code",
   "execution_count": 8,
   "metadata": {},
   "outputs": [
    {
     "name": "stderr",
     "output_type": "stream",
     "text": [
      "  0%|          | 4/1000 [00:00<00:28, 35.05it/s]"
     ]
    },
    {
     "name": "stdout",
     "output_type": "stream",
     "text": [
      "Running query : ('e', ('r', 'r'))\n"
     ]
    },
    {
     "name": "stderr",
     "output_type": "stream",
     "text": [
      "100%|██████████| 1000/1000 [00:23<00:00, 42.07it/s]\n",
      "  0%|          | 3/1000 [00:00<00:45, 22.07it/s]"
     ]
    },
    {
     "name": "stdout",
     "output_type": "stream",
     "text": [
      "Running query : ('e', ('r', 'r', 'r'))\n"
     ]
    },
    {
     "name": "stderr",
     "output_type": "stream",
     "text": [
      "100%|██████████| 1000/1000 [00:33<00:00, 30.25it/s]\n",
      "  1%|          | 6/1000 [00:00<00:19, 52.25it/s]"
     ]
    },
    {
     "name": "stdout",
     "output_type": "stream",
     "text": [
      "Running query : (('e', ('r',)), ('e', ('r',)))\n"
     ]
    },
    {
     "name": "stderr",
     "output_type": "stream",
     "text": [
      "100%|██████████| 1000/1000 [00:15<00:00, 64.10it/s]\n",
      "  1%|          | 8/1000 [00:00<00:13, 74.38it/s]"
     ]
    },
    {
     "name": "stdout",
     "output_type": "stream",
     "text": [
      "Running query : (('e', ('r',)), ('e', ('r',)), ('e', ('r',)))\n"
     ]
    },
    {
     "name": "stderr",
     "output_type": "stream",
     "text": [
      "100%|██████████| 1000/1000 [00:12<00:00, 82.43it/s]\n",
      "  0%|          | 4/1000 [00:00<00:27, 35.59it/s]"
     ]
    },
    {
     "name": "stdout",
     "output_type": "stream",
     "text": [
      "Running query : (('e', ('r', 'r')), ('e', ('r',)))\n"
     ]
    },
    {
     "name": "stderr",
     "output_type": "stream",
     "text": [
      "100%|██████████| 1000/1000 [00:27<00:00, 36.38it/s]\n",
      "  0%|          | 5/1000 [00:00<00:22, 45.11it/s]"
     ]
    },
    {
     "name": "stdout",
     "output_type": "stream",
     "text": [
      "Running query : ((('e', ('r',)), ('e', ('r',))), ('r',))\n"
     ]
    },
    {
     "name": "stderr",
     "output_type": "stream",
     "text": [
      "100%|██████████| 1000/1000 [00:29<00:00, 34.31it/s]\n"
     ]
    }
   ],
   "source": [
    "target_embeddings = model.entity_embeddings(indices=None).view(-1, model.embedding_dim).detach().numpy().T\n",
    "allhits1 = []\n",
    "allhits3 = []\n",
    "allhits5 = []\n",
    "allhits10 = []\n",
    "allmrr = []\n",
    "query_names = []\n",
    "for query_structure in query_structures:\n",
    "    print('Running query : {}'.format(query_structure))\n",
    "    query_name = query_name_dict[query_structure]\n",
    "    query_names.append(query_name)\n",
    "    fn = query_name_fn_dict[query_name]\n",
    "    hits1 = 0.\n",
    "    hits3 = 0.\n",
    "    hits5 = 0.\n",
    "    hits10 = 0.\n",
    "    mrr = 0.\n",
    "    cnt = 0\n",
    "    queries = list(test_queries[query_structure])\n",
    "    for query in tqdm(queries[:num_test]):\n",
    "        if len(test_answers[query]) > 0:\n",
    "            # we have a non-trivial \"easy\" query\n",
    "            answers = [map_ent(a) for a in test_answers[query]]\n",
    "            L, source_vertices, target_vertices, source_embeddings = fn(query, model)\n",
    "            Q = harmonic_extension.compute_costs(L,source_vertices,target_vertices,source_embeddings.flatten(),target_embeddings,source_embeddings.shape[1])\n",
    "            sortd = np.sort(Q)\n",
    "            idxleft = np.searchsorted(sortd, Q[answers], side='left') + 1\n",
    "            idxright = np.searchsorted(sortd, Q[answers], side='right') + 1\n",
    "#             idxright = idxleft # throw this for optimistic ranking\n",
    "            hits1 += ((np.mean(idxleft <= 1) + np.mean(idxright <= 1)) / 2.)\n",
    "            hits3 += ((np.mean(idxleft <= 3) + np.mean(idxright <= 3)) / 2.)\n",
    "            hits5 += ((np.mean(idxleft <= 5) + np.mean(idxright <= 5)) / 2.)\n",
    "            hits10 += ((np.mean(idxleft <= 10) + np.mean(idxright <= 10)) / 2.)\n",
    "            mrr += ((np.mean(1./idxleft) + np.mean(1./idxright)) / 2.)\n",
    "            cnt += 1\n",
    "    allhits1.append(hits1/cnt)\n",
    "    allhits3.append(hits3/cnt)\n",
    "    allhits5.append(hits5/cnt)\n",
    "    allhits10.append(hits10/cnt)\n",
    "    allmrr.append(mrr/cnt)"
   ]
  },
  {
   "cell_type": "code",
   "execution_count": 9,
   "metadata": {},
   "outputs": [
    {
     "data": {
      "text/plain": [
       "[0.05650448279705848,\n",
       " 0.07579922389322329,\n",
       " 0.015540330463632013,\n",
       " 0.007932704462410853,\n",
       " 0.016496663602970373,\n",
       " 0.006859735467900289]"
      ]
     },
     "execution_count": 9,
     "metadata": {},
     "output_type": "execute_result"
    }
   ],
   "source": [
    "allhits10"
   ]
  },
  {
   "cell_type": "code",
   "execution_count": 10,
   "metadata": {},
   "outputs": [],
   "source": [
    "cols = ['hits@1', 'hits@3', 'hits@5', 'hits@10', 'mrr']\n",
    "df = pd.DataFrame(np.array([allhits1, allhits3, allhits5, allhits10, allmrr]).T,columns=cols, index=query_names) "
   ]
  },
  {
   "cell_type": "code",
   "execution_count": 11,
   "metadata": {},
   "outputs": [
    {
     "data": {
      "text/html": [
       "<div>\n",
       "<style scoped>\n",
       "    .dataframe tbody tr th:only-of-type {\n",
       "        vertical-align: middle;\n",
       "    }\n",
       "\n",
       "    .dataframe tbody tr th {\n",
       "        vertical-align: top;\n",
       "    }\n",
       "\n",
       "    .dataframe thead th {\n",
       "        text-align: right;\n",
       "    }\n",
       "</style>\n",
       "<table border=\"1\" class=\"dataframe\">\n",
       "  <thead>\n",
       "    <tr style=\"text-align: right;\">\n",
       "      <th></th>\n",
       "      <th>hits@1</th>\n",
       "      <th>hits@3</th>\n",
       "      <th>hits@5</th>\n",
       "      <th>hits@10</th>\n",
       "      <th>mrr</th>\n",
       "    </tr>\n",
       "  </thead>\n",
       "  <tbody>\n",
       "    <tr>\n",
       "      <th>2p</th>\n",
       "      <td>0.439680</td>\n",
       "      <td>2.185059</td>\n",
       "      <td>3.352460</td>\n",
       "      <td>5.650448</td>\n",
       "      <td>2.273517</td>\n",
       "    </tr>\n",
       "    <tr>\n",
       "      <th>3p</th>\n",
       "      <td>0.480128</td>\n",
       "      <td>2.686173</td>\n",
       "      <td>4.535432</td>\n",
       "      <td>7.579922</td>\n",
       "      <td>2.900477</td>\n",
       "    </tr>\n",
       "    <tr>\n",
       "      <th>2i</th>\n",
       "      <td>0.177139</td>\n",
       "      <td>0.561023</td>\n",
       "      <td>0.850930</td>\n",
       "      <td>1.554033</td>\n",
       "      <td>0.763489</td>\n",
       "    </tr>\n",
       "    <tr>\n",
       "      <th>3i</th>\n",
       "      <td>0.090812</td>\n",
       "      <td>0.331321</td>\n",
       "      <td>0.460535</td>\n",
       "      <td>0.793270</td>\n",
       "      <td>0.528589</td>\n",
       "    </tr>\n",
       "    <tr>\n",
       "      <th>pi</th>\n",
       "      <td>0.103209</td>\n",
       "      <td>0.418079</td>\n",
       "      <td>0.981814</td>\n",
       "      <td>1.649666</td>\n",
       "      <td>0.723073</td>\n",
       "    </tr>\n",
       "    <tr>\n",
       "      <th>ip</th>\n",
       "      <td>0.037376</td>\n",
       "      <td>0.173012</td>\n",
       "      <td>0.314286</td>\n",
       "      <td>0.685974</td>\n",
       "      <td>0.438182</td>\n",
       "    </tr>\n",
       "  </tbody>\n",
       "</table>\n",
       "</div>"
      ],
      "text/plain": [
       "      hits@1    hits@3    hits@5   hits@10       mrr\n",
       "2p  0.439680  2.185059  3.352460  5.650448  2.273517\n",
       "3p  0.480128  2.686173  4.535432  7.579922  2.900477\n",
       "2i  0.177139  0.561023  0.850930  1.554033  0.763489\n",
       "3i  0.090812  0.331321  0.460535  0.793270  0.528589\n",
       "pi  0.103209  0.418079  0.981814  1.649666  0.723073\n",
       "ip  0.037376  0.173012  0.314286  0.685974  0.438182"
      ]
     },
     "execution_count": 11,
     "metadata": {},
     "output_type": "execute_result"
    }
   ],
   "source": [
    "df * 100"
   ]
  },
  {
   "cell_type": "code",
   "execution_count": null,
   "metadata": {},
   "outputs": [],
   "source": []
  }
 ],
 "metadata": {
  "kernelspec": {
   "display_name": "Python 3",
   "language": "python",
   "name": "python3"
  },
  "language_info": {
   "codemirror_mode": {
    "name": "ipython",
    "version": 3
   },
   "file_extension": ".py",
   "mimetype": "text/x-python",
   "name": "python",
   "nbconvert_exporter": "python",
   "pygments_lexer": "ipython3",
   "version": "3.7.9"
  }
 },
 "nbformat": 4,
 "nbformat_minor": 4
}
