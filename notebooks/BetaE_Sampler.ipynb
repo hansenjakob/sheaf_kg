{
 "cells": [
  {
   "cell_type": "code",
   "execution_count": 1,
   "metadata": {},
   "outputs": [],
   "source": [
    "%load_ext autoreload\n",
    "%autoreload 2\n",
    "import os\n",
    "import sys\n",
    "import time\n",
    "import pickle\n",
    "from tqdm import tqdm\n",
    "# for some reason, need to go to the sheaf_kg directory in order for torch.load to work\n",
    "os.chdir('/home/gebhart/projects/sheaf_kg/sheaf_kg')\n",
    "\n",
    "import matplotlib.pyplot as plt\n",
    "import pandas as pd\n",
    "import numpy as np\n",
    "import pykeen\n",
    "import torch\n",
    "from pykeen.pipeline import pipeline\n",
    "from train_sheafE_betae import read_dataset, dataset_to_device\n",
    "import torch\n",
    "from torch_geometric.data import NeighborSampler, Data, ShaDowKHopSampler, \\\n",
    "                                GraphSAINTRandomWalkSampler, RandomNodeSampler, \\\n",
    "                                ClusterData, ClusterLoader"
   ]
  },
  {
   "cell_type": "code",
   "execution_count": 2,
   "metadata": {},
   "outputs": [],
   "source": [
    "torch.manual_seed(0)\n",
    "np.random.seed(0)"
   ]
  },
  {
   "cell_type": "code",
   "execution_count": 3,
   "metadata": {},
   "outputs": [],
   "source": [
    "dataset = 'FB15k-237'\n",
    "use_section = 0\n",
    "device = 'cpu'\n",
    "train_test_queries = 'test'\n",
    "model_name = 'SheafE_Complex_Queries_16embdim_16esdim_1sec_2norm_1epochs_SoftplusLoss_20210424-1401'\n",
    "save_loc = '/home/gebhart/projects/sheaf_kg/data/{}/{}/trained_model.pkl'.format(dataset,model_name)\n",
    "dataset_loc = '/home/gebhart/projects/sheaf_kg/data/{}-betae'.format(dataset)"
   ]
  },
  {
   "cell_type": "code",
   "execution_count": 4,
   "metadata": {},
   "outputs": [],
   "source": [
    "datasets = read_dataset(dataset_loc)\n",
    "datasets = dataset_to_device(datasets, device)"
   ]
  },
  {
   "cell_type": "code",
   "execution_count": 5,
   "metadata": {},
   "outputs": [
    {
     "name": "stderr",
     "output_type": "stream",
     "text": [
      "You're trying to map triples with 30 entities and 0 relations that are not in the training set. These triples will be excluded from the mapping.\n",
      "In total 28 from 20466 triples were filtered out\n"
     ]
    }
   ],
   "source": [
    "ds = pykeen.datasets.get_dataset(dataset=dataset, dataset_kwargs=dict(create_inverse_triples=False))\n",
    "training = ds.training.mapped_triples\n",
    "# 237*8*16*8*16/training.shape[0]"
   ]
  },
  {
   "cell_type": "code",
   "execution_count": 6,
   "metadata": {},
   "outputs": [
    {
     "data": {
      "text/plain": [
       "tensor([[    0,   120, 13647],\n",
       "        [    0,   125, 13647],\n",
       "        [    0,   126,     0],\n",
       "        ...,\n",
       "        [14503,   126, 14503],\n",
       "        [14503,   127, 12940],\n",
       "        [14504,   127, 12940]])"
      ]
     },
     "execution_count": 6,
     "metadata": {},
     "output_type": "execute_result"
    }
   ],
   "source": [
    "training"
   ]
  },
  {
   "cell_type": "code",
   "execution_count": 7,
   "metadata": {},
   "outputs": [
    {
     "name": "stderr",
     "output_type": "stream",
     "text": [
      "WARNING:root:The OGB package is out of date. Your version is 1.2.4, while the latest version is 1.3.1.\n"
     ]
    }
   ],
   "source": [
    "from ogb.nodeproppred import PygNodePropPredDataset\n",
    "d = PygNodePropPredDataset('ogbn-products')"
   ]
  },
  {
   "cell_type": "code",
   "execution_count": 8,
   "metadata": {},
   "outputs": [],
   "source": [
    "data = d[0]\n",
    "split_idx = d.get_idx_split()\n",
    "train_idx = split_idx['train']"
   ]
  },
  {
   "cell_type": "code",
   "execution_count": 9,
   "metadata": {},
   "outputs": [
    {
     "data": {
      "text/plain": [
       "torch.Size([272115, 3])"
      ]
     },
     "execution_count": 9,
     "metadata": {},
     "output_type": "execute_result"
    }
   ],
   "source": [
    "training.shape"
   ]
  },
  {
   "cell_type": "code",
   "execution_count": 10,
   "metadata": {
    "scrolled": true
   },
   "outputs": [
    {
     "data": {
      "text/plain": [
       "tensor(2449028)"
      ]
     },
     "execution_count": 10,
     "metadata": {},
     "output_type": "execute_result"
    }
   ],
   "source": [
    "data.edge_index[0].max()"
   ]
  },
  {
   "cell_type": "code",
   "execution_count": 11,
   "metadata": {},
   "outputs": [
    {
     "data": {
      "text/plain": [
       "Data(edge_index=[2, 123718280], x=[2449029, 100], y=[2449029, 1])"
      ]
     },
     "execution_count": 11,
     "metadata": {},
     "output_type": "execute_result"
    }
   ],
   "source": [
    "data"
   ]
  },
  {
   "cell_type": "code",
   "execution_count": 63,
   "metadata": {},
   "outputs": [
    {
     "name": "stdout",
     "output_type": "stream",
     "text": [
      "[EdgeIndex(edge_index=tensor([[ 1,  7, 12, 11, 13, 14, 15, 16, 17, 18, 19, 20],\n",
      "        [ 0,  1,  2,  3,  4,  5,  6,  7,  8,  9, 10, 11]]), e_id=tensor([229683, 215493,  87789, 175510, 205908, 219409,  25816, 146805,  62459,\n",
      "         13084, 266625, 124963]), size=(21, 12)), EdgeIndex(edge_index=tensor([[ 4,  5,  6,  7,  8,  9, 10, 11],\n",
      "        [ 0,  0,  1,  1,  2,  2,  3,  3]]), e_id=tensor([191549,  68076, 220040, 215486,  42783, 193566,  59950, 175510]), size=(12, 4)), EdgeIndex(edge_index=tensor([[1, 2, 3],\n",
      "        [0, 0, 0]]), e_id=tensor([229723, 152004,  53260]), size=(4, 1))]\n",
      "tensor([[11943,    11,  7198],\n",
      "        [11198,    49, 11943],\n",
      "        [ 4773,     9,  8109],\n",
      "        [ 9254,    32,  2921],\n",
      "        [10761,    93, 10033],\n",
      "        [11417,    93,  3776],\n",
      "        [ 1331,   190, 11446],\n",
      "        [ 7845,    32, 11198],\n",
      "        [ 3471,    11,  2371],\n",
      "        [  701,    10, 10141],\n",
      "        [14007,    12,  3338],\n",
      "        [ 6642,    10,  9254],\n",
      "        [10033,   100,  7198],\n",
      "        [ 3776,   100,  7198],\n",
      "        [11446,    34, 11943],\n",
      "        [11198,    33, 11943],\n",
      "        [ 2371,    13,  8109],\n",
      "        [10141,     9,  8109],\n",
      "        [ 3338,    33,  2921],\n",
      "        [ 9254,    32,  2921],\n",
      "        [11943,    68,  7198],\n",
      "        [ 8109,     3,  7198],\n",
      "        [ 2921,    68,  7198]])\n",
      "[EdgeIndex(edge_index=tensor([], size=(2, 0), dtype=torch.int64), e_id=tensor([], dtype=torch.int64), size=(1, 1)), EdgeIndex(edge_index=tensor([], size=(2, 0), dtype=torch.int64), e_id=tensor([], dtype=torch.int64), size=(1, 1)), EdgeIndex(edge_index=tensor([], size=(2, 0), dtype=torch.int64), e_id=tensor([], dtype=torch.int64), size=(1, 1))]\n",
      "tensor([], size=(0, 3), dtype=torch.int64)\n",
      "[EdgeIndex(edge_index=tensor([[10, 11, 12,  9, 13, 14, 15, 16, 17, 18],\n",
      "        [ 0,  1,  2,  3,  4,  5,  6,  7,  8,  9]]), e_id=tensor([256489,  36699,  57883,  16475, 214213, 187678,  99160, 227289,  56618,\n",
      "          4653]), size=(19, 10)), EdgeIndex(edge_index=tensor([[2, 4, 5, 6, 7, 7, 8, 9],\n",
      "        [0, 0, 1, 1, 2, 2, 3, 3]]), e_id=tensor([ 84282, 215278, 114354, 160383, 151676, 151677,  89792,  16475]), size=(10, 4)), EdgeIndex(edge_index=tensor([[1, 2, 3],\n",
      "        [0, 0, 0]]), e_id=tensor([256499,  84282, 213155]), size=(4, 1))]\n",
      "tensor([[13246,   179, 11034],\n",
      "        [ 1990,    62, 13247],\n",
      "        [ 3204,     4,  4613],\n",
      "        [  839,    10, 11079],\n",
      "        [11129,   115, 11186],\n",
      "        [ 9825,    58,  6109],\n",
      "        [ 5283,    58,  8499],\n",
      "        [11812,     4,  8092],\n",
      "        [ 3108,   140,  4873],\n",
      "        [  315,    93,   839],\n",
      "        [ 4613,   179, 11034],\n",
      "        [11186,   179, 11034],\n",
      "        [ 6109,    62, 13247],\n",
      "        [ 8499,    62, 13247],\n",
      "        [ 8092,   115,  4613],\n",
      "        [ 8092,   116,  4613],\n",
      "        [ 4873,   230, 11079],\n",
      "        [  839,    10, 11079],\n",
      "        [13247,   179, 11034],\n",
      "        [ 4613,   179, 11034],\n",
      "        [11079,   179, 11034]])\n",
      "[EdgeIndex(edge_index=tensor([[ 9,  6, 10, 11, 12, 13, 14,  4],\n",
      "        [ 0,  1,  2,  4,  5,  6,  7,  8]]), e_id=tensor([ 71679,  96031,  85500, 195139, 110085,  64250, 118534,  93494]), size=(15, 9)), EdgeIndex(edge_index=tensor([[2, 4, 5, 6, 7, 8],\n",
      "        [0, 0, 1, 1, 2, 2]]), e_id=tensor([ 85861,  93259, 129344,  96031,  21074, 161608]), size=(9, 4)), EdgeIndex(edge_index=tensor([[1, 2, 3],\n",
      "        [0, 0, 0]]), e_id=tensor([224643,  85861, 188594]), size=(4, 1))]\n",
      "tensor([[ 3984,   209,  5809],\n",
      "        [ 5165,   204, 11695],\n",
      "        [ 4683,   200,  4693],\n",
      "        [10240,   200,  5036],\n",
      "        [ 5859,    51,  6873],\n",
      "        [ 3591,   215,  5165],\n",
      "        [ 6335,   198,  1070],\n",
      "        [ 5036,   209,  8573],\n",
      "        [ 4693,   209,  5809],\n",
      "        [ 5036,   209,  5809],\n",
      "        [ 6873,   183, 11695],\n",
      "        [ 5165,   204, 11695],\n",
      "        [ 1070,   199,  4693],\n",
      "        [ 8573,   200,  4693],\n",
      "        [11695,   201,  5809],\n",
      "        [ 4693,   209,  5809],\n",
      "        [ 9878,   205,  5809]])\n",
      "[EdgeIndex(edge_index=tensor([[ 3,  8,  9,  1, 10, 11, 12],\n",
      "        [ 0,  1,  2,  4,  5,  6,  7]]), e_id=tensor([127346,  15250, 139646,  86079,  93545, 178828, 224038]), size=(13, 8)), EdgeIndex(edge_index=tensor([[1, 2, 4, 5, 6, 7],\n",
      "        [0, 0, 1, 1, 2, 2]]), e_id=tensor([ 85998,  71821, 157746, 186237, 260292,  72713]), size=(8, 4)), EdgeIndex(edge_index=tensor([[1, 2, 3],\n",
      "        [0, 0, 0]]), e_id=tensor([ 85998,  71821, 127346]), size=(4, 1))]\n",
      "tensor([[ 6789,   205,  7220],\n",
      "        [  781,   200,  4693],\n",
      "        [ 7482,   200,  3984],\n",
      "        [ 4693,   209,  8418],\n",
      "        [ 5036,   209,  9780],\n",
      "        [ 9451,   198, 13448],\n",
      "        [11682,   209,  4012],\n",
      "        [ 4693,   209,  7220],\n",
      "        [ 3984,   209,  7220],\n",
      "        [ 8418,   200,  4693],\n",
      "        [ 9780,   200,  4693],\n",
      "        [13448,   199,  3984],\n",
      "        [ 4012,   199,  3984],\n",
      "        [ 4693,   209,  7220],\n",
      "        [ 3984,   209,  7220],\n",
      "        [ 6789,   205,  7220]])\n",
      "[EdgeIndex(edge_index=tensor([[ 5, 12, 13, 14, 15, 16, 17, 18, 19, 20, 21],\n",
      "        [ 0,  1,  2,  3,  4,  5,  6,  7,  9, 10, 11]]), e_id=tensor([146868, 226831, 121619,  56861,  73322, 177034,   7694,  90850, 147691,\n",
      "        233075,   1503]), size=(22, 12)), EdgeIndex(edge_index=tensor([[ 4,  5,  6,  7,  8,  9, 10, 11],\n",
      "        [ 0,  0,  1,  1,  2,  2,  3,  3]]), e_id=tensor([ 16578, 146868, 196259, 235993,  82023, 257915,  18979,  11168]), size=(12, 4)), EdgeIndex(edge_index=tensor([[1, 2, 3],\n",
      "        [0, 0, 0]]), e_id=tensor([186473,  75119,  23632]), size=(4, 1))]\n",
      "tensor([[ 7849,   171,  7911],\n",
      "        [11796,    73,  9784],\n",
      "        [ 6491,   156,  4167],\n",
      "        [ 3123,   159,  1222],\n",
      "        [ 4078,    14,   841],\n",
      "        [ 9341,   198,  7849],\n",
      "        [  452,   171, 10312],\n",
      "        [ 4908,     3, 12326],\n",
      "        [ 7869,   158, 13331],\n",
      "        [12122,   148,   977],\n",
      "        [   95,   150,   628],\n",
      "        [  841,   189,  7911],\n",
      "        [ 7849,   171,  7911],\n",
      "        [10312,    22,  9784],\n",
      "        [12326,    73,  9784],\n",
      "        [ 4485,   149,  4167],\n",
      "        [13331,   156,  4167],\n",
      "        [  977,   154,  1222],\n",
      "        [  628,   149,  1222],\n",
      "        [ 9784,   129,  7911],\n",
      "        [ 4167,   147,  7911],\n",
      "        [ 1222,   147,  7911]])\n",
      "[EdgeIndex(edge_index=tensor([[ 5, 10, 11, 12, 13, 14,  3, 15,  2],\n",
      "        [ 0,  1,  2,  3,  4,  6,  7,  8,  9]]), e_id=tensor([ 96798, 167896, 102725,  49551, 227684, 237752,  76117, 128506, 209554]), size=(16, 10)), EdgeIndex(edge_index=tensor([[4, 5, 3, 6, 1, 7, 8, 9],\n",
      "        [0, 0, 1, 1, 2, 2, 3, 3]]), e_id=tensor([  7341,  96798,  76114, 124421, 131576, 177973,  65738, 146797]), size=(10, 4)), EdgeIndex(edge_index=tensor([[1, 2, 3],\n",
      "        [0, 0, 0]]), e_id=tensor([131565, 209546,  76111]), size=(4, 1))]\n",
      "tensor([[ 5194,   183,  2650],\n",
      "        [ 8861,    10,  6999],\n",
      "        [ 5475,    10, 10917],\n",
      "        [ 2745,    10,  4214],\n",
      "        [11829,    10,   441],\n",
      "        [12410,    12,  6608],\n",
      "        [ 4214,    10,  9395],\n",
      "        [ 6836,     7,  3665],\n",
      "        [10917,    10,  7845],\n",
      "        [  441,    10,  2650],\n",
      "        [ 5194,   183,  2650],\n",
      "        [ 4214,    10,  6999],\n",
      "        [ 6608,    10,  6999],\n",
      "        [ 6999,    10, 10917],\n",
      "        [ 9395,    10, 10917],\n",
      "        [ 3665,    14,  4214],\n",
      "        [ 7845,    10,  4214],\n",
      "        [ 6999,    10,  2650],\n",
      "        [10917,    10,  2650],\n",
      "        [ 4214,    10,  2650]])\n",
      "[EdgeIndex(edge_index=tensor([[11, 12, 13, 10, 14, 15, 16, 17, 18, 19, 20],\n",
      "        [ 0,  1,  2,  3,  4,  5,  6,  7,  8,  9, 10]]), e_id=tensor([170817, 216150,  80057,  47544,  97470,  96802, 150585, 185888, 161087,\n",
      "        208998, 182534]), size=(21, 11)), EdgeIndex(edge_index=tensor([[ 3,  4,  5,  6,  7,  8,  9, 10],\n",
      "        [ 0,  0,  1,  1,  2,  2,  3,  3]]), e_id=tensor([116443, 212461,  51469, 100268, 190641,  33708, 108221,  47544]), size=(11, 4)), EdgeIndex(edge_index=tensor([[1, 2, 3],\n",
      "        [0, 0, 0]]), e_id=tensor([127889, 129944, 116443]), size=(4, 1))]\n",
      "tensor([[ 8998,   116,  8274],\n",
      "        [11248,   115,  6812],\n",
      "        [ 4392,    59,  6920],\n",
      "        [ 2669,   115,  6205],\n",
      "        [ 5219,   115, 11051],\n",
      "        [ 5194,   183,  2827],\n",
      "        [ 8040,     4,  5343],\n",
      "        [ 9767,   140,  9990],\n",
      "        [ 8549,   129,  1810],\n",
      "        [10900,    10,  5747],\n",
      "        [ 9617,   183,  2669],\n",
      "        [ 6205,   115,  8274],\n",
      "        [11051,   115,  8274],\n",
      "        [ 2827,   115,  6812],\n",
      "        [ 5343,   115,  6812],\n",
      "        [ 9990,    98,  6920],\n",
      "        [ 1810,    59,  6920],\n",
      "        [ 5747,   115,  6205],\n",
      "        [ 2669,   115,  6205],\n",
      "        [ 6812,   115,  8274],\n",
      "        [ 6920,   115,  8274],\n",
      "        [ 6205,   115,  8274]])\n",
      "[EdgeIndex(edge_index=tensor([], size=(2, 0), dtype=torch.int64), e_id=tensor([], dtype=torch.int64), size=(1, 1)), EdgeIndex(edge_index=tensor([], size=(2, 0), dtype=torch.int64), e_id=tensor([], dtype=torch.int64), size=(1, 1)), EdgeIndex(edge_index=tensor([], size=(2, 0), dtype=torch.int64), e_id=tensor([], dtype=torch.int64), size=(1, 1))]\n",
      "tensor([], size=(0, 3), dtype=torch.int64)\n",
      "[EdgeIndex(edge_index=tensor([[ 3, 10, 11, 12, 13, 14,  2, 15],\n",
      "        [ 0,  1,  2,  3,  4,  6,  7,  8]]), e_id=tensor([128842,  41950,  27666, 158792, 177607, 134957,  13154,  40752]), size=(16, 10)), EdgeIndex(edge_index=tensor([[3, 3, 4, 5, 6, 7, 8, 9],\n",
      "        [0, 0, 1, 1, 2, 2, 3, 3]]), e_id=tensor([128842, 128862,  11384, 168152, 216750,  61272,  27620,  61544]), size=(10, 4)), EdgeIndex(edge_index=tensor([[1, 2, 3],\n",
      "        [0, 0, 0]]), e_id=tensor([123844,  13079, 128842]), size=(4, 1))]\n",
      "tensor([[ 6856,    14,  7334],\n",
      "        [ 2322,    68,  6578],\n",
      "        [ 1452,    93,   701],\n",
      "        [ 8463,     3,  6856],\n",
      "        [ 9370,    92,   632],\n",
      "        [ 7164,    68, 11279],\n",
      "        [  701,   100,  3413],\n",
      "        [ 2249,    32,  1451],\n",
      "        [ 6856,    14,  7334],\n",
      "        [ 6856,    98,  7334],\n",
      "        [  632,    11,  6578],\n",
      "        [ 8869,    68,  6578],\n",
      "        [11279,    93,   701],\n",
      "        [ 3413,    93,   701],\n",
      "        [ 1451,    11,  6856],\n",
      "        [ 3423,   140,  6856],\n",
      "        [ 6578,    79,  7334],\n",
      "        [  701,    10,  7334],\n",
      "        [ 6856,    14,  7334]])\n",
      "[EdgeIndex(edge_index=tensor([[11, 12,  9, 10, 13, 14, 15, 16, 17, 18, 19],\n",
      "        [ 0,  1,  2,  3,  4,  5,  6,  7,  8,  9, 10]]), e_id=tensor([ 89117, 104022, 237578, 219733, 199162,  46317,  16975,   2795,  84259,\n",
      "        194430, 112013]), size=(20, 11)), EdgeIndex(edge_index=tensor([[ 4,  5,  6,  7,  8,  9, 10],\n",
      "        [ 0,  0,  1,  1,  2,  2,  3]]), e_id=tensor([  7933,  50762, 173651, 226565, 137904, 237578, 219733]), size=(11, 4)), EdgeIndex(edge_index=tensor([[1, 2, 3],\n",
      "        [0, 0, 0]]), e_id=tensor([ 69185,  94665, 260500]), size=(4, 1))]\n",
      "tensor([[ 4840,    68,  3998],\n",
      "        [ 5555,    88,  3850],\n",
      "        [12405,    92,  5092],\n",
      "        [11431,    85, 13460],\n",
      "        [10395,     4,   461],\n",
      "        [ 2601,   193,  2796],\n",
      "        [  854,   100,  9163],\n",
      "        [  185,    68, 11785],\n",
      "        [ 4611,    68,  7353],\n",
      "        [10188,    68, 12405],\n",
      "        [ 5952,    68, 11431],\n",
      "        [  461,    68,  3998],\n",
      "        [ 2796,    68,  3998],\n",
      "        [ 9163,    88,  3850],\n",
      "        [11785,    88,  3850],\n",
      "        [ 7353,    92,  5092],\n",
      "        [12405,    92,  5092],\n",
      "        [11431,    85, 13460],\n",
      "        [ 3850,    11,  3998],\n",
      "        [ 5092,    70,  3998],\n",
      "        [13460,   140,  3998]])\n"
     ]
    }
   ],
   "source": [
    "edge_index = torch.empty((2,training.shape[0]), dtype=torch.int64)\n",
    "edge_index[0,:] = training[:,0]\n",
    "edge_index[1,:] = training[:,2]\n",
    "train_idx = torch.unique(edge_index.flatten())\n",
    "train_loader = NeighborSampler(edge_index, node_idx=train_idx,\n",
    "                               sizes=[3,2,1], batch_size=1,\n",
    "                               shuffle=True, num_workers=2)\n",
    "i = 0\n",
    "for batch_size, n_id, adjs in train_loader:\n",
    "    e_ids = []\n",
    "    print(adjs)\n",
    "    for j, (eix, e_id, size) in enumerate(adjs):\n",
    "        e_ids.append(e_id)\n",
    "    e_ids = torch.cat(e_ids, dim=0)\n",
    "    print(training[e_ids])\n",
    "    i += 1\n",
    "    if i > 10:\n",
    "        break"
   ]
  },
  {
   "cell_type": "code",
   "execution_count": null,
   "metadata": {},
   "outputs": [],
   "source": []
  },
  {
   "cell_type": "code",
   "execution_count": 13,
   "metadata": {},
   "outputs": [
    {
     "data": {
      "text/plain": [
       "torch.Size([2, 272115])"
      ]
     },
     "execution_count": 13,
     "metadata": {},
     "output_type": "execute_result"
    }
   ],
   "source": [
    "edge_index.shape"
   ]
  },
  {
   "cell_type": "code",
   "execution_count": 14,
   "metadata": {},
   "outputs": [],
   "source": [
    "object_data = Data(edge_index=edge_index)\n",
    "object_data.num_nodes = train_idx.shape[0]"
   ]
  },
  {
   "cell_type": "code",
   "execution_count": 34,
   "metadata": {},
   "outputs": [
    {
     "name": "stdout",
     "output_type": "stream",
     "text": [
      "tensor([[0, 2, 3],\n",
      "        [1, 0, 2]]) Data(edge_index=[2, 3])\n",
      "tensor([[0, 1, 1, 2, 2, 2, 2],\n",
      "        [2, 2, 2, 0, 0, 1, 1]]) Data(edge_index=[2, 7])\n",
      "tensor([[0, 0, 0, 1, 1, 2, 2, 2, 2, 3, 3],\n",
      "        [1, 2, 3, 0, 2, 0, 0, 1, 1, 0, 0]]) Data(edge_index=[2, 11])\n",
      "tensor([[0],\n",
      "        [2]]) Data(edge_index=[2, 1])\n",
      "tensor([[0, 1, 3],\n",
      "        [2, 2, 1]]) Data(edge_index=[2, 3])\n"
     ]
    }
   ],
   "source": [
    "saint_loader = GraphSAINTRandomWalkSampler(object_data, batch_size=1, walk_length=3,\n",
    "                                     num_steps=100, num_workers=3, shuffle=True)\n",
    "i = 0\n",
    "for data in saint_loader:\n",
    "    print(data.edge_index, data)\n",
    "    i += 1\n",
    "    if i > 4:\n",
    "        break"
   ]
  },
  {
   "cell_type": "code",
   "execution_count": 33,
   "metadata": {},
   "outputs": [
    {
     "data": {
      "text/plain": [
       "tensor([[    0,     0,     0,  ..., 14503, 14503, 14504],\n",
       "        [13647, 13647,     0,  ..., 14503, 12940, 12940]])"
      ]
     },
     "execution_count": 33,
     "metadata": {},
     "output_type": "execute_result"
    }
   ],
   "source": [
    "object_data.edge_index"
   ]
  },
  {
   "cell_type": "code",
   "execution_count": 62,
   "metadata": {
    "scrolled": true
   },
   "outputs": [
    {
     "name": "stdout",
     "output_type": "stream",
     "text": [
      "tensor([[ 6, 37, 75, 78, 79],\n",
      "        [ 6, 67, 75, 78, 79]]) Data(edge_index=[2, 5])\n",
      "tensor([[ 0,  4,  8,  8,  9, 10, 29, 36, 36, 41, 54, 61, 77, 78, 79],\n",
      "        [ 0, 70,  8,  8,  9, 10, 29, 36, 36, 26, 54,  4, 77, 78, 79]]) Data(edge_index=[2, 15])\n",
      "tensor([[ 1, 14, 14, 16, 16, 31, 44, 47, 50, 53],\n",
      "        [47, 14, 14, 26, 31, 46, 57,  1, 50, 53]]) Data(edge_index=[2, 10])\n",
      "tensor([[ 5,  5, 15, 21, 21, 23, 38, 44, 44, 46, 52, 53],\n",
      "        [ 5,  5, 53, 21, 21, 50,  7, 44, 44, 46, 47, 15]]) Data(edge_index=[2, 12])\n",
      "tensor([[ 5,  5,  7,  7,  7,  7, 11, 15, 15, 17, 17, 21, 29, 32, 34, 34, 34, 34,\n",
      "         38, 44, 48, 51, 51, 54, 58, 58, 59, 59, 66, 68],\n",
      "        [34, 58, 34, 34, 38, 45, 51, 15, 15, 17, 17, 51, 51, 23,  7, 58, 58, 58,\n",
      "         64, 57, 48, 45, 59, 54, 34, 34, 51, 51, 66, 68]]) Data(edge_index=[2, 30])\n",
      "tensor([[10, 10, 16, 16, 17, 27, 40, 44, 46, 60, 68, 68, 71, 71, 82],\n",
      "        [10, 10, 16, 16, 60, 37,  6, 44, 68, 17, 63, 63, 82, 82, 71]]) Data(edge_index=[2, 15])\n",
      "tensor([[11, 11, 13, 13, 22, 22, 38, 40, 49, 58, 61, 70, 70, 71, 72, 76, 77],\n",
      "        [27, 52, 13, 13, 22, 22, 38, 61, 81,  9, 40, 70, 70, 72, 71, 76, 77]]) Data(edge_index=[2, 17])\n",
      "tensor([[ 5, 15, 15, 15, 24, 24, 24, 24, 24, 26, 26, 28, 38, 38, 38, 40, 53, 56,\n",
      "         57, 65, 65],\n",
      "        [50, 50, 50, 50, 24, 24, 50, 50, 50, 50, 50, 50, 38, 38, 38, 50, 57, 50,\n",
      "         53, 50, 65]]) Data(edge_index=[2, 21])\n",
      "tensor([[ 6,  6, 12, 18, 24, 29, 39, 69, 70, 72, 74, 74, 75, 75],\n",
      "        [ 6,  6, 34, 44, 24, 50, 65, 68, 68, 68, 68, 74, 75, 75]]) Data(edge_index=[2, 14])\n",
      "tensor([[ 1, 33, 34, 34, 47, 53, 55, 63, 68, 75, 87, 88, 89],\n",
      "        [ 1, 33, 34, 34, 47, 68,  3, 63, 53, 59, 87, 88, 89]]) Data(edge_index=[2, 13])\n",
      "tensor([[ 0,  0,  4,  5, 10, 11, 12, 12, 12, 13, 15, 16, 16, 18, 19, 21, 23, 23,\n",
      "         25, 26, 26, 29, 31, 32, 43, 45, 47, 51, 56, 59, 60, 63, 67, 69, 71],\n",
      "        [ 0,  0, 25, 30, 25, 25, 12, 12, 12, 25, 25, 16, 16, 61, 25, 25, 23, 23,\n",
      "         25, 25, 63, 25, 25, 32, 18, 25, 25, 25, 63, 25, 25, 56, 18, 69, 71]]) Data(edge_index=[2, 35])\n"
     ]
    }
   ],
   "source": [
    "node_loader = RandomNodeSampler(object_data, num_parts=200, num_workers=3, shuffle=True)\n",
    "i = 0\n",
    "for data in node_loader:\n",
    "    print(data.edge_index, data)\n",
    "    i += 1\n",
    "    if i > 10:\n",
    "        break"
   ]
  },
  {
   "cell_type": "code",
   "execution_count": 26,
   "metadata": {},
   "outputs": [
    {
     "data": {
      "text/plain": [
       "tensor([   13,   191, 13720])"
      ]
     },
     "execution_count": 26,
     "metadata": {},
     "output_type": "execute_result"
    }
   ],
   "source": [
    "training[71]"
   ]
  },
  {
   "cell_type": "code",
   "execution_count": 17,
   "metadata": {},
   "outputs": [
    {
     "name": "stdout",
     "output_type": "stream",
     "text": [
      "Computing METIS partitioning...\n",
      "Done!\n",
      "tensor([[  0,   0,   0,  ..., 280, 281, 281],\n",
      "        [ 18,  20,  23,  ..., 231, 218, 281]]) Data(edge_index=[2, 994])\n"
     ]
    }
   ],
   "source": [
    "cluster_data = ClusterData(object_data, num_parts=50, recursive=False)\n",
    "cluster_loader = ClusterLoader(cluster_data, batch_size=1, shuffle=True, num_workers=3)\n",
    "for data in cluster_loader:\n",
    "    print(data.edge_index, data)\n",
    "    i += 1\n",
    "    if i > 4:\n",
    "        break"
   ]
  },
  {
   "cell_type": "code",
   "execution_count": null,
   "metadata": {},
   "outputs": [],
   "source": []
  },
  {
   "cell_type": "code",
   "execution_count": null,
   "metadata": {},
   "outputs": [],
   "source": []
  },
  {
   "cell_type": "code",
   "execution_count": null,
   "metadata": {},
   "outputs": [],
   "source": []
  }
 ],
 "metadata": {
  "kernelspec": {
   "display_name": "Python 3",
   "language": "python",
   "name": "python3"
  },
  "language_info": {
   "codemirror_mode": {
    "name": "ipython",
    "version": 3
   },
   "file_extension": ".py",
   "mimetype": "text/x-python",
   "name": "python",
   "nbconvert_exporter": "python",
   "pygments_lexer": "ipython3",
   "version": "3.7.9"
  }
 },
 "nbformat": 4,
 "nbformat_minor": 4
}
