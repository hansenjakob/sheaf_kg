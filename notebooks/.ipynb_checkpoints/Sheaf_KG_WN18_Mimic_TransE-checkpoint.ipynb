{
 "cells": [
  {
   "cell_type": "code",
   "execution_count": 1,
   "metadata": {},
   "outputs": [],
   "source": [
    "%load_ext autoreload\n",
    "%autoreload 2\n",
    "import os\n",
    "import sys\n",
    "import time\n",
    "\n",
    "import matplotlib.pyplot as plt\n",
    "import pandas as pd\n",
    "import numpy as np\n",
    "import pykeen\n",
    "import torch\n",
    "\n",
    "from pykeen.pipeline import pipeline"
   ]
  },
  {
   "cell_type": "code",
   "execution_count": 2,
   "metadata": {},
   "outputs": [],
   "source": [
    "dataset = 'WN18RR'\n",
    "num_epochs = 200\n",
    "embedding_dim = 64\n",
    "random_seed = 1234\n",
    "\n",
    "edge_stalk_sizes = [1,1,1,1,1,1,1,1,1,1,1]\n",
    "# edge_stalk_sizes = [embedding_dim,embedding_dim,embedding_dim,embedding_dim,embedding_dim,embedding_dim,embedding_dim,embedding_dim,embedding_dim,embedding_dim,embedding_dim]\n",
    "loss = 'SoftplusLoss'\n",
    "timestr = time.strftime(\"%Y%m%d-%H%M\")\n",
    "\n",
    "savename = 'SheafE_nonconstant_{}epochs_{}dim_{}loss_{}seed_{}'.format(num_epochs,embedding_dim,loss,random_seed,timestr)\n",
    "saveloc = os.path.join('/home/gebhart/projects/sheaf_kg/data',dataset,savename)"
   ]
  },
  {
   "cell_type": "code",
   "execution_count": 3,
   "metadata": {},
   "outputs": [],
   "source": [
    "# ds = pykeen.datasets.get_dataset(dataset=dataset)\n",
    "\n",
    "# training = ds.training.mapped_triples\n",
    "# ds.training.mapped_triples = training[training[:,0].sort()[1]]\n",
    "# testing = ds.testing.mapped_triples\n",
    "# ds.testing.mapped_triples = testing[testing[:,0].sort()[1]]\n",
    "# validation = ds.validation.mapped_triples\n",
    "# ds.validation.mapped_triples = validation[validation[:,0].sort()[1]]\n",
    "# ds.training.relation_id_to_label"
   ]
  },
  {
   "cell_type": "markdown",
   "metadata": {},
   "source": [
    "- also_see: both restriction maps are identity\n",
    "- derivationally_related_form: unconstrained on both sides, or perhaps orthogonality\n",
    "- has_part: unique projection on both sides\n",
    "- hypernym: unique projection on both sides\n",
    "- instance_hypernym: unique projection on both sides\n",
    "- member_meronym: unique projection on both sides\n",
    "- member_of_domain_region: unique projection on both sides\n",
    "- member_of_domain_usage: unique projection on both sides\n",
    "- similar_to: some sort of minimally-distant/constrained transformation on both sides?\n",
    "- synset_domain_topic_of: unique projection on both sides\n",
    "- verb_group: some sort of minimally-distant/constrained transformation on both sides?"
   ]
  },
  {
   "cell_type": "code",
   "execution_count": null,
   "metadata": {},
   "outputs": [],
   "source": []
  },
  {
   "cell_type": "code",
   "execution_count": 4,
   "metadata": {},
   "outputs": [],
   "source": [
    "import functools\n",
    "import itertools\n",
    "from typing import Optional\n",
    "\n",
    "from pykeen.models import StructuredEmbedding\n",
    "from pykeen.models.base import EntityEmbeddingModel\n",
    "from pykeen.nn import Embedding\n",
    "from pykeen.losses import Loss\n",
    "from pykeen.nn.init import xavier_uniform_\n",
    "from pykeen.regularizers import Regularizer\n",
    "from pykeen.triples import TriplesFactory\n",
    "from pykeen.typing import DeviceHint\n",
    "from pykeen.utils import compose\n",
    "\n",
    "from torch.nn import functional\n",
    "from torch import nn\n",
    "\n",
    "import geotorch\n",
    "\n",
    "class ModifiedSE(StructuredEmbedding):\n",
    "    \n",
    "    def __init__(\n",
    "        self,\n",
    "        triples_factory: TriplesFactory,\n",
    "        embedding_dim: int = 40,\n",
    "        edge_stalk_sizes: [int] = [40,40,20,20,20,20,20,20,40,20,40],\n",
    "        alpha: float = 0.1,\n",
    "        scoring_fct_norm: int = 2,\n",
    "        loss: Optional[Loss] = None,\n",
    "        preferred_device: DeviceHint = None,\n",
    "        random_seed: Optional[int] = None,\n",
    "        regularizer: Optional[Regularizer] = None,\n",
    "    ) -> None:\n",
    "        r\"\"\"Initialize SE.\n",
    "\n",
    "        :param embedding_dim: The entity embedding dimension $d$. Is usually $d \\in [50, 300]$.\n",
    "        :param scoring_fct_norm: The $l_p$ norm. Usually 1 for SE.\n",
    "        \"\"\"\n",
    "        super().__init__(\n",
    "            triples_factory=triples_factory,\n",
    "            embedding_dim=embedding_dim,\n",
    "            loss=loss,\n",
    "            preferred_device=preferred_device,\n",
    "            random_seed=random_seed,\n",
    "            regularizer=regularizer,\n",
    "        )\n",
    "                \n",
    "        self.alpha = alpha\n",
    "        self.preferred_device = preferred_device\n",
    "        \n",
    "        # Embeddings\n",
    "        init_bound = 6 / np.sqrt(self.embedding_dim)\n",
    "        \n",
    "        self.left_embeddings = []\n",
    "        self.right_embeddings = []\n",
    "        \n",
    "        # relation 1\n",
    "        tsize = (edge_stalk_sizes[0],embedding_dim)\n",
    "#         emb1l = nn.init.xavier_uniform_(torch.eye(tsize[0],tsize[1], device=preferred_device, requires_grad=True))\n",
    "        emb1l = torch.eye(tsize[0],tsize[1], device=preferred_device, requires_grad=False)\n",
    "        emb1r = emb1l\n",
    "        self.left_embeddings.append(emb1l)\n",
    "        self.right_embeddings.append(emb1r)\n",
    "        \n",
    "        # relation 2 \n",
    "        tsize = (edge_stalk_sizes[1],embedding_dim)\n",
    "        emb2l = nn.init.xavier_uniform_(torch.empty(tsize, device=preferred_device, requires_grad=True))\n",
    "        emb2r = emb2l\n",
    "        self.left_embeddings.append(emb2l)\n",
    "        self.right_embeddings.append(emb2r)\n",
    "        \n",
    "        # relation 3\n",
    "        tsize = (edge_stalk_sizes[2],embedding_dim)\n",
    "        emb3l = nn.init.xavier_uniform_(torch.empty(tsize, device=preferred_device, requires_grad=True))\n",
    "        emb3r = emb3l\n",
    "        self.left_embeddings.append(emb3l)\n",
    "        self.right_embeddings.append(emb3r)\n",
    "        \n",
    "        # relation 4\n",
    "        tsize = (edge_stalk_sizes[3],embedding_dim)\n",
    "        emb4l = nn.init.xavier_uniform_(torch.empty(tsize, device=preferred_device, requires_grad=True))\n",
    "        emb4r = emb4l\n",
    "        self.left_embeddings.append(emb4l)\n",
    "        self.right_embeddings.append(emb4r)\n",
    "        \n",
    "        # relation 5\n",
    "        tsize = (edge_stalk_sizes[4],embedding_dim)\n",
    "        emb5l = nn.init.xavier_uniform_(torch.empty(tsize, device=preferred_device, requires_grad=True))\n",
    "        emb5r = emb5l\n",
    "        self.left_embeddings.append(emb5l)\n",
    "        self.right_embeddings.append(emb5r)\n",
    "        \n",
    "        # relation 6\n",
    "        tsize = (edge_stalk_sizes[5],embedding_dim)\n",
    "        emb6l = nn.init.xavier_uniform_(torch.empty(tsize, device=preferred_device, requires_grad=True))\n",
    "        emb6r = emb6l\n",
    "        self.left_embeddings.append(emb6l)\n",
    "        self.right_embeddings.append(emb6r)\n",
    "        \n",
    "        # relation 7\n",
    "        tsize = (edge_stalk_sizes[6],embedding_dim)\n",
    "        emb7l = nn.init.xavier_uniform_(torch.empty(tsize, device=preferred_device, requires_grad=True))\n",
    "        emb7r = emb7l\n",
    "        self.left_embeddings.append(emb7l)\n",
    "        self.right_embeddings.append(emb7r)\n",
    "        \n",
    "        # relation 8\n",
    "        tsize = (edge_stalk_sizes[7],embedding_dim)\n",
    "        emb8l = nn.init.xavier_uniform_(torch.empty(tsize, device=preferred_device, requires_grad=True))\n",
    "        emb8r = emb8l\n",
    "        self.left_embeddings.append(emb8l)\n",
    "        self.right_embeddings.append(emb8r)\n",
    "        \n",
    "        # relation 9\n",
    "        tsize = (edge_stalk_sizes[8],embedding_dim)\n",
    "        emb9l = torch.eye(tsize[0],tsize[1], device=preferred_device, requires_grad=True)\n",
    "        emb9r = emb9l\n",
    "        self.left_embeddings.append(emb9l)\n",
    "        self.right_embeddings.append(emb9r)\n",
    "        \n",
    "        # relation 10\n",
    "        tsize = (edge_stalk_sizes[9],embedding_dim)\n",
    "        emb10l = nn.init.xavier_uniform_(torch.empty(tsize, device=preferred_device, requires_grad=True))\n",
    "        emb10r = emb10l\n",
    "        self.left_embeddings.append(emb10l)\n",
    "        self.right_embeddings.append(emb10r)\n",
    "        \n",
    "        # relation 11\n",
    "        tsize = (edge_stalk_sizes[10],embedding_dim)\n",
    "        emb11l = torch.eye(tsize[0],tsize[1], device=preferred_device, requires_grad=True)\n",
    "        emb11r = emb11l\n",
    "        self.left_embeddings.append(emb11l)\n",
    "        self.right_embeddings.append(emb11r)\n",
    "        \n",
    "        \n",
    "    def score_hrt(self, hrt_batch: torch.LongTensor) -> torch.FloatTensor:  # noqa: D102\n",
    "        # Get embeddings\n",
    "        rel_idxs = torch.unique(hrt_batch[:,1])\n",
    "        scores = torch.zeros(hrt_batch.shape[0], device=self.preferred_device)\n",
    "        for i in range(rel_idxs.shape[0]):\n",
    "            ix = rel_idxs[i]\n",
    "            batch_indices = torch.nonzero(hrt_batch[:,1] == ix)\n",
    "            batch = hrt_batch[hrt_batch[:,1] == ix]\n",
    "            h = self.entity_embeddings(indices=batch[:, 0]).view(-1, self.embedding_dim, 1)\n",
    "            t = self.entity_embeddings(indices=batch[:, 2]).view(-1, self.embedding_dim, 1)\n",
    "            rel_h = self.left_embeddings[ix]\n",
    "            rel_t = self.right_embeddings[ix]\n",
    "            \n",
    "            proj_h = rel_h @ h\n",
    "            proj_t = rel_t @ t\n",
    "            scores[batch_indices] = -torch.norm(proj_h - proj_t, dim=1, p=self.scoring_fct_norm)**2\n",
    "            \n",
    "        return scores\n",
    "\n",
    "    def score_t(self, hr_batch: torch.LongTensor, slice_size: int = None) -> torch.FloatTensor:  # noqa: D102\n",
    "        # Get embeddings\n",
    "        rel_idxs = torch.unique(hr_batch[:,1])\n",
    "        t_all = self.entity_embeddings(indices=None).view(1, -1, self.embedding_dim, 1)\n",
    "        scores = torch.zeros((hr_batch.shape[0],t_all.shape[1]), device=self.preferred_device)\n",
    "        for i in range(rel_idxs.shape[0]):\n",
    "            ix = rel_idxs[i]\n",
    "            batch_indices = torch.nonzero(hr_batch[:,1] == ix)\n",
    "            batch = hr_batch[hr_batch[:,1] == ix]\n",
    "            h = self.entity_embeddings(indices=batch[:, 0]).view(-1, self.embedding_dim, 1)\n",
    "            rel_h = self.left_embeddings[ix]\n",
    "            rel_t = self.right_embeddings[ix]\n",
    "            rel_t = rel_t.view(-1, 1, rel_t.shape[0], rel_t.shape[1])\n",
    "            \n",
    "            if slice_size is not None:\n",
    "                proj_t_arr = []\n",
    "                # Project entities\n",
    "                proj_h = rel_h @ h\n",
    "\n",
    "                for t in torch.split(t_all, slice_size, dim=1):\n",
    "                    # Project entities\n",
    "                    proj_t = rel_t @ t\n",
    "                    proj_t_arr.append(proj_t)\n",
    "                    \n",
    "                proj_t = torch.cat(proj_t_arr, dim=1)\n",
    "                \n",
    "            else:\n",
    "                proj_h = rel_h @ h\n",
    "                proj_t = rel_t @ t_all\n",
    "                \n",
    "            scores[batch_indices[:,0]] = -torch.norm(proj_h[:, None, :, 0] - proj_t[:, :, :, 0], dim=-1, p=self.scoring_fct_norm)**2\n",
    "        \n",
    "        return scores\n",
    "\n",
    "\n",
    "    def score_h(self, rt_batch: torch.LongTensor, slice_size: int = None) -> torch.FloatTensor:  # noqa: D102\n",
    "        # Get embeddings\n",
    "        rel_idxs = torch.unique(rt_batch[:,0])\n",
    "        h_all = self.entity_embeddings(indices=None).view(1, -1, self.embedding_dim, 1)\n",
    "        scores = torch.zeros((rt_batch.shape[0],h_all.shape[1]), device=self.preferred_device)\n",
    "        for i in range(rel_idxs.shape[0]):\n",
    "            ix = rel_idxs[i]\n",
    "            batch_indices = torch.nonzero(rt_batch[:,0] == ix)\n",
    "            batch = rt_batch[rt_batch[:,0] == ix]\n",
    "            t = self.entity_embeddings(indices=batch[:, 1]).view(-1, self.embedding_dim, 1)\n",
    "            rel_h = self.left_embeddings[ix]\n",
    "            rel_h = rel_h.view(-1, 1, rel_h.shape[0], rel_h.shape[1])\n",
    "            rel_t = self.right_embeddings[ix]\n",
    "            \n",
    "            if slice_size is not None:\n",
    "                proj_t_arr = []\n",
    "                # Project entities\n",
    "                proj_h = rel_h @ h\n",
    "\n",
    "                for t in torch.split(t_all, slice_size, dim=1):\n",
    "                    # Project entities\n",
    "                    proj_t = rel_t @ t\n",
    "                    proj_t_arr.append(proj_t)\n",
    "                    \n",
    "                proj_t = torch.cat(proj_t_arr, dim=1)\n",
    "                \n",
    "            else:\n",
    "                proj_h = rel_h @ h_all\n",
    "                proj_t = rel_t @ t\n",
    "\n",
    "            scores[batch_indices[:,0]] = -torch.norm(proj_h[:, :, :, 0] - proj_t[:, None, :, 0], dim=-1, p=self.scoring_fct_norm)**2\n",
    "        \n",
    "        return scores"
   ]
  },
  {
   "cell_type": "code",
   "execution_count": null,
   "metadata": {
    "scrolled": false
   },
   "outputs": [
    {
     "name": "stderr",
     "output_type": "stream",
     "text": [
      "You're trying to map triples with 212 entities and 0 relations that are not in the training set. These triples will be excluded from the mapping.\n",
      "In total 210 from 3134 triples were filtered out\n",
      "You're trying to map triples with 211 entities and 0 relations that are not in the training set. These triples will be excluded from the mapping.\n",
      "In total 210 from 3034 triples were filtered out\n"
     ]
    },
    {
     "data": {
      "application/vnd.jupyter.widget-view+json": {
       "model_id": "f0387115ea144aa2a6e44f545a5f37c7",
       "version_major": 2,
       "version_minor": 0
      },
      "text/plain": [
       "HBox(children=(HTML(value='Training epochs on cuda'), FloatProgress(value=0.0, max=200.0), HTML(value='')))"
      ]
     },
     "metadata": {},
     "output_type": "display_data"
    },
    {
     "data": {
      "application/vnd.jupyter.widget-view+json": {
       "model_id": "",
       "version_major": 2,
       "version_minor": 0
      },
      "text/plain": [
       "HBox(children=(HTML(value='Training batches on cuda'), FloatProgress(value=0.0, max=340.0), HTML(value='')))"
      ]
     },
     "metadata": {},
     "output_type": "display_data"
    },
    {
     "data": {
      "application/vnd.jupyter.widget-view+json": {
       "model_id": "",
       "version_major": 2,
       "version_minor": 0
      },
      "text/plain": [
       "HBox(children=(HTML(value='Training batches on cuda'), FloatProgress(value=0.0, max=340.0), HTML(value='')))"
      ]
     },
     "metadata": {},
     "output_type": "display_data"
    },
    {
     "data": {
      "application/vnd.jupyter.widget-view+json": {
       "model_id": "",
       "version_major": 2,
       "version_minor": 0
      },
      "text/plain": [
       "HBox(children=(HTML(value='Training batches on cuda'), FloatProgress(value=0.0, max=340.0), HTML(value='')))"
      ]
     },
     "metadata": {},
     "output_type": "display_data"
    },
    {
     "data": {
      "application/vnd.jupyter.widget-view+json": {
       "model_id": "",
       "version_major": 2,
       "version_minor": 0
      },
      "text/plain": [
       "HBox(children=(HTML(value='Training batches on cuda'), FloatProgress(value=0.0, max=340.0), HTML(value='')))"
      ]
     },
     "metadata": {},
     "output_type": "display_data"
    },
    {
     "data": {
      "application/vnd.jupyter.widget-view+json": {
       "model_id": "",
       "version_major": 2,
       "version_minor": 0
      },
      "text/plain": [
       "HBox(children=(HTML(value='Training batches on cuda'), FloatProgress(value=0.0, max=340.0), HTML(value='')))"
      ]
     },
     "metadata": {},
     "output_type": "display_data"
    },
    {
     "data": {
      "application/vnd.jupyter.widget-view+json": {
       "model_id": "",
       "version_major": 2,
       "version_minor": 0
      },
      "text/plain": [
       "HBox(children=(HTML(value='Training batches on cuda'), FloatProgress(value=0.0, max=340.0), HTML(value='')))"
      ]
     },
     "metadata": {},
     "output_type": "display_data"
    },
    {
     "data": {
      "application/vnd.jupyter.widget-view+json": {
       "model_id": "",
       "version_major": 2,
       "version_minor": 0
      },
      "text/plain": [
       "HBox(children=(HTML(value='Training batches on cuda'), FloatProgress(value=0.0, max=340.0), HTML(value='')))"
      ]
     },
     "metadata": {},
     "output_type": "display_data"
    },
    {
     "data": {
      "application/vnd.jupyter.widget-view+json": {
       "model_id": "",
       "version_major": 2,
       "version_minor": 0
      },
      "text/plain": [
       "HBox(children=(HTML(value='Training batches on cuda'), FloatProgress(value=0.0, max=340.0), HTML(value='')))"
      ]
     },
     "metadata": {},
     "output_type": "display_data"
    },
    {
     "data": {
      "application/vnd.jupyter.widget-view+json": {
       "model_id": "",
       "version_major": 2,
       "version_minor": 0
      },
      "text/plain": [
       "HBox(children=(HTML(value='Training batches on cuda'), FloatProgress(value=0.0, max=340.0), HTML(value='')))"
      ]
     },
     "metadata": {},
     "output_type": "display_data"
    },
    {
     "data": {
      "application/vnd.jupyter.widget-view+json": {
       "model_id": "",
       "version_major": 2,
       "version_minor": 0
      },
      "text/plain": [
       "HBox(children=(HTML(value='Training batches on cuda'), FloatProgress(value=0.0, max=340.0), HTML(value='')))"
      ]
     },
     "metadata": {},
     "output_type": "display_data"
    },
    {
     "data": {
      "application/vnd.jupyter.widget-view+json": {
       "model_id": "",
       "version_major": 2,
       "version_minor": 0
      },
      "text/plain": [
       "HBox(children=(HTML(value='Training batches on cuda'), FloatProgress(value=0.0, max=340.0), HTML(value='')))"
      ]
     },
     "metadata": {},
     "output_type": "display_data"
    },
    {
     "data": {
      "application/vnd.jupyter.widget-view+json": {
       "model_id": "",
       "version_major": 2,
       "version_minor": 0
      },
      "text/plain": [
       "HBox(children=(HTML(value='Training batches on cuda'), FloatProgress(value=0.0, max=340.0), HTML(value='')))"
      ]
     },
     "metadata": {},
     "output_type": "display_data"
    },
    {
     "data": {
      "application/vnd.jupyter.widget-view+json": {
       "model_id": "",
       "version_major": 2,
       "version_minor": 0
      },
      "text/plain": [
       "HBox(children=(HTML(value='Training batches on cuda'), FloatProgress(value=0.0, max=340.0), HTML(value='')))"
      ]
     },
     "metadata": {},
     "output_type": "display_data"
    },
    {
     "data": {
      "application/vnd.jupyter.widget-view+json": {
       "model_id": "",
       "version_major": 2,
       "version_minor": 0
      },
      "text/plain": [
       "HBox(children=(HTML(value='Training batches on cuda'), FloatProgress(value=0.0, max=340.0), HTML(value='')))"
      ]
     },
     "metadata": {},
     "output_type": "display_data"
    },
    {
     "data": {
      "application/vnd.jupyter.widget-view+json": {
       "model_id": "",
       "version_major": 2,
       "version_minor": 0
      },
      "text/plain": [
       "HBox(children=(HTML(value='Training batches on cuda'), FloatProgress(value=0.0, max=340.0), HTML(value='')))"
      ]
     },
     "metadata": {},
     "output_type": "display_data"
    },
    {
     "data": {
      "application/vnd.jupyter.widget-view+json": {
       "model_id": "",
       "version_major": 2,
       "version_minor": 0
      },
      "text/plain": [
       "HBox(children=(HTML(value='Training batches on cuda'), FloatProgress(value=0.0, max=340.0), HTML(value='')))"
      ]
     },
     "metadata": {},
     "output_type": "display_data"
    },
    {
     "data": {
      "application/vnd.jupyter.widget-view+json": {
       "model_id": "",
       "version_major": 2,
       "version_minor": 0
      },
      "text/plain": [
       "HBox(children=(HTML(value='Training batches on cuda'), FloatProgress(value=0.0, max=340.0), HTML(value='')))"
      ]
     },
     "metadata": {},
     "output_type": "display_data"
    },
    {
     "data": {
      "application/vnd.jupyter.widget-view+json": {
       "model_id": "",
       "version_major": 2,
       "version_minor": 0
      },
      "text/plain": [
       "HBox(children=(HTML(value='Training batches on cuda'), FloatProgress(value=0.0, max=340.0), HTML(value='')))"
      ]
     },
     "metadata": {},
     "output_type": "display_data"
    },
    {
     "data": {
      "application/vnd.jupyter.widget-view+json": {
       "model_id": "",
       "version_major": 2,
       "version_minor": 0
      },
      "text/plain": [
       "HBox(children=(HTML(value='Training batches on cuda'), FloatProgress(value=0.0, max=340.0), HTML(value='')))"
      ]
     },
     "metadata": {},
     "output_type": "display_data"
    },
    {
     "data": {
      "application/vnd.jupyter.widget-view+json": {
       "model_id": "7e4f051e61924fa9b459d5700bd0bf9c",
       "version_major": 2,
       "version_minor": 0
      },
      "text/plain": [
       "HBox(children=(HTML(value='Training batches on cuda'), FloatProgress(value=0.0, max=340.0), HTML(value='')))"
      ]
     },
     "metadata": {},
     "output_type": "display_data"
    }
   ],
   "source": [
    "result2 = pipeline(\n",
    "    model=ModifiedSE,\n",
    "    dataset=dataset,\n",
    "    random_seed=random_seed,\n",
    "    device='gpu',\n",
    "    training_kwargs=dict(num_epochs=num_epochs),\n",
    "    evaluation_kwargs=dict(),\n",
    "    model_kwargs=dict(embedding_dim=embedding_dim, edge_stalk_sizes=edge_stalk_sizes),\n",
    "    loss=loss,\n",
    "    training_loop='lcwa',\n",
    "    loss_kwargs=dict()\n",
    ")\n",
    "model2 = result2.model\n",
    "model2"
   ]
  },
  {
   "cell_type": "code",
   "execution_count": null,
   "metadata": {},
   "outputs": [],
   "source": [
    "transe_results = pipeline(\n",
    "        dataset=dataset,\n",
    "        model='TransE',\n",
    "        random_seed=1235,\n",
    "        device='gpu',\n",
    "        training_kwargs=dict(num_epochs=num_epochs),\n",
    "        model_kwargs=dict(embedding_dim=embedding_dim),\n",
    "        loss='SoftplusLoss',\n",
    "        loss_kwargs=dict()\n",
    "    )"
   ]
  },
  {
   "cell_type": "code",
   "execution_count": null,
   "metadata": {},
   "outputs": [],
   "source": [
    "result2.plot_losses()\n",
    "plt.show()"
   ]
  },
  {
   "cell_type": "code",
   "execution_count": null,
   "metadata": {},
   "outputs": [],
   "source": [
    "res_df = result2.metric_results.to_df()"
   ]
  },
  {
   "cell_type": "code",
   "execution_count": null,
   "metadata": {},
   "outputs": [],
   "source": [
    "res_df"
   ]
  },
  {
   "cell_type": "code",
   "execution_count": null,
   "metadata": {},
   "outputs": [],
   "source": [
    "res_df.to_csv(saveloc+'.csv')\n",
    "result2.save_to_directory(saveloc)"
   ]
  },
  {
   "cell_type": "code",
   "execution_count": null,
   "metadata": {},
   "outputs": [],
   "source": []
  }
 ],
 "metadata": {
  "kernelspec": {
   "display_name": "Python 3",
   "language": "python",
   "name": "python3"
  },
  "language_info": {
   "codemirror_mode": {
    "name": "ipython",
    "version": 3
   },
   "file_extension": ".py",
   "mimetype": "text/x-python",
   "name": "python",
   "nbconvert_exporter": "python",
   "pygments_lexer": "ipython3",
   "version": "3.7.9"
  }
 },
 "nbformat": 4,
 "nbformat_minor": 4
}
