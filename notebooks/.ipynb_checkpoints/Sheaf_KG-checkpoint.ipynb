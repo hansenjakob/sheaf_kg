{
 "cells": [
  {
   "cell_type": "code",
   "execution_count": 1,
   "metadata": {},
   "outputs": [],
   "source": [
    "%load_ext autoreload\n",
    "%autoreload 2\n",
    "import os\n",
    "import sys\n",
    "import time\n",
    "\n",
    "import matplotlib.pyplot as plt\n",
    "import pandas as pd\n",
    "import numpy as np\n",
    "import pykeen\n",
    "import torch\n",
    "from pykeen.pipeline import pipeline"
   ]
  },
  {
   "cell_type": "code",
   "execution_count": 2,
   "metadata": {},
   "outputs": [],
   "source": [
    "dataset = 'Nations'\n",
    "num_epochs = 10\n",
    "embedding_dim = 20\n",
    "loss = 'BCEWithLogitsLoss'\n",
    "margin = 1.0"
   ]
  },
  {
   "cell_type": "code",
   "execution_count": 3,
   "metadata": {},
   "outputs": [],
   "source": [
    "ds = pykeen.datasets.get_dataset(dataset=dataset)\n",
    "\n",
    "training = ds.training.mapped_triples\n",
    "ds.training.mapped_triples = training[training[:,0].sort()[1]]\n",
    "testing = ds.testing.mapped_triples\n",
    "ds.testing.mapped_triples = testing[testing[:,0].sort()[1]]\n",
    "validation = ds.validation.mapped_triples\n",
    "ds.validation.mapped_triples = validation[validation[:,0].sort()[1]]"
   ]
  },
  {
   "cell_type": "code",
   "execution_count": 4,
   "metadata": {},
   "outputs": [
    {
     "data": {
      "text/plain": [
       "tensor([[ 0, 33,  9],\n",
       "        [ 0, 38, 12],\n",
       "        [ 0, 38, 11],\n",
       "        [ 0, 38,  9],\n",
       "        [ 0, 38,  7],\n",
       "        [ 0, 38,  5],\n",
       "        [ 0, 38,  3],\n",
       "        [ 0, 37, 12],\n",
       "        [ 0, 37, 11],\n",
       "        [ 0, 37,  9],\n",
       "        [ 0, 33, 13],\n",
       "        [ 0, 33, 12],\n",
       "        [ 0, 33, 11],\n",
       "        [ 0, 33, 10],\n",
       "        [ 0, 39,  5],\n",
       "        [ 0, 33,  6],\n",
       "        [ 0, 33,  5],\n",
       "        [ 0, 33,  4],\n",
       "        [ 0, 32, 12],\n",
       "        [ 0, 32, 11]])"
      ]
     },
     "execution_count": 4,
     "metadata": {},
     "output_type": "execute_result"
    }
   ],
   "source": [
    "ds.training.mapped_triples[:20]"
   ]
  },
  {
   "cell_type": "code",
   "execution_count": 9,
   "metadata": {},
   "outputs": [],
   "source": [
    "import functools\n",
    "import itertools\n",
    "from typing import Optional\n",
    "\n",
    "from pykeen.models import StructuredEmbedding\n",
    "from pykeen.models.base import EntityEmbeddingModel\n",
    "from pykeen.nn import Embedding\n",
    "from pykeen.losses import Loss\n",
    "from pykeen.nn.init import xavier_uniform_\n",
    "from pykeen.regularizers import Regularizer\n",
    "from pykeen.triples import TriplesFactory\n",
    "from pykeen.typing import DeviceHint\n",
    "from pykeen.utils import compose\n",
    "\n",
    "class ModifiedSE(StructuredEmbedding):\n",
    "    \n",
    "    def __init__(\n",
    "        self,\n",
    "        triples_factory: TriplesFactory,\n",
    "        embedding_dim: int = 50,\n",
    "        scoring_fct_norm: int = 2,\n",
    "        loss: Optional[Loss] = None,\n",
    "        preferred_device: DeviceHint = None,\n",
    "        random_seed: Optional[int] = None,\n",
    "        regularizer: Optional[Regularizer] = None,\n",
    "    ) -> None:\n",
    "        r\"\"\"Initialize SE.\n",
    "\n",
    "        :param embedding_dim: The entity embedding dimension $d$. Is usually $d \\in [50, 300]$.\n",
    "        :param scoring_fct_norm: The $l_p$ norm. Usually 1 for SE.\n",
    "        \"\"\"\n",
    "        super().__init__(\n",
    "            triples_factory=triples_factory,\n",
    "            embedding_dim=embedding_dim,\n",
    "            loss=loss,\n",
    "            preferred_device=preferred_device,\n",
    "            random_seed=random_seed,\n",
    "            regularizer=regularizer,\n",
    "        )\n",
    "            \n",
    "    def score_hrt(self, hrt_batch: torch.LongTensor) -> torch.FloatTensor:  # noqa: D102\n",
    "        # Get embeddings\n",
    "        h = self.entity_embeddings(indices=hrt_batch[:, 0]).view(-1, self.embedding_dim, 1)\n",
    "        rel_h = self.left_relation_embeddings(indices=hrt_batch[:, 1]).view(-1, self.embedding_dim, self.embedding_dim)\n",
    "        rel_t = self.right_relation_embeddings(indices=hrt_batch[:, 1]).view(-1, self.embedding_dim, self.embedding_dim)\n",
    "        t = self.entity_embeddings(indices=hrt_batch[:, 2]).view(-1, self.embedding_dim, 1)\n",
    "        \n",
    "        # Project entities\n",
    "        proj_h = rel_h @ h\n",
    "        proj_t = rel_t @ t\n",
    "        \n",
    "        norms = torch.norm(proj_h - proj_t, dim=1, p=self.scoring_fct_norm)**2\n",
    "        scores = -norms\n",
    "        return scores\n",
    "    \n",
    "    def score_t(self, hr_batch: torch.LongTensor, slice_size: int = None) -> torch.FloatTensor:  # noqa: D102\n",
    "        # Get embeddings\n",
    "        h = self.entity_embeddings(indices=hr_batch[:, 0]).view(-1, self.embedding_dim, 1)\n",
    "        rel_h = self.left_relation_embeddings(indices=hr_batch[:, 1]).view(-1, self.embedding_dim, self.embedding_dim)\n",
    "        rel_t = self.right_relation_embeddings(indices=hr_batch[:, 1])\n",
    "        rel_t = rel_t.view(-1, 1, self.embedding_dim, self.embedding_dim)\n",
    "        t_all = self.entity_embeddings(indices=None).view(1, -1, self.embedding_dim, 1)\n",
    "\n",
    "        if slice_size is not None:\n",
    "            proj_t_arr = []\n",
    "            # Project entities\n",
    "            proj_h = rel_h @ h\n",
    "\n",
    "            for t in torch.split(t_all, slice_size, dim=1):\n",
    "                # Project entities\n",
    "                proj_t = rel_t @ t\n",
    "                proj_t_arr.append(proj_t)\n",
    "\n",
    "            proj_t = torch.cat(proj_t_arr, dim=1)\n",
    "\n",
    "        else:\n",
    "            # Project entities\n",
    "            proj_h = rel_h @ h\n",
    "            proj_t = rel_t @ t_all\n",
    "        norms = torch.norm(proj_h[:, None, :, 0] - proj_t[:, :, :, 0], dim=-1, p=self.scoring_fct_norm)**2\n",
    "        scores = -norms\n",
    "        return scores\n",
    "\n",
    "\n",
    "    def score_h(self, rt_batch: torch.LongTensor, slice_size: int = None) -> torch.FloatTensor:  # noqa: D102\n",
    "        # Get embeddings\n",
    "        h_all = self.entity_embeddings(indices=None).view(1, -1, self.embedding_dim, 1)\n",
    "        rel_h = self.left_relation_embeddings(indices=rt_batch[:, 0])\n",
    "        rel_h = rel_h.view(-1, 1, self.embedding_dim, self.embedding_dim)\n",
    "        rel_t = self.right_relation_embeddings(indices=rt_batch[:, 0]).view(-1, self.embedding_dim, self.embedding_dim)\n",
    "        t = self.entity_embeddings(indices=rt_batch[:, 1]).view(-1, self.embedding_dim, 1)\n",
    "\n",
    "        if slice_size is not None:\n",
    "            proj_h_arr = []\n",
    "\n",
    "            # Project entities\n",
    "            proj_t = rel_t @ t\n",
    "\n",
    "            for h in torch.split(h_all, slice_size, dim=1):\n",
    "                # Project entities\n",
    "                proj_h = rel_h @ h\n",
    "                proj_h_arr.append(proj_h)\n",
    "\n",
    "            proj_h = torch.cat(proj_h_arr, dim=1)\n",
    "        else:\n",
    "            # Project entities\n",
    "            proj_h = rel_h @ h_all\n",
    "            proj_t = rel_t @ t\n",
    "\n",
    "        norms = torch.norm(proj_h[:, :, :, 0] - proj_t[:, None, :, 0], dim=-1, p=self.scoring_fct_norm)**2\n",
    "        scores = -norms\n",
    "        return scores"
   ]
  },
  {
   "cell_type": "code",
   "execution_count": 10,
   "metadata": {},
   "outputs": [
    {
     "name": "stdout",
     "output_type": "stream",
     "text": [
      "Not Shuffling!\n"
     ]
    },
    {
     "data": {
      "application/vnd.jupyter.widget-view+json": {
       "model_id": "277b874219e2428db69431be77f49cc8",
       "version_major": 2,
       "version_minor": 0
      },
      "text/plain": [
       "HBox(children=(HTML(value='Training epochs on cuda'), FloatProgress(value=0.0, max=10.0), HTML(value='')))"
      ]
     },
     "metadata": {},
     "output_type": "display_data"
    },
    {
     "data": {
      "application/vnd.jupyter.widget-view+json": {
       "model_id": "",
       "version_major": 2,
       "version_minor": 0
      },
      "text/plain": [
       "HBox(children=(HTML(value='Training batches on cuda'), FloatProgress(value=0.0, max=7.0), HTML(value='')))"
      ]
     },
     "metadata": {},
     "output_type": "display_data"
    },
    {
     "data": {
      "application/vnd.jupyter.widget-view+json": {
       "model_id": "",
       "version_major": 2,
       "version_minor": 0
      },
      "text/plain": [
       "HBox(children=(HTML(value='Training batches on cuda'), FloatProgress(value=0.0, max=7.0), HTML(value='')))"
      ]
     },
     "metadata": {},
     "output_type": "display_data"
    },
    {
     "data": {
      "application/vnd.jupyter.widget-view+json": {
       "model_id": "",
       "version_major": 2,
       "version_minor": 0
      },
      "text/plain": [
       "HBox(children=(HTML(value='Training batches on cuda'), FloatProgress(value=0.0, max=7.0), HTML(value='')))"
      ]
     },
     "metadata": {},
     "output_type": "display_data"
    },
    {
     "data": {
      "application/vnd.jupyter.widget-view+json": {
       "model_id": "",
       "version_major": 2,
       "version_minor": 0
      },
      "text/plain": [
       "HBox(children=(HTML(value='Training batches on cuda'), FloatProgress(value=0.0, max=7.0), HTML(value='')))"
      ]
     },
     "metadata": {},
     "output_type": "display_data"
    },
    {
     "data": {
      "application/vnd.jupyter.widget-view+json": {
       "model_id": "",
       "version_major": 2,
       "version_minor": 0
      },
      "text/plain": [
       "HBox(children=(HTML(value='Training batches on cuda'), FloatProgress(value=0.0, max=7.0), HTML(value='')))"
      ]
     },
     "metadata": {},
     "output_type": "display_data"
    },
    {
     "data": {
      "application/vnd.jupyter.widget-view+json": {
       "model_id": "",
       "version_major": 2,
       "version_minor": 0
      },
      "text/plain": [
       "HBox(children=(HTML(value='Training batches on cuda'), FloatProgress(value=0.0, max=7.0), HTML(value='')))"
      ]
     },
     "metadata": {},
     "output_type": "display_data"
    },
    {
     "data": {
      "application/vnd.jupyter.widget-view+json": {
       "model_id": "",
       "version_major": 2,
       "version_minor": 0
      },
      "text/plain": [
       "HBox(children=(HTML(value='Training batches on cuda'), FloatProgress(value=0.0, max=7.0), HTML(value='')))"
      ]
     },
     "metadata": {},
     "output_type": "display_data"
    },
    {
     "data": {
      "application/vnd.jupyter.widget-view+json": {
       "model_id": "",
       "version_major": 2,
       "version_minor": 0
      },
      "text/plain": [
       "HBox(children=(HTML(value='Training batches on cuda'), FloatProgress(value=0.0, max=7.0), HTML(value='')))"
      ]
     },
     "metadata": {},
     "output_type": "display_data"
    },
    {
     "data": {
      "application/vnd.jupyter.widget-view+json": {
       "model_id": "",
       "version_major": 2,
       "version_minor": 0
      },
      "text/plain": [
       "HBox(children=(HTML(value='Training batches on cuda'), FloatProgress(value=0.0, max=7.0), HTML(value='')))"
      ]
     },
     "metadata": {},
     "output_type": "display_data"
    },
    {
     "data": {
      "application/vnd.jupyter.widget-view+json": {
       "model_id": "",
       "version_major": 2,
       "version_minor": 0
      },
      "text/plain": [
       "HBox(children=(HTML(value='Training batches on cuda'), FloatProgress(value=0.0, max=7.0), HTML(value='')))"
      ]
     },
     "metadata": {},
     "output_type": "display_data"
    },
    {
     "name": "stderr",
     "output_type": "stream",
     "text": [
      "INFO:pykeen.evaluation.evaluator:Starting batch_size search for evaluation now...\n"
     ]
    },
    {
     "name": "stdout",
     "output_type": "stream",
     "text": [
      "\n",
      "torch.Size([201, 20, 1]) torch.Size([201, 14, 20, 1])\n"
     ]
    },
    {
     "name": "stderr",
     "output_type": "stream",
     "text": [
      "INFO:pykeen.evaluation.evaluator:Concluded batch_size search with batch_size=201.\n"
     ]
    },
    {
     "data": {
      "application/vnd.jupyter.widget-view+json": {
       "model_id": "20ce54d691ef450986fc80202709b580",
       "version_major": 2,
       "version_minor": 0
      },
      "text/plain": [
       "HBox(children=(HTML(value='Evaluating on cuda'), FloatProgress(value=0.0, max=201.0), HTML(value='')))"
      ]
     },
     "metadata": {},
     "output_type": "display_data"
    },
    {
     "name": "stderr",
     "output_type": "stream",
     "text": [
      "INFO:pykeen.evaluation.evaluator:Evaluation took 0.02s seconds\n"
     ]
    },
    {
     "name": "stdout",
     "output_type": "stream",
     "text": [
      "torch.Size([201, 20, 1]) torch.Size([201, 14, 20, 1])\n",
      "\n"
     ]
    },
    {
     "data": {
      "text/plain": [
       "ModifiedSE(\n",
       "  (loss): BCEWithLogitsLoss()\n",
       "  (regularizer): NoRegularizer()\n",
       "  (entity_embeddings): Embedding(\n",
       "    (_embeddings): Embedding(14, 20)\n",
       "  )\n",
       "  (left_relation_embeddings): Embedding(\n",
       "    (_embeddings): Embedding(55, 400)\n",
       "  )\n",
       "  (right_relation_embeddings): Embedding(\n",
       "    (_embeddings): Embedding(55, 400)\n",
       "  )\n",
       ")"
      ]
     },
     "execution_count": 10,
     "metadata": {},
     "output_type": "execute_result"
    }
   ],
   "source": [
    "result2 = pipeline(\n",
    "    model=ModifiedSE,\n",
    "    dataset=dataset,\n",
    "    random_seed=1235,\n",
    "    device='gpu',\n",
    "    training_kwargs=dict(num_epochs=num_epochs, sampler='presorted'),\n",
    "    model_kwargs=dict(embedding_dim=embedding_dim),\n",
    "    loss=loss,\n",
    "    loss_kwargs=dict()\n",
    ")\n",
    "model2 = result2.model\n",
    "model2"
   ]
  },
  {
   "cell_type": "code",
   "execution_count": null,
   "metadata": {},
   "outputs": [],
   "source": [
    "result2.plot_losses()\n",
    "plt.show()"
   ]
  },
  {
   "cell_type": "code",
   "execution_count": null,
   "metadata": {},
   "outputs": [],
   "source": [
    "comp_models = ['StructuredEmbedding','TransE','RotatE','HolE']\n",
    "comp_results = []\n",
    "for comp_model in comp_models:\n",
    "    print('Running {}'.format(comp_model))\n",
    "    result = pipeline(\n",
    "        dataset=dataset,\n",
    "        model=comp_model,\n",
    "        random_seed=1235,\n",
    "        device='gpu',\n",
    "        training_kwargs=dict(num_epochs=num_epochs),\n",
    "        model_kwargs=dict(embedding_dim=embedding_dim),\n",
    "        loss=loss,\n",
    "        loss_kwargs=dict()\n",
    "    )\n",
    "    comp_results.append(result)"
   ]
  },
  {
   "cell_type": "code",
   "execution_count": null,
   "metadata": {},
   "outputs": [],
   "source": [
    "plt.plot(np.arange(len(result2.losses)),result2.losses,label='Sheaf SE')\n",
    "for i in range(len(comp_models)):\n",
    "    comp_model = comp_models[i]\n",
    "    comp_result = comp_results[i]\n",
    "    plt.plot(np.arange(len(comp_result.losses)),comp_result.losses,label=comp_model)\n",
    "plt.ylabel(str(result.model.loss).replace('()',''))\n",
    "plt.xlabel('epoch')\n",
    "plt.legend()\n",
    "plt.show()"
   ]
  },
  {
   "cell_type": "code",
   "execution_count": null,
   "metadata": {},
   "outputs": [],
   "source": [
    "res_df = result2.metric_results.to_df()"
   ]
  },
  {
   "cell_type": "code",
   "execution_count": null,
   "metadata": {},
   "outputs": [],
   "source": [
    "compto = 1"
   ]
  },
  {
   "cell_type": "code",
   "execution_count": null,
   "metadata": {},
   "outputs": [],
   "source": [
    "res_df['diff'] = res_df.Value - comp_results[compto].metric_results.to_df().Value\n",
    "res_df"
   ]
  },
  {
   "cell_type": "code",
   "execution_count": null,
   "metadata": {},
   "outputs": [],
   "source": []
  },
  {
   "cell_type": "code",
   "execution_count": null,
   "metadata": {},
   "outputs": [],
   "source": [
    "# comp_results[0].model.score_all_triples()"
   ]
  },
  {
   "cell_type": "code",
   "execution_count": null,
   "metadata": {},
   "outputs": [],
   "source": [
    "# model2.score_all_triples()"
   ]
  },
  {
   "cell_type": "code",
   "execution_count": null,
   "metadata": {},
   "outputs": [],
   "source": []
  }
 ],
 "metadata": {
  "kernelspec": {
   "display_name": "Python 3",
   "language": "python",
   "name": "python3"
  },
  "language_info": {
   "codemirror_mode": {
    "name": "ipython",
    "version": 3
   },
   "file_extension": ".py",
   "mimetype": "text/x-python",
   "name": "python",
   "nbconvert_exporter": "python",
   "pygments_lexer": "ipython3",
   "version": "3.7.9"
  }
 },
 "nbformat": 4,
 "nbformat_minor": 4
}
