{
 "cells": [
  {
   "cell_type": "code",
   "execution_count": 1,
   "metadata": {},
   "outputs": [
    {
     "name": "stderr",
     "output_type": "stream",
     "text": [
      "PyKEEN was unable to load dataset openbiolinkf1. Try uninstalling PyKEEN with ``pip uninstall pykeen`` then reinstalling\n",
      "PyKEEN was unable to load dataset openbiolinkf2. Try uninstalling PyKEEN with ``pip uninstall pykeen`` then reinstalling\n"
     ]
    }
   ],
   "source": [
    "import os\n",
    "import pickle\n",
    "from collections import defaultdict \n",
    "from tqdm import tqdm\n",
    "\n",
    "import numpy as np\n",
    "import pykeen\n",
    "from pykeen.pipeline import pipeline\n",
    "from pykeen.triples import TriplesFactory"
   ]
  },
  {
   "cell_type": "code",
   "execution_count": 2,
   "metadata": {},
   "outputs": [],
   "source": [
    "dataset = 'NELL995'\n",
    "betae_path = '/home/gebhart/projects/sheaf_kg/data/{}-betae'.format(dataset)"
   ]
  },
  {
   "cell_type": "code",
   "execution_count": 3,
   "metadata": {},
   "outputs": [],
   "source": [
    "query_structures = [('e',('r',)), ('e', ('r', 'r')), ('e', ('r', 'r', 'r')), (('e', ('r',)), ('e', ('r',))), (('e', ('r',)), ('e', ('r',)), ('e', ('r',))), (('e', ('r', 'r')), ('e', ('r',))), ((('e', ('r',)), ('e', ('r',))), ('r',))]\n",
    "\n",
    "query_name_dict = {('e',('r',)): '1p', \n",
    "                    ('e', ('r', 'r')): '2p',\n",
    "                    ('e', ('r', 'r', 'r')): '3p',\n",
    "                    (('e', ('r',)), ('e', ('r',))): '2i',\n",
    "                    (('e', ('r',)), ('e', ('r',)), ('e', ('r',))): '3i',\n",
    "                    ((('e', ('r',)), ('e', ('r',))), ('r',)): 'ip',\n",
    "                    (('e', ('r', 'r')), ('e', ('r',))): 'pi',\n",
    "                    (('e', ('r',)), ('e', ('r', 'n'))): '2in',\n",
    "                    (('e', ('r',)), ('e', ('r',)), ('e', ('r', 'n'))): '3in',\n",
    "                    ((('e', ('r',)), ('e', ('r', 'n'))), ('r',)): 'inp',\n",
    "                    (('e', ('r', 'r')), ('e', ('r', 'n'))): 'pin',\n",
    "                    (('e', ('r', 'r', 'n')), ('e', ('r',))): 'pni',\n",
    "                    (('e', ('r',)), ('e', ('r',)), ('u',)): '2u-DNF',\n",
    "                    ((('e', ('r',)), ('e', ('r',)), ('u',)), ('r',)): 'up-DNF',\n",
    "                    ((('e', ('r', 'n')), ('e', ('r', 'n'))), ('n',)): '2u-DM',\n",
    "                    ((('e', ('r', 'n')), ('e', ('r', 'n'))), ('n', 'r')): 'up-DM'\n",
    "                }"
   ]
  },
  {
   "cell_type": "code",
   "execution_count": 6,
   "metadata": {},
   "outputs": [],
   "source": [
    "ds = TriplesFactory.from_path(os.path.join(betae_path, 'train.txt'),\n",
    "                                            create_inverse_triples=False)\n",
    "training = ds.mapped_triples\n",
    "relid2label = ds.relation_id_to_label \n",
    "label2relid = {v:k for k,v in relid2label.items()}\n",
    "\n",
    "entid2label = ds.entity_id_to_label \n",
    "label2entid = {v:k for k,v in entid2label.items()}"
   ]
  },
  {
   "cell_type": "code",
   "execution_count": null,
   "metadata": {},
   "outputs": [],
   "source": []
  },
  {
   "cell_type": "code",
   "execution_count": 7,
   "metadata": {},
   "outputs": [],
   "source": [
    "with open(os.path.join(betae_path,'test-queries.pkl'), 'rb') as f:\n",
    "    test_queries = pickle.load(f)\n",
    "\n",
    "with open(os.path.join(betae_path,'test-easy-answers.pkl'), 'rb') as f:\n",
    "    test_answers = pickle.load(f)\n",
    "\n",
    "with open(os.path.join(betae_path,'train-queries.pkl'), 'rb') as f:\n",
    "    train_queries = pickle.load(f)\n",
    "\n",
    "with open(os.path.join(betae_path,'train-answers.pkl'), 'rb') as f:\n",
    "    train_answers = pickle.load(f)\n",
    "    \n",
    "with open(os.path.join(betae_path,'id2rel.pkl'), 'rb') as f:\n",
    "    id2rel = pickle.load(f)\n",
    "    \n",
    "with open(os.path.join(betae_path,'id2ent.pkl'), 'rb') as f:\n",
    "    id2ent = pickle.load(f)"
   ]
  },
  {
   "cell_type": "code",
   "execution_count": null,
   "metadata": {},
   "outputs": [],
   "source": []
  },
  {
   "cell_type": "code",
   "execution_count": 25,
   "metadata": {},
   "outputs": [],
   "source": [
    "def map_ent(e):\n",
    "    return label2entid[str(e)]\n",
    "\n",
    "def map_rel(r):\n",
    "    return label2relid[str(r)]\n",
    "\n",
    "def orient_rel(r):\n",
    "    orientation = 1\n",
    "    relname = id2rel[r]\n",
    "    if '_reverse' in relname:\n",
    "        orientation = -1\n",
    "    return orientation\n",
    "# def map_ent(e):\n",
    "#     return e\n",
    "\n",
    "# def map_rel(r):\n",
    "#     return r\n",
    "\n",
    "# def orient_rel(r):\n",
    "#     return 1"
   ]
  },
  {
   "cell_type": "code",
   "execution_count": 26,
   "metadata": {},
   "outputs": [],
   "source": [
    "def L_p(queries):\n",
    "    '''query of form ('e', ('r', 'r', ... , 'r')).\n",
    "    here we assume 2 or more relations are present so 2p or greater\n",
    "    '''\n",
    "    all_ents = []\n",
    "    all_rels = []\n",
    "    all_invs = []\n",
    "    for query in queries:\n",
    "        all_ents.append(map_ent(query[0]))\n",
    "        all_rels.append([map_rel(r) for r in query[1]])\n",
    "        all_invs.append([orient_rel(r) for r in query[1]])\n",
    "    return all_ents, all_rels, all_invs\n",
    "\n",
    "def L_i(queries):\n",
    "    '''query of form (('e', ('r',)), ('e', ('r',)), ... , ('e', ('r',)))'''\n",
    "    all_ents = []\n",
    "    all_rels = []\n",
    "    all_invs = []\n",
    "    for query in queries:\n",
    "        all_ents.append([map_ent(pair[0]) for pair in query])\n",
    "        all_rels.append([map_rel(pair[1][0]) for pair in query])\n",
    "        all_invs.append([orient_rel(pair[1][0]) for pair in query])\n",
    "    return all_ents, all_rels, all_invs\n",
    "\n",
    "def L_ip(queries):\n",
    "    '''query of form ((('e', ('r',)), ('e', ('r',))), ('r',))'''\n",
    "    all_ents = []\n",
    "    all_rels = []\n",
    "    all_invs = []\n",
    "    for query in queries:\n",
    "        all_ents.append([map_ent(t[0]) for t in query[0]])\n",
    "        all_rels.append([map_rel(query[0][0][1][0]), map_rel(query[0][1][1][0]), map_rel(query[1][0])])\n",
    "        all_invs.append([orient_rel(query[0][0][1][0]), orient_rel(query[0][1][1][0]), orient_rel(query[1][0])])\n",
    "    return all_ents, all_rels, all_invs\n",
    "\n",
    "def L_pi(queries):\n",
    "    '''query of form (('e', ('r', 'r')), ('e', ('r',)))'''\n",
    "    all_ents = []\n",
    "    all_rels = []\n",
    "    all_invs = []\n",
    "    for query in queries:\n",
    "        all_ents.append([map_ent(t[0]) for t in query])\n",
    "        all_rels.append([map_rel(query[0][1][0]), map_rel(query[0][1][1]), map_rel(query[1][1][0])])\n",
    "        all_invs.append([orient_rel(query[0][1][0]), orient_rel(query[0][1][1]), orient_rel(query[1][1][0])])\n",
    "    return all_ents, all_rels, all_invs\n",
    "    \n",
    "query_name_fn_dict = {'1p':L_p, '2p':L_p, '3p':L_p, '2i':L_i, '3i':L_i, 'ip':L_ip, 'pi':L_pi}"
   ]
  },
  {
   "cell_type": "code",
   "execution_count": 27,
   "metadata": {},
   "outputs": [
    {
     "name": "stdout",
     "output_type": "stream",
     "text": [
      "Query Structure: 1p\n",
      "(107982,) (107982, 1) (107982, 1)\n",
      "Query Structure: 2p\n",
      "(107982,) (107982, 2) (107982, 2)\n",
      "Query Structure: 3p\n",
      "(107982,) (107982, 3) (107982, 3)\n",
      "Query Structure: 2i\n",
      "(107982, 2) (107982, 2) (107982, 2)\n",
      "Query Structure: 3i\n",
      "(107982, 3) (107982, 3) (107982, 3)\n",
      "Query Structure: pi\n",
      "(0,) (0,) (0,)\n",
      "Query Structure: ip\n",
      "(0,) (0,) (0,)\n"
     ]
    }
   ],
   "source": [
    "# train queries\n",
    "for query_structure in query_structures:\n",
    "    query_name = query_name_dict[query_structure]\n",
    "    print('Query Structure: {}'.format(query_name))\n",
    "    queries = train_queries[query_structure]\n",
    "    all_answers = [[map_ent(a) for a in train_answers[query]] for query in queries]\n",
    "    train_ents, train_rels, train_invs = query_name_fn_dict[query_name](queries)\n",
    "    train_ents = np.array(train_ents)\n",
    "    train_rels = np.array(train_rels)\n",
    "    train_invs = np.array(train_invs)\n",
    "    print(train_ents.shape, train_rels.shape, train_invs.shape)\n",
    "    np.save(os.path.join(betae_path, '{}_remapped_train_entities'.format(query_name)), train_ents)\n",
    "    np.save(os.path.join(betae_path, '{}_remapped_train_relations'.format(query_name)), train_rels)\n",
    "    np.save(os.path.join(betae_path, '{}_remapped_train_inverses'.format(query_name)), train_invs)\n",
    "    with open(os.path.join(betae_path, '{}_remapped_train_answers.pkl'.format(query_name)), 'wb') as f:\n",
    "        pickle.dump(all_answers, f)"
   ]
  },
  {
   "cell_type": "code",
   "execution_count": 28,
   "metadata": {},
   "outputs": [
    {
     "name": "stdout",
     "output_type": "stream",
     "text": [
      "Query Structure: 1p\n",
      "(9208,) (9208, 1) (9208, 1)\n",
      "Query Structure: 2p\n",
      "(3623,) (3623, 2) (3623, 2)\n",
      "Query Structure: 3p\n",
      "(3552,) (3552, 3) (3552, 3)\n",
      "Query Structure: 2i\n",
      "(3142, 2) (3142, 2) (3142, 2)\n",
      "Query Structure: 3i\n",
      "(2458, 3) (2458, 3) (2458, 3)\n",
      "Query Structure: pi\n",
      "(3315, 2) (3315, 3) (3315, 3)\n",
      "Query Structure: ip\n",
      "(3336, 2) (3336, 3) (3336, 3)\n"
     ]
    }
   ],
   "source": [
    "# test queries\n",
    "for query_structure in query_structures:\n",
    "    query_name = query_name_dict[query_structure]\n",
    "    print('Query Structure: {}'.format(query_name))\n",
    "    queries = [q for q in test_queries[query_structure] if len(test_answers[q]) > 0]\n",
    "    all_answers = [[map_ent(a) for a in test_answers[query]] for query in queries]\n",
    "    test_ents, test_rels, test_invs = query_name_fn_dict[query_name](queries)\n",
    "    test_ents = np.array(test_ents)\n",
    "    test_rels = np.array(test_rels)\n",
    "    test_invs = np.array(test_invs)\n",
    "    print(test_ents.shape, test_rels.shape, test_invs.shape)\n",
    "    np.save(os.path.join(betae_path, '{}_remapped_test-easy_entities'.format(query_name)), test_ents)\n",
    "    np.save(os.path.join(betae_path, '{}_remapped_test-easy_relations'.format(query_name)), test_rels)\n",
    "    np.save(os.path.join(betae_path, '{}_remapped_test-easy_inverses'.format(query_name)), test_invs)\n",
    "    with open(os.path.join(betae_path, '{}_remapped_test-easy_answers.pkl'.format(query_name)), 'wb') as f:\n",
    "        pickle.dump(all_answers, f)"
   ]
  },
  {
   "cell_type": "code",
   "execution_count": 29,
   "metadata": {},
   "outputs": [],
   "source": [
    "# did it work?\n",
    "ents = np.load(os.path.join(betae_path, '{}_remapped_test-easy_entities.npy'.format('2p')))\n",
    "rels = np.load(os.path.join(betae_path, '{}_remapped_test-easy_relations.npy'.format('2p')))\n",
    "with open(os.path.join(betae_path, '{}_remapped_test-easy_answers.pkl'.format('2p')), 'rb') as f:\n",
    "    ans = pickle.load(f)"
   ]
  },
  {
   "cell_type": "code",
   "execution_count": null,
   "metadata": {},
   "outputs": [],
   "source": []
  },
  {
   "cell_type": "code",
   "execution_count": 30,
   "metadata": {},
   "outputs": [
    {
     "data": {
      "text/plain": [
       "63356"
      ]
     },
     "execution_count": 30,
     "metadata": {},
     "output_type": "execute_result"
    }
   ],
   "source": [
    "ents.max()"
   ]
  },
  {
   "cell_type": "code",
   "execution_count": 31,
   "metadata": {},
   "outputs": [
    {
     "data": {
      "text/plain": [
       "399"
      ]
     },
     "execution_count": 31,
     "metadata": {},
     "output_type": "execute_result"
    }
   ],
   "source": [
    "np.max(rels)"
   ]
  },
  {
   "cell_type": "code",
   "execution_count": 32,
   "metadata": {},
   "outputs": [
    {
     "data": {
      "text/plain": [
       "array([ 8111,  9627,  6336, ..., 11030, 51369, 40001])"
      ]
     },
     "execution_count": 32,
     "metadata": {},
     "output_type": "execute_result"
    }
   ],
   "source": [
    "ents"
   ]
  },
  {
   "cell_type": "code",
   "execution_count": null,
   "metadata": {},
   "outputs": [],
   "source": []
  }
 ],
 "metadata": {
  "kernelspec": {
   "display_name": "Python 3",
   "language": "python",
   "name": "python3"
  },
  "language_info": {
   "codemirror_mode": {
    "name": "ipython",
    "version": 3
   },
   "file_extension": ".py",
   "mimetype": "text/x-python",
   "name": "python",
   "nbconvert_exporter": "python",
   "pygments_lexer": "ipython3",
   "version": "3.7.9"
  }
 },
 "nbformat": 4,
 "nbformat_minor": 4
}
