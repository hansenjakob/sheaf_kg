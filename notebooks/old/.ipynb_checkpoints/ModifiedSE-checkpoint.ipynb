{
 "cells": [
  {
   "cell_type": "code",
   "execution_count": 1,
   "metadata": {},
   "outputs": [],
   "source": [
    "import os\n",
    "import sys\n",
    "import time\n",
    "\n",
    "import matplotlib.pyplot as plt\n",
    "import pandas as pd\n",
    "import numpy as np\n",
    "import pykeen\n",
    "import torch\n",
    "from pykeen.pipeline import pipeline"
   ]
  },
  {
   "cell_type": "code",
   "execution_count": 2,
   "metadata": {},
   "outputs": [],
   "source": [
    "dataset = 'Kinship'\n",
    "num_epochs = 5\n",
    "embedding_dim = 10\n",
    "lbda = 0.5\n",
    "loss = 'MarginRankingLoss'"
   ]
  },
  {
   "cell_type": "code",
   "execution_count": 3,
   "metadata": {},
   "outputs": [],
   "source": [
    "from pykeen.models import StructuredEmbedding\n",
    "\n",
    "class ModifiedSE(StructuredEmbedding):\n",
    "    def score_hrt(self, hrt_batch: torch.LongTensor) -> torch.FloatTensor:\n",
    "        # Get embeddings\n",
    "        \n",
    "        h = self.entity_embeddings(indices=hrt_batch[:, 0]).view(-1, self.embedding_dim, 1)\n",
    "        rel_h = self.left_relation_embeddings(indices=hrt_batch[:, 1]).view(-1, self.embedding_dim, self.embedding_dim)\n",
    "        rel_t = self.right_relation_embeddings(indices=hrt_batch[:, 1]).view(-1, self.embedding_dim, self.embedding_dim)\n",
    "        t = self.entity_embeddings(indices=hrt_batch[:, 2]).view(-1, self.embedding_dim, 1)\n",
    "        \n",
    "        eunq = hrt_batch\n",
    "        hnq = self.entity_embeddings(indices=eunq[:, 0]).view(-1, self.embedding_dim, 1)\n",
    "        rel_hnq = self.left_relation_embeddings(indices=eunq[:, 1]).view(-1, self.embedding_dim, self.embedding_dim)\n",
    "        rel_tnq = self.right_relation_embeddings(indices=eunq[:, 1]).view(-1, self.embedding_dim, self.embedding_dim)\n",
    "        tnq = self.entity_embeddings(indices=eunq[:, 2]).view(-1, self.embedding_dim, 1)\n",
    "        \n",
    "        eunp = eunq.cpu().detach().numpy()\n",
    "        nunq = np.unique(np.concatenate((eunp[:,0],eunp[:,2]),axis=0),axis=0) \n",
    "        \n",
    "        B = torch.zeros((nunq.shape[0]*self.embedding_dim, eunq.shape[0]*self.embedding_dim), device=self.device)\n",
    "        xv = torch.zeros((nunq.shape[0]*self.embedding_dim, 1), device=self.device)\n",
    "        for i in range(nunq.shape[0]):\n",
    "            v = nunq[i]\n",
    "            hixs = np.argwhere(eunp[:,0] == v)\n",
    "            tixs = np.argwhere(eunp[:,2] == v)\n",
    "            for hix in hixs.flatten():\n",
    "                B[i*self.embedding_dim:(i+1)*self.embedding_dim, hix*self.embedding_dim:(hix+1)*self.embedding_dim] = rel_hnq[hix]\n",
    "            for tix in tixs.flatten():\n",
    "                B[i*self.embedding_dim:(i+1)*self.embedding_dim, tix*self.embedding_dim:(tix+1)*self.embedding_dim] = -rel_tnq[tix]\n",
    "            if hixs.shape[0] > 0:\n",
    "                xv[i*self.embedding_dim:(i+1)*self.embedding_dim] = self.entity_embeddings(indices=eunq[hixs[0],0]).view(-1, self.embedding_dim, 1)\n",
    "            else:\n",
    "                xv[i*self.embedding_dim:(i+1)*self.embedding_dim] = self.entity_embeddings(indices=eunq[tixs[0],2]).view(-1, self.embedding_dim, 1)\n",
    "        \n",
    "        L = B @ B.T\n",
    "        \n",
    "        # Project entities\n",
    "        proj_h = rel_h @ h\n",
    "        proj_t = rel_t @ t\n",
    "        Lv = L @ xv\n",
    "\n",
    "        scores = -(1-lbda)*torch.norm(proj_h - proj_t, dim=1, p=self.scoring_fct_norm) - lbda*torch.norm(Lv, dim=0, p=2)\n",
    "#         scores = -torch.norm(Lv, dim=0, p=2)\n",
    "        return scores\n",
    "\n",
    "#     def score_t(self, hr_batch: torch.LongTensor, slice_size: int = None) -> torch.FloatTensor:  # noqa: D102\n",
    "#         # Get embeddings\n",
    "#         h = self.entity_embeddings(indices=hr_batch[:, 0]).view(-1, self.embedding_dim, 1)\n",
    "#         rel_h = self.left_relation_embeddings(indices=hr_batch[:, 1]).view(-1, self.embedding_dim, self.embedding_dim)\n",
    "#         rel_t = self.right_relation_embeddings(indices=hr_batch[:, 1])\n",
    "#         rel_t = rel_t.view(-1, 1, self.embedding_dim, self.embedding_dim)\n",
    "#         t_all = self.entity_embeddings(indices=None).view(1, -1, self.embedding_dim, 1)\n",
    "        \n",
    "#         B = torch.zeros((t_all.shape[1]*self.embedding_dim, hr_batch.shape[0]*self.embedding_dim))\n",
    "#         print('t_all: {}, h: {}, rel_t: {}, rel_h: {}'.format(t_all.shape, h.shape, rel_t.shape, rel_h.shape))\n",
    "\n",
    "#         if slice_size is not None:\n",
    "#             proj_t_arr = []\n",
    "#             # Project entities\n",
    "#             proj_h = rel_h @ h\n",
    "\n",
    "#             for t in torch.split(t_all, slice_size, dim=1):\n",
    "#                 # Project entities\n",
    "#                 proj_t = rel_t @ t\n",
    "#                 proj_t_arr.append(proj_t)\n",
    "\n",
    "#             proj_t = torch.cat(proj_t_arr, dim=1)\n",
    "\n",
    "#         else:\n",
    "#             # Project entities\n",
    "#             proj_h = rel_h @ h\n",
    "#             proj_t = rel_t @ t_all\n",
    "#             print('proj_t: {}, proj_h: {}'.format(proj_t.shape, proj_h.shape))\n",
    "\n",
    "#         scores = -torch.norm(proj_h[:, None, :, 0] - proj_t[:, :, :, 0], dim=-1, p=self.scoring_fct_norm)\n",
    "\n",
    "#         return scores\n",
    "    \n",
    "#     def score_h(self, rt_batch: torch.LongTensor, slice_size: int = None) -> torch.FloatTensor:  # noqa: D102\n",
    "#         # Get embeddings\n",
    "#         h_all = self.entity_embeddings(indices=None).view(1, -1, self.embedding_dim, 1)\n",
    "#         rel_h = self.left_relation_embeddings(indices=rt_batch[:, 0])\n",
    "#         rel_h = rel_h.view(-1, 1, self.embedding_dim, self.embedding_dim)\n",
    "#         rel_t = self.right_relation_embeddings(indices=rt_batch[:, 0]).view(-1, self.embedding_dim, self.embedding_dim)\n",
    "#         t = self.entity_embeddings(indices=rt_batch[:, 1]).view(-1, self.embedding_dim, 1)\n",
    "        \n",
    "#         print(h_all.shape, t.shape, rel_h.shape)\n",
    "\n",
    "        \n",
    "#         if slice_size is not None:\n",
    "#             proj_h_arr = []\n",
    "\n",
    "#             # Project entities\n",
    "#             proj_t = rel_t @ t\n",
    "\n",
    "#             for h in torch.split(h_all, slice_size, dim=1):\n",
    "#                 # Project entities\n",
    "#                 proj_h = rel_h @ h\n",
    "#                 proj_h_arr.append(proj_h)\n",
    "\n",
    "#             proj_h = torch.cat(proj_h_arr, dim=1)\n",
    "#         else:\n",
    "#             # Project entities\n",
    "#             proj_h = rel_h @ h_all\n",
    "#             proj_t = rel_t @ t\n",
    "\n",
    "#         scores = -torch.norm(proj_h[:, :, :, 0] - proj_t[:, None, :, 0], dim=-1, p=self.scoring_fct_norm)\n",
    "\n",
    "#         return scores"
   ]
  },
  {
   "cell_type": "code",
   "execution_count": 4,
   "metadata": {},
   "outputs": [
    {
     "ename": "ValueError",
     "evalue": "dataset is neither a pre-defined dataset string nor a filepath",
     "output_type": "error",
     "traceback": [
      "\u001b[0;31m---------------------------------------------------------------------------\u001b[0m",
      "\u001b[0;31mValueError\u001b[0m                                Traceback (most recent call last)",
      "\u001b[0;32m<ipython-input-4-79ded5533f2a>\u001b[0m in \u001b[0;36m<module>\u001b[0;34m\u001b[0m\n\u001b[1;32m      6\u001b[0m     \u001b[0mtraining_kwargs\u001b[0m\u001b[0;34m=\u001b[0m\u001b[0mdict\u001b[0m\u001b[0;34m(\u001b[0m\u001b[0mnum_epochs\u001b[0m\u001b[0;34m=\u001b[0m\u001b[0mnum_epochs\u001b[0m\u001b[0;34m)\u001b[0m\u001b[0;34m,\u001b[0m\u001b[0;34m\u001b[0m\u001b[0;34m\u001b[0m\u001b[0m\n\u001b[1;32m      7\u001b[0m     \u001b[0mmodel_kwargs\u001b[0m\u001b[0;34m=\u001b[0m\u001b[0mdict\u001b[0m\u001b[0;34m(\u001b[0m\u001b[0membedding_dim\u001b[0m\u001b[0;34m=\u001b[0m\u001b[0membedding_dim\u001b[0m\u001b[0;34m)\u001b[0m\u001b[0;34m,\u001b[0m\u001b[0;34m\u001b[0m\u001b[0;34m\u001b[0m\u001b[0m\n\u001b[0;32m----> 8\u001b[0;31m     \u001b[0mloss\u001b[0m\u001b[0;34m=\u001b[0m\u001b[0mloss\u001b[0m\u001b[0;34m\u001b[0m\u001b[0;34m\u001b[0m\u001b[0m\n\u001b[0m\u001b[1;32m      9\u001b[0m )\n\u001b[1;32m     10\u001b[0m \u001b[0mmodel2\u001b[0m \u001b[0;34m=\u001b[0m \u001b[0mresult2\u001b[0m\u001b[0;34m.\u001b[0m\u001b[0mmodel\u001b[0m\u001b[0;34m\u001b[0m\u001b[0;34m\u001b[0m\u001b[0m\n",
      "\u001b[0;32m~/anaconda3/envs/sheaf_kg/lib/python3.7/site-packages/pykeen/pipeline.py\u001b[0m in \u001b[0;36mpipeline\u001b[0;34m(dataset, dataset_kwargs, training, testing, validation, evaluation_entity_whitelist, evaluation_relation_whitelist, model, model_kwargs, loss, loss_kwargs, regularizer, regularizer_kwargs, optimizer, optimizer_kwargs, clear_optimizer, training_loop, negative_sampler, negative_sampler_kwargs, training_kwargs, stopper, stopper_kwargs, evaluator, evaluator_kwargs, evaluation_kwargs, result_tracker, result_tracker_kwargs, metadata, device, random_seed, use_testing_data)\u001b[0m\n\u001b[1;32m    846\u001b[0m         \u001b[0mtraining\u001b[0m\u001b[0;34m=\u001b[0m\u001b[0mtraining\u001b[0m\u001b[0;34m,\u001b[0m\u001b[0;34m\u001b[0m\u001b[0;34m\u001b[0m\u001b[0m\n\u001b[1;32m    847\u001b[0m         \u001b[0mtesting\u001b[0m\u001b[0;34m=\u001b[0m\u001b[0mtesting\u001b[0m\u001b[0;34m,\u001b[0m\u001b[0;34m\u001b[0m\u001b[0;34m\u001b[0m\u001b[0m\n\u001b[0;32m--> 848\u001b[0;31m         \u001b[0mvalidation\u001b[0m\u001b[0;34m=\u001b[0m\u001b[0mvalidation\u001b[0m\u001b[0;34m,\u001b[0m\u001b[0;34m\u001b[0m\u001b[0;34m\u001b[0m\u001b[0m\n\u001b[0m\u001b[1;32m    849\u001b[0m     )\n\u001b[1;32m    850\u001b[0m     \u001b[0;32mif\u001b[0m \u001b[0mdataset\u001b[0m \u001b[0;32mis\u001b[0m \u001b[0;32mnot\u001b[0m \u001b[0;32mNone\u001b[0m\u001b[0;34m:\u001b[0m\u001b[0;34m\u001b[0m\u001b[0;34m\u001b[0m\u001b[0m\n",
      "\u001b[0;32m~/anaconda3/envs/sheaf_kg/lib/python3.7/site-packages/pykeen/datasets/__init__.py\u001b[0m in \u001b[0;36mget_dataset\u001b[0;34m(dataset, dataset_kwargs, training, testing, validation)\u001b[0m\n\u001b[1;32m     95\u001b[0m             \u001b[0mdataset\u001b[0m\u001b[0;34m:\u001b[0m \u001b[0mType\u001b[0m\u001b[0;34m[\u001b[0m\u001b[0mDataSet\u001b[0m\u001b[0;34m]\u001b[0m \u001b[0;34m=\u001b[0m \u001b[0mdatasets\u001b[0m\u001b[0;34m[\u001b[0m\u001b[0mnormalize_string\u001b[0m\u001b[0;34m(\u001b[0m\u001b[0mdataset\u001b[0m\u001b[0;34m)\u001b[0m\u001b[0;34m]\u001b[0m\u001b[0;34m\u001b[0m\u001b[0;34m\u001b[0m\u001b[0m\n\u001b[1;32m     96\u001b[0m         \u001b[0;32melif\u001b[0m \u001b[0;32mnot\u001b[0m \u001b[0mos\u001b[0m\u001b[0;34m.\u001b[0m\u001b[0mpath\u001b[0m\u001b[0;34m.\u001b[0m\u001b[0mexists\u001b[0m\u001b[0;34m(\u001b[0m\u001b[0mdataset\u001b[0m\u001b[0;34m)\u001b[0m\u001b[0;34m:\u001b[0m\u001b[0;34m\u001b[0m\u001b[0;34m\u001b[0m\u001b[0m\n\u001b[0;32m---> 97\u001b[0;31m             \u001b[0;32mraise\u001b[0m \u001b[0mValueError\u001b[0m\u001b[0;34m(\u001b[0m\u001b[0;34m'dataset is neither a pre-defined dataset string nor a filepath'\u001b[0m\u001b[0;34m)\u001b[0m\u001b[0;34m\u001b[0m\u001b[0;34m\u001b[0m\u001b[0m\n\u001b[0m\u001b[1;32m     98\u001b[0m         \u001b[0;32melse\u001b[0m\u001b[0;34m:\u001b[0m\u001b[0;34m\u001b[0m\u001b[0;34m\u001b[0m\u001b[0m\n\u001b[1;32m     99\u001b[0m             \u001b[0;32mreturn\u001b[0m \u001b[0mDataSet\u001b[0m\u001b[0;34m.\u001b[0m\u001b[0mfrom_path\u001b[0m\u001b[0;34m(\u001b[0m\u001b[0mdataset\u001b[0m\u001b[0;34m)\u001b[0m\u001b[0;34m\u001b[0m\u001b[0;34m\u001b[0m\u001b[0m\n",
      "\u001b[0;31mValueError\u001b[0m: dataset is neither a pre-defined dataset string nor a filepath"
     ]
    }
   ],
   "source": [
    "result2 = pipeline(\n",
    "    model=ModifiedSE,\n",
    "    dataset=dataset,\n",
    "    random_seed=1235,\n",
    "    device='gpu',\n",
    "    training_kwargs=dict(num_epochs=num_epochs),\n",
    "    model_kwargs=dict(embedding_dim=embedding_dim),\n",
    "    loss=loss\n",
    ")\n",
    "model2 = result2.model\n",
    "model2"
   ]
  },
  {
   "cell_type": "code",
   "execution_count": null,
   "metadata": {},
   "outputs": [],
   "source": [
    "result2.plot_losses()\n",
    "plt.show()"
   ]
  },
  {
   "cell_type": "code",
   "execution_count": null,
   "metadata": {},
   "outputs": [],
   "source": [
    "comp_models = ['StructuredEmbedding','TransE','RotatE','HolE']\n",
    "comp_results = []\n",
    "for comp_model in comp_models:\n",
    "    print('Running {}'.format(comp_model))\n",
    "    result = pipeline(\n",
    "        dataset=dataset,\n",
    "        model=comp_model,\n",
    "        random_seed=1235,\n",
    "        device='gpu',\n",
    "        training_kwargs=dict(num_epochs=num_epochs),  # Shouldn't take more than a minute or two on a nice computer\n",
    "        model_kwargs=dict(embedding_dim=embedding_dim),\n",
    "        loss=loss\n",
    "    )\n",
    "    comp_results.append(result)"
   ]
  },
  {
   "cell_type": "code",
   "execution_count": null,
   "metadata": {},
   "outputs": [],
   "source": [
    "plt.plot(np.arange(len(result2.losses)),result2.losses,label='Sheaf SE')\n",
    "for i in range(len(comp_models)):\n",
    "    comp_model = comp_models[i]\n",
    "    comp_result = comp_results[i]\n",
    "    plt.plot(np.arange(len(comp_result.losses)),comp_result.losses,label=comp_model)\n",
    "plt.ylabel(str(result.model.loss).replace('()',''))\n",
    "plt.xlabel('epoch')\n",
    "plt.legend()\n",
    "plt.show()"
   ]
  },
  {
   "cell_type": "code",
   "execution_count": null,
   "metadata": {},
   "outputs": [],
   "source": [
    "res_df = result2.metric_results.to_df()"
   ]
  },
  {
   "cell_type": "code",
   "execution_count": null,
   "metadata": {},
   "outputs": [],
   "source": [
    "compto = 2"
   ]
  },
  {
   "cell_type": "code",
   "execution_count": null,
   "metadata": {},
   "outputs": [],
   "source": [
    "comp_results[compto].metric_results.to_df()"
   ]
  },
  {
   "cell_type": "code",
   "execution_count": null,
   "metadata": {},
   "outputs": [],
   "source": [
    "res_df['diff'] = res_df.Value - comp_results[compto].metric_results.to_df().Value\n",
    "res_df"
   ]
  },
  {
   "cell_type": "code",
   "execution_count": null,
   "metadata": {},
   "outputs": [],
   "source": []
  },
  {
   "cell_type": "code",
   "execution_count": null,
   "metadata": {},
   "outputs": [],
   "source": [
    "# comp_results[0].model.score_all_triples()"
   ]
  },
  {
   "cell_type": "code",
   "execution_count": null,
   "metadata": {},
   "outputs": [],
   "source": [
    "# model2.score_all_triples()"
   ]
  },
  {
   "cell_type": "code",
   "execution_count": null,
   "metadata": {},
   "outputs": [],
   "source": []
  }
 ],
 "metadata": {
  "kernelspec": {
   "display_name": "Python 3",
   "language": "python",
   "name": "python3"
  },
  "language_info": {
   "codemirror_mode": {
    "name": "ipython",
    "version": 3
   },
   "file_extension": ".py",
   "mimetype": "text/x-python",
   "name": "python",
   "nbconvert_exporter": "python",
   "pygments_lexer": "ipython3",
   "version": "3.7.9"
  }
 },
 "nbformat": 4,
 "nbformat_minor": 4
}
