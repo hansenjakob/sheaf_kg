{
 "cells": [
  {
   "cell_type": "markdown",
   "metadata": {},
   "source": [
    "##NOTE: \n",
    "For models trained before ~Feb 2021, this requires an older version of Pykeen to be used. \n",
    "Use version pykeen==1.1.0"
   ]
  },
  {
   "cell_type": "code",
   "execution_count": 1,
   "metadata": {},
   "outputs": [],
   "source": [
    "\n",
    "%load_ext autoreload\n",
    "%autoreload 2\n",
    "import os\n",
    "import sys\n",
    "import time\n",
    "import pickle\n",
    "from tqdm import tqdm\n",
    "# for some reason, need to go to the sheaf_kg directory in order for torch.load to work\n",
    "os.chdir('/home/gebhart/projects/sheaf_kg/sheaf_kg')\n",
    "\n",
    "import matplotlib.pyplot as plt\n",
    "import pandas as pd\n",
    "import numpy as np\n",
    "import pykeen\n",
    "import torch\n",
    "from pykeen.pipeline import pipeline\n",
    "from pykeen.models import TransE"
   ]
  },
  {
   "cell_type": "code",
   "execution_count": null,
   "metadata": {},
   "outputs": [],
   "source": []
  },
  {
   "cell_type": "code",
   "execution_count": 2,
   "metadata": {},
   "outputs": [],
   "source": [
    "dataset = 'FB15k-237'\n",
    "num_test = 200\n",
    "train_test_queries = 'train'\n",
    "model_name = 'TransE_1000epochs_128embdim_CrossEntropyLossloss_42seed_20210128-1828'\n",
    "save_loc = '/home/gebhart/projects/sheaf_kg/data/{}/{}/trained_model.pkl'.format(dataset,model_name)\n",
    "betae_path = '/home/gebhart/projects/sheaf_kg/data/{}-betae'.format(dataset)\n",
    "model = torch.load(save_loc).to('cpu')"
   ]
  },
  {
   "cell_type": "code",
   "execution_count": 3,
   "metadata": {},
   "outputs": [],
   "source": [
    "query_structures = [('e', ('r', 'r')), ('e', ('r', 'r', 'r')), (('e', ('r',)), ('e', ('r',))), (('e', ('r',)), ('e', ('r',)), ('e', ('r',)))]\n",
    "\n",
    "query_name_dict = {('e',('r',)): '1p', \n",
    "                    ('e', ('r', 'r')): '2p',\n",
    "                    ('e', ('r', 'r', 'r')): '3p',\n",
    "                    (('e', ('r',)), ('e', ('r',))): '2i',\n",
    "                    (('e', ('r',)), ('e', ('r',)), ('e', ('r',))): '3i',\n",
    "                    ((('e', ('r',)), ('e', ('r',))), ('r',)): 'ip',\n",
    "                    (('e', ('r', 'r')), ('e', ('r',))): 'pi',\n",
    "                    (('e', ('r',)), ('e', ('r', 'n'))): '2in',\n",
    "                    (('e', ('r',)), ('e', ('r',)), ('e', ('r', 'n'))): '3in',\n",
    "                    ((('e', ('r',)), ('e', ('r', 'n'))), ('r',)): 'inp',\n",
    "                    (('e', ('r', 'r')), ('e', ('r', 'n'))): 'pin',\n",
    "                    (('e', ('r', 'r', 'n')), ('e', ('r',))): 'pni',\n",
    "                    (('e', ('r',)), ('e', ('r',)), ('u',)): '2u-DNF',\n",
    "                    ((('e', ('r',)), ('e', ('r',)), ('u',)), ('r',)): 'up-DNF',\n",
    "                    ((('e', ('r', 'n')), ('e', ('r', 'n'))), ('n',)): '2u-DM',\n",
    "                    ((('e', ('r', 'n')), ('e', ('r', 'n'))), ('n', 'r')): 'up-DM'\n",
    "                }"
   ]
  },
  {
   "cell_type": "code",
   "execution_count": 4,
   "metadata": {
    "scrolled": true
   },
   "outputs": [
    {
     "name": "stderr",
     "output_type": "stream",
     "text": [
      "You're trying to map triples with 30 entities and 0 relations that are not in the training set. These triples will be excluded from the mapping.\n",
      "In total 28 from 20466 triples were filtered out\n"
     ]
    }
   ],
   "source": [
    "ds = pykeen.datasets.get_dataset(dataset=dataset)\n",
    "training = ds.training.mapped_triples\n",
    "relid2label = ds.training.relation_id_to_label \n",
    "label2relid = {v:k for k,v in relid2label.items()}\n",
    "\n",
    "entid2label = ds.training.entity_id_to_label \n",
    "label2entid = {v:k for k,v in entid2label.items()}"
   ]
  },
  {
   "cell_type": "code",
   "execution_count": 5,
   "metadata": {},
   "outputs": [],
   "source": [
    "with open(os.path.join(betae_path,f'{train_test_queries}-queries.pkl'), 'rb') as f:\n",
    "    test_queries = pickle.load(f)\n",
    "\n",
    "if train_test_queries == 'test':\n",
    "    with open(os.path.join(betae_path,f'{train_test_queries}-easy-answers.pkl'), 'rb') as f:\n",
    "        test_answers = pickle.load(f)\n",
    "elif train_test_queries == 'train':\n",
    "    with open(os.path.join(betae_path,f'{train_test_queries}-answers.pkl'), 'rb') as f:\n",
    "        test_answers = pickle.load(f)\n",
    "    \n",
    "with open(os.path.join(betae_path,'id2rel.pkl'), 'rb') as f:\n",
    "    id2rel = pickle.load(f)\n",
    "    \n",
    "with open(os.path.join(betae_path,'id2ent.pkl'), 'rb') as f:\n",
    "    id2ent = pickle.load(f)"
   ]
  },
  {
   "cell_type": "code",
   "execution_count": 6,
   "metadata": {},
   "outputs": [],
   "source": [
    "def map_ent(e):\n",
    "    return label2entid[id2ent[e]]\n",
    "def map_rel(r):\n",
    "    orientation = 1\n",
    "    relname = id2rel[r]\n",
    "    if relname[0] == '-':\n",
    "        orientation = -1\n",
    "    return label2relid[relname[1:]], orientation"
   ]
  },
  {
   "cell_type": "code",
   "execution_count": 7,
   "metadata": {},
   "outputs": [],
   "source": [
    "def L_p(query, model):\n",
    "    '''query of form ('e', ('r', 'r', ... , 'r')).\n",
    "    here we assume 2 or more relations are present so 2p or greater\n",
    "    '''\n",
    "    ent = map_ent(query[0])\n",
    "    invs = []\n",
    "    rels = []\n",
    "    for r in query[1]:\n",
    "        mapped_id, orientation = map_rel(r) \n",
    "        rels.append(mapped_id)\n",
    "        invs.append(orientation)\n",
    "    n_path_ents = len(rels)\n",
    "    \n",
    "    edge_indices = np.concatenate([np.arange(0,n_path_ents)[:,np.newaxis].T, np.arange(1,n_path_ents+1)[:,np.newaxis].T], axis=0)\n",
    "    \n",
    "    rel_idx_tensor = torch.LongTensor(rels)\n",
    "    relations = model.relation_embeddings(indices=rel_idx_tensor)\n",
    "    \n",
    "    for invix in range(len(invs)):\n",
    "        if invix == -1:\n",
    "            relations[invix] = -relations[invix]\n",
    "    \n",
    "    ent_idx_tensor = torch.LongTensor([ent])\n",
    "    source_embeddings = model.entity_embeddings(indices=ent_idx_tensor)\n",
    "    sm = source_embeddings + torch.sum(relations, dim=0)\n",
    "    return sm\n",
    "\n",
    "def L_i(query, model):\n",
    "    '''query of form (('e', ('r',)), ('e', ('r',)), ... , ('e', ('r',)))'''\n",
    "    num_intersects = len(query)\n",
    "    ents = []\n",
    "    rels = []\n",
    "    invs = []\n",
    "    for pair in query:\n",
    "        ents.append(map_ent(pair[0]))\n",
    "        rel, inv = map_rel(pair[1][0])\n",
    "        rels.append(rel)\n",
    "        invs.append(inv)\n",
    "    n_ents = len(ents)\n",
    "    \n",
    "    edge_indices = np.concatenate([np.full(n_ents,n_ents)[:,np.newaxis].T, np.arange(0,n_ents)[:,np.newaxis].T], axis=0)\n",
    "    \n",
    "    rel_idx_tensor = torch.LongTensor(rels)\n",
    "    relations = model.relation_embeddings(indices=rel_idx_tensor)\n",
    "    \n",
    "    for invix in range(len(invs)):\n",
    "        if invix == -1:\n",
    "            relations[invix] = -relations[invix]\n",
    "    \n",
    "    ent_idx_tensor = torch.LongTensor(ents)\n",
    "    source_embeddings = model.entity_embeddings(indices=ent_idx_tensor)\n",
    "    \n",
    "    sm = torch.sum(source_embeddings + relations, dim=0)\n",
    "    return sm\n",
    "\n",
    "query_name_fn_dict = {'2p': L_p, '3p':L_p, '2i': L_i, '3i':L_i}"
   ]
  },
  {
   "cell_type": "code",
   "execution_count": 8,
   "metadata": {},
   "outputs": [
    {
     "name": "stderr",
     "output_type": "stream",
     "text": [
      " 15%|█▌        | 30/200 [00:00<00:00, 290.58it/s]"
     ]
    },
    {
     "name": "stdout",
     "output_type": "stream",
     "text": [
      "Running query : ('e', ('r', 'r'))\n"
     ]
    },
    {
     "name": "stderr",
     "output_type": "stream",
     "text": [
      "100%|██████████| 200/200 [00:00<00:00, 281.43it/s]\n",
      " 14%|█▍        | 28/200 [00:00<00:00, 277.48it/s]"
     ]
    },
    {
     "name": "stdout",
     "output_type": "stream",
     "text": [
      "Running query : ('e', ('r', 'r', 'r'))\n"
     ]
    },
    {
     "name": "stderr",
     "output_type": "stream",
     "text": [
      "100%|██████████| 200/200 [00:00<00:00, 292.39it/s]\n",
      " 15%|█▌        | 30/200 [00:00<00:00, 293.66it/s]"
     ]
    },
    {
     "name": "stdout",
     "output_type": "stream",
     "text": [
      "Running query : (('e', ('r',)), ('e', ('r',)))\n"
     ]
    },
    {
     "name": "stderr",
     "output_type": "stream",
     "text": [
      "100%|██████████| 200/200 [00:00<00:00, 288.47it/s]\n",
      " 15%|█▌        | 30/200 [00:00<00:00, 296.95it/s]"
     ]
    },
    {
     "name": "stdout",
     "output_type": "stream",
     "text": [
      "Running query : (('e', ('r',)), ('e', ('r',)), ('e', ('r',)))\n"
     ]
    },
    {
     "name": "stderr",
     "output_type": "stream",
     "text": [
      "100%|██████████| 200/200 [00:00<00:00, 291.06it/s]\n"
     ]
    }
   ],
   "source": [
    "allhits1 = []\n",
    "allhits3 = []\n",
    "allhits5 = []\n",
    "allhits10 = []\n",
    "allmrr = []\n",
    "query_names = []\n",
    "target_embeddings = model.entity_embeddings(indices=None)\n",
    "for query_structure in query_structures:\n",
    "    print('Running query : {}'.format(query_structure))\n",
    "    query_name = query_name_dict[query_structure]\n",
    "    query_names.append(query_name)\n",
    "    fn = query_name_fn_dict[query_name]\n",
    "    hits1 = 0.\n",
    "    hits3 = 0.\n",
    "    hits5 = 0.\n",
    "    hits10 = 0.\n",
    "    mrr = 0.\n",
    "    cnt = 0\n",
    "    queries = list(test_queries[query_structure])\n",
    "    for query in tqdm(queries[:num_test]):\n",
    "        if len(test_answers[query]) > 0:\n",
    "            # we have a non-trivial \"easy\" query\n",
    "            answers = [map_ent(a) for a in test_answers[query]]\n",
    "            composite = fn(query, model)\n",
    "            Q = torch.norm(composite - target_embeddings, dim=1, p=model.scoring_fct_norm).detach().numpy()\n",
    "            sortd = np.sort(Q)\n",
    "            idxleft = np.searchsorted(sortd, Q[answers], side='left') + 1\n",
    "            idxright = np.searchsorted(sortd, Q[answers], side='right') + 1\n",
    "            # idxright = idxleft # throw this for optimistic ranking\n",
    "            hits1 += ((np.mean(idxleft <= 1) + np.mean(idxright <= 1)) / 2.)\n",
    "            hits3 += ((np.mean(idxleft <= 3) + np.mean(idxright <= 3)) / 2.)\n",
    "            hits5 += ((np.mean(idxleft <= 5) + np.mean(idxright <= 5)) / 2.)\n",
    "            hits10 += ((np.mean(idxleft <= 10) + np.mean(idxright <= 10)) / 2.)\n",
    "            mrr += ((np.mean(1./idxleft) + np.mean(1./idxright)) / 2.)\n",
    "            cnt += 1\n",
    "    if cnt > 0:\n",
    "        allhits1.append(hits1/cnt)\n",
    "        allhits3.append(hits3/cnt)\n",
    "        allhits5.append(hits5/cnt)\n",
    "        allhits10.append(hits10/cnt)\n",
    "        allmrr.append(mrr/cnt)\n",
    "    else:\n",
    "        default = 0.\n",
    "        allhits1.append(default)\n",
    "        allhits3.append(default)\n",
    "        allhits5.append(default)\n",
    "        allhits10.append(default)\n",
    "        allmrr.append(default)"
   ]
  },
  {
   "cell_type": "code",
   "execution_count": 9,
   "metadata": {},
   "outputs": [],
   "source": [
    "cols = ['hits@1', 'hits@3', 'hits@5', 'hits@10', 'mrr']\n",
    "df = pd.DataFrame(np.array([allhits1, allhits3, allhits5, allhits10, allmrr]).T, columns=cols, index=query_names) "
   ]
  },
  {
   "cell_type": "code",
   "execution_count": 10,
   "metadata": {},
   "outputs": [
    {
     "name": "stdout",
     "output_type": "stream",
     "text": [
      "TransE_1000epochs_128embdim_CrossEntropyLossloss_42seed_20210128-1828\n"
     ]
    },
    {
     "data": {
      "text/html": [
       "<div>\n",
       "<style scoped>\n",
       "    .dataframe tbody tr th:only-of-type {\n",
       "        vertical-align: middle;\n",
       "    }\n",
       "\n",
       "    .dataframe tbody tr th {\n",
       "        vertical-align: top;\n",
       "    }\n",
       "\n",
       "    .dataframe thead th {\n",
       "        text-align: right;\n",
       "    }\n",
       "</style>\n",
       "<table border=\"1\" class=\"dataframe\">\n",
       "  <thead>\n",
       "    <tr style=\"text-align: right;\">\n",
       "      <th></th>\n",
       "      <th>hits@1</th>\n",
       "      <th>hits@3</th>\n",
       "      <th>hits@5</th>\n",
       "      <th>hits@10</th>\n",
       "      <th>mrr</th>\n",
       "    </tr>\n",
       "  </thead>\n",
       "  <tbody>\n",
       "    <tr>\n",
       "      <th>2p</th>\n",
       "      <td>6.539156</td>\n",
       "      <td>19.693430</td>\n",
       "      <td>24.273544</td>\n",
       "      <td>28.713767</td>\n",
       "      <td>14.707361</td>\n",
       "    </tr>\n",
       "    <tr>\n",
       "      <th>3p</th>\n",
       "      <td>6.943256</td>\n",
       "      <td>16.726502</td>\n",
       "      <td>19.107179</td>\n",
       "      <td>22.446537</td>\n",
       "      <td>13.119967</td>\n",
       "    </tr>\n",
       "    <tr>\n",
       "      <th>2i</th>\n",
       "      <td>3.109791</td>\n",
       "      <td>9.247883</td>\n",
       "      <td>13.803637</td>\n",
       "      <td>19.684356</td>\n",
       "      <td>8.404997</td>\n",
       "    </tr>\n",
       "    <tr>\n",
       "      <th>3i</th>\n",
       "      <td>2.489583</td>\n",
       "      <td>9.909295</td>\n",
       "      <td>13.741026</td>\n",
       "      <td>18.606407</td>\n",
       "      <td>8.280399</td>\n",
       "    </tr>\n",
       "  </tbody>\n",
       "</table>\n",
       "</div>"
      ],
      "text/plain": [
       "      hits@1     hits@3     hits@5    hits@10        mrr\n",
       "2p  6.539156  19.693430  24.273544  28.713767  14.707361\n",
       "3p  6.943256  16.726502  19.107179  22.446537  13.119967\n",
       "2i  3.109791   9.247883  13.803637  19.684356   8.404997\n",
       "3i  2.489583   9.909295  13.741026  18.606407   8.280399"
      ]
     },
     "execution_count": 10,
     "metadata": {},
     "output_type": "execute_result"
    }
   ],
   "source": [
    "print(model_name)\n",
    "df * 100 # for percents..."
   ]
  },
  {
   "cell_type": "code",
   "execution_count": null,
   "metadata": {},
   "outputs": [],
   "source": []
  }
 ],
 "metadata": {
  "kernelspec": {
   "display_name": "Python 3",
   "language": "python",
   "name": "python3"
  },
  "language_info": {
   "codemirror_mode": {
    "name": "ipython",
    "version": 3
   },
   "file_extension": ".py",
   "mimetype": "text/x-python",
   "name": "python",
   "nbconvert_exporter": "python",
   "pygments_lexer": "ipython3",
   "version": "3.7.9"
  }
 },
 "nbformat": 4,
 "nbformat_minor": 4
}
