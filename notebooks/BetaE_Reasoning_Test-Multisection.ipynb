{
 "cells": [
  {
   "cell_type": "code",
   "execution_count": 1,
   "metadata": {},
   "outputs": [],
   "source": [
    "%load_ext autoreload\n",
    "%autoreload 2\n",
    "import os\n",
    "import sys\n",
    "import time\n",
    "import pickle\n",
    "from tqdm import tqdm\n",
    "# for some reason, need to go to the sheaf_kg directory in order for torch.load to work\n",
    "os.chdir('/home/gebhart/projects/sheaf_kg/sheaf_kg')\n",
    "\n",
    "import sheaf_kg.harmonic_extension as harmonic_extension\n",
    "from sheaf_kg.sheafE_models import SheafE_Multisection, SheafE_Diag\n",
    "\n",
    "import matplotlib.pyplot as plt\n",
    "import pandas as pd\n",
    "import numpy as np\n",
    "import pykeen\n",
    "import torch\n",
    "from pykeen.pipeline import pipeline"
   ]
  },
  {
   "cell_type": "code",
   "execution_count": null,
   "metadata": {},
   "outputs": [],
   "source": []
  },
  {
   "cell_type": "code",
   "execution_count": 2,
   "metadata": {},
   "outputs": [],
   "source": [
    "dataset = 'FB15k-237'\n",
    "num_test = 200\n",
    "use_section = 0\n",
    "train_test_queries = 'train'\n",
    "model_name = 'SheafE_Multisection_64embdim_64esdim_8sec_2norm_1000epochs_SoftplusLossloss_20210301-1835'\n",
    "save_loc = '/home/gebhart/projects/sheaf_kg/data/{}/{}/trained_model.pkl'.format(dataset,model_name)\n",
    "betae_path = '/home/gebhart/projects/sheaf_kg/data/{}-betae'.format(dataset)\n",
    "model = torch.load(save_loc).to('cpu')"
   ]
  },
  {
   "cell_type": "code",
   "execution_count": null,
   "metadata": {},
   "outputs": [],
   "source": []
  },
  {
   "cell_type": "code",
   "execution_count": null,
   "metadata": {},
   "outputs": [],
   "source": []
  },
  {
   "cell_type": "code",
   "execution_count": 3,
   "metadata": {},
   "outputs": [],
   "source": [
    "query_structures = [('e', ('r', 'r')), ('e', ('r', 'r', 'r')), (('e', ('r',)), ('e', ('r',))), (('e', ('r',)), ('e', ('r',)), ('e', ('r',))), (('e', ('r', 'r')), ('e', ('r',))), ((('e', ('r',)), ('e', ('r',))), ('r',))]\n",
    "\n",
    "query_name_dict = {('e',('r',)): '1p', \n",
    "                    ('e', ('r', 'r')): '2p',\n",
    "                    ('e', ('r', 'r', 'r')): '3p',\n",
    "                    (('e', ('r',)), ('e', ('r',))): '2i',\n",
    "                    (('e', ('r',)), ('e', ('r',)), ('e', ('r',))): '3i',\n",
    "                    ((('e', ('r',)), ('e', ('r',))), ('r',)): 'ip',\n",
    "                    (('e', ('r', 'r')), ('e', ('r',))): 'pi',\n",
    "                    (('e', ('r',)), ('e', ('r', 'n'))): '2in',\n",
    "                    (('e', ('r',)), ('e', ('r',)), ('e', ('r', 'n'))): '3in',\n",
    "                    ((('e', ('r',)), ('e', ('r', 'n'))), ('r',)): 'inp',\n",
    "                    (('e', ('r', 'r')), ('e', ('r', 'n'))): 'pin',\n",
    "                    (('e', ('r', 'r', 'n')), ('e', ('r',))): 'pni',\n",
    "                    (('e', ('r',)), ('e', ('r',)), ('u',)): '2u-DNF',\n",
    "                    ((('e', ('r',)), ('e', ('r',)), ('u',)), ('r',)): 'up-DNF',\n",
    "                    ((('e', ('r', 'n')), ('e', ('r', 'n'))), ('n',)): '2u-DM',\n",
    "                    ((('e', ('r', 'n')), ('e', ('r', 'n'))), ('n', 'r')): 'up-DM'\n",
    "                }"
   ]
  },
  {
   "cell_type": "code",
   "execution_count": 4,
   "metadata": {
    "scrolled": true
   },
   "outputs": [
    {
     "name": "stderr",
     "output_type": "stream",
     "text": [
      "You're trying to map triples with 30 entities and 0 relations that are not in the training set. These triples will be excluded from the mapping.\n",
      "In total 28 from 20466 triples were filtered out\n"
     ]
    }
   ],
   "source": [
    "ds = pykeen.datasets.get_dataset(dataset=dataset)\n",
    "training = ds.training.mapped_triples\n",
    "relid2label = ds.training.relation_id_to_label \n",
    "label2relid = {v:k for k,v in relid2label.items()}\n",
    "\n",
    "entid2label = ds.training.entity_id_to_label \n",
    "label2entid = {v:k for k,v in entid2label.items()}"
   ]
  },
  {
   "cell_type": "code",
   "execution_count": 5,
   "metadata": {},
   "outputs": [],
   "source": [
    "with open(os.path.join(betae_path,f'{train_test_queries}-queries.pkl'), 'rb') as f:\n",
    "    test_queries = pickle.load(f)\n",
    "\n",
    "if train_test_queries == 'test':\n",
    "    with open(os.path.join(betae_path,f'{train_test_queries}-easy-answers.pkl'), 'rb') as f:\n",
    "        test_answers = pickle.load(f)\n",
    "elif train_test_queries == 'train':\n",
    "    with open(os.path.join(betae_path,f'{train_test_queries}-answers.pkl'), 'rb') as f:\n",
    "        test_answers = pickle.load(f)\n",
    "    \n",
    "with open(os.path.join(betae_path,'id2rel.pkl'), 'rb') as f:\n",
    "    id2rel = pickle.load(f)\n",
    "    \n",
    "with open(os.path.join(betae_path,'id2ent.pkl'), 'rb') as f:\n",
    "    id2ent = pickle.load(f)"
   ]
  },
  {
   "cell_type": "code",
   "execution_count": 6,
   "metadata": {},
   "outputs": [],
   "source": [
    "def map_ent(e):\n",
    "    return label2entid[id2ent[e]]\n",
    "def map_rel(r):\n",
    "    orientation = 1\n",
    "    relname = id2rel[r]\n",
    "    if relname[0] == '-':\n",
    "        orientation = -1\n",
    "    return label2relid[relname[1:]], orientation"
   ]
  },
  {
   "cell_type": "code",
   "execution_count": 7,
   "metadata": {},
   "outputs": [],
   "source": [
    "def L_p(query, model):\n",
    "    '''query of form ('e', ('r', 'r', ... , 'r')).\n",
    "    here we assume 2 or more relations are present so 2p or greater\n",
    "    '''\n",
    "    ent = map_ent(query[0])\n",
    "    invs = []\n",
    "    rels = []\n",
    "    for r in query[1]:\n",
    "        mapped_id, orientation = map_rel(r) \n",
    "        rels.append(mapped_id)\n",
    "        invs.append(orientation)\n",
    "    n_path_ents = len(rels)\n",
    "    edge_indices = np.concatenate([np.arange(0,n_path_ents)[:,np.newaxis].T, np.arange(1,n_path_ents+1)[:,np.newaxis].T], axis=0)\n",
    "    \n",
    "    rel_idx_tensor = torch.LongTensor(rels)\n",
    "    left_restrictions = torch.index_select(model.left_embeddings, 0, rel_idx_tensor).detach().numpy()\n",
    "    right_restrictions = torch.index_select(model.right_embeddings, 0, rel_idx_tensor).detach().numpy()\n",
    "        \n",
    "    restrictions = np.empty((len(rels), 2, left_restrictions.shape[1], left_restrictions.shape[2]))\n",
    "\n",
    "    for invix in range(len(invs)):\n",
    "        if invs[invix] == -1:\n",
    "            restrictions[invix,0,:,:] = right_restrictions[invix]\n",
    "            restrictions[invix,1,:,:] = left_restrictions[invix]\n",
    "        else:\n",
    "            restrictions[invix,0,:,:] = left_restrictions[invix]\n",
    "            restrictions[invix,1,:,:] = right_restrictions[invix]\n",
    "    \n",
    "    ent_idx_tensor = torch.LongTensor([ent])\n",
    "    source_embeddings = torch.index_select(model.ent_embeddings, 0, ent_idx_tensor).view(-1, model.embedding_dim, model.num_sections).detach().numpy()\n",
    "    \n",
    "    B = np.array([0,n_path_ents],np.int)\n",
    "    U = np.array(range(1,n_path_ents),np.int)\n",
    "    source_vertices = [0]\n",
    "    target_vertices = [1]\n",
    "    LSchur = harmonic_extension.Kron_reduction(edge_indices, restrictions, B, U)\n",
    "    return LSchur, source_vertices, target_vertices, source_embeddings\n",
    "\n",
    "def L_i(query, model):\n",
    "    '''query of form (('e', ('r',)), ('e', ('r',)), ... , ('e', ('r',)))'''\n",
    "    num_intersects = len(query)\n",
    "    ents = []\n",
    "    rels = []\n",
    "    invs = []\n",
    "    for pair in query:\n",
    "        ents.append(map_ent(pair[0]))\n",
    "        rel, inv = map_rel(pair[1][0])\n",
    "        rels.append(rel)\n",
    "        invs.append(inv)\n",
    "    n_ents = len(ents)\n",
    "    \n",
    "    edge_indices = np.concatenate([np.full(n_ents,n_ents)[:,np.newaxis].T, np.arange(0,n_ents)[:,np.newaxis].T], axis=0)\n",
    "    \n",
    "    rel_idx_tensor = torch.LongTensor(rels)\n",
    "    left_restrictions = torch.index_select(model.left_embeddings, 0 , rel_idx_tensor).detach().numpy()\n",
    "    right_restrictions = torch.index_select(model.right_embeddings, 0, rel_idx_tensor).detach().numpy()\n",
    "    \n",
    "    restrictions = np.empty((len(rels), 2, left_restrictions.shape[1], left_restrictions.shape[2]))\n",
    "\n",
    "    for invix in range(len(invs)):\n",
    "        if invs[invix] == 1:\n",
    "            restrictions[invix,0,:,:] = right_restrictions[invix]\n",
    "            restrictions[invix,1,:,:] = left_restrictions[invix]\n",
    "        else:\n",
    "            restrictions[invix,0,:,:] = left_restrictions[invix]\n",
    "            restrictions[invix,1,:,:] = right_restrictions[invix]\n",
    "    \n",
    "    ent_idx_tensor = torch.LongTensor(ents)\n",
    "    source_embeddings = torch.index_select(model.ent_embeddings, 0, ent_idx_tensor).view(-1, model.embedding_dim, model.num_sections).detach().numpy()\n",
    "    \n",
    "    L = harmonic_extension.Laplacian(edge_indices, restrictions)\n",
    "    source_vertices = np.arange(n_ents)\n",
    "    target_vertices = [n_ents]\n",
    "    return L, source_vertices, target_vertices, source_embeddings\n",
    "\n",
    "def L_ip(query, model):\n",
    "    '''query of form ((('e', ('r',)), ('e', ('r',))), ('r',))'''\n",
    "    ents = [map_ent(t[0]) for t in query[0]]\n",
    "    rel0, inv0 = map_rel(query[0][0][1][0])\n",
    "    rel1, inv1 = map_rel(query[0][1][1][0])\n",
    "    rel2, inv2 = map_rel(query[1][0])\n",
    "    rels = [rel0, rel1, rel2]\n",
    "    invs = [inv0, inv1, inv2]\n",
    "    n_ents = len(ents)\n",
    "    edge_indices = np.array([[0,2],[1,2],[2,3]],np.int).T\n",
    "    \n",
    "    rel_idx_tensor = torch.LongTensor(rels)\n",
    "    left_restrictions = torch.index_select(model.left_embeddings, 0, rel_idx_tensor).detach().numpy()\n",
    "    right_restrictions = torch.index_select(model.right_embeddings, 0, rel_idx_tensor).detach().numpy()\n",
    "    \n",
    "    restrictions = np.empty((len(rels), 2, left_restrictions.shape[1], left_restrictions.shape[2]))\n",
    "\n",
    "    for invix in range(len(invs)):\n",
    "        if invs[invix] == -1:\n",
    "            restrictions[invix,0,:,:] = right_restrictions[invix]\n",
    "            restrictions[invix,1,:,:] = left_restrictions[invix]\n",
    "        else:\n",
    "            restrictions[invix,0,:,:] = left_restrictions[invix]\n",
    "            restrictions[invix,1,:,:] = right_restrictions[invix]\n",
    "    \n",
    "    ent_idx_tensor = torch.LongTensor(ents)\n",
    "    source_embeddings = torch.index_select(model.ent_embeddings, 0, ent_idx_tensor).view(-1, model.embedding_dim, model.num_sections).detach().numpy()\n",
    "    \n",
    "    B = np.array([0,2,3],np.int)\n",
    "    U = np.array([1],np.int)\n",
    "    source_vertices = [0,1]\n",
    "    target_vertices = [2]\n",
    "    LSchur = harmonic_extension.Kron_reduction(edge_indices, restrictions, B, U)\n",
    "    return LSchur, source_vertices, target_vertices, source_embeddings\n",
    "    \n",
    "def L_pi(query, model):\n",
    "    '''query of form (('e', ('r', 'r')), ('e', ('r',)))'''\n",
    "    ents = [map_ent(t[0]) for t in query]\n",
    "    rel0, inv0 = map_rel(query[0][1][0])\n",
    "    rel1, inv1 = map_rel(query[0][1][1])\n",
    "    rel2, inv2 = map_rel(query[1][1][0])\n",
    "    rels = [rel0, rel1, rel2]\n",
    "    invs = [inv0, inv1, inv2]\n",
    "    n_ents = len(ents)\n",
    "    edge_indices = np.array([[0,2],[2,3],[1,3]],np.int).T\n",
    "    \n",
    "    rel_idx_tensor = torch.LongTensor(rels)\n",
    "    left_restrictions = torch.index_select(model.left_embeddings, 0, rel_idx_tensor).detach().numpy()\n",
    "    right_restrictions = torch.index_select(model.right_embeddings, 0, rel_idx_tensor).detach().numpy()\n",
    "    \n",
    "    restrictions = np.empty((len(rels), 2, left_restrictions.shape[1], left_restrictions.shape[2]))\n",
    "\n",
    "    for invix in range(len(invs)):\n",
    "        if invs[invix] == -1:\n",
    "            restrictions[invix,0,:,:] = right_restrictions[invix]\n",
    "            restrictions[invix,1,:,:] = left_restrictions[invix]\n",
    "        else:\n",
    "            restrictions[invix,0,:,:] = left_restrictions[invix]\n",
    "            restrictions[invix,1,:,:] = right_restrictions[invix]\n",
    "    \n",
    "    ent_idx_tensor = torch.LongTensor(ents)\n",
    "    source_embeddings = torch.index_select(model.ent_embeddings, 0, ent_idx_tensor).view(-1, model.embedding_dim, model.num_sections).detach().numpy()\n",
    "    \n",
    "    B = np.array([0,1,3],np.int)\n",
    "    U = np.array([2],np.int)\n",
    "    source_vertices = [0,1]\n",
    "    target_vertices = [2]\n",
    "    LSchur = harmonic_extension.Kron_reduction(edge_indices, restrictions, B, U)\n",
    "    return LSchur, source_vertices, target_vertices, source_embeddings\n",
    "\n",
    "query_name_fn_dict = {'2p': L_p, '3p':L_p, '2i': L_i, '3i':L_i, 'ip':L_ip, 'pi': L_pi}"
   ]
  },
  {
   "cell_type": "code",
   "execution_count": 8,
   "metadata": {},
   "outputs": [
    {
     "name": "stderr",
     "output_type": "stream",
     "text": [
      "  2%|▏         | 3/200 [00:00<00:08, 24.56it/s]"
     ]
    },
    {
     "name": "stdout",
     "output_type": "stream",
     "text": [
      "Running query : ('e', ('r', 'r'))\n"
     ]
    },
    {
     "name": "stderr",
     "output_type": "stream",
     "text": [
      "100%|██████████| 200/200 [00:13<00:00, 14.54it/s]\n",
      "  1%|          | 2/200 [00:00<00:10, 18.63it/s]"
     ]
    },
    {
     "name": "stdout",
     "output_type": "stream",
     "text": [
      "Running query : ('e', ('r', 'r', 'r'))\n"
     ]
    },
    {
     "name": "stderr",
     "output_type": "stream",
     "text": [
      "100%|██████████| 200/200 [00:16<00:00, 12.21it/s]\n",
      "  2%|▏         | 3/200 [00:00<00:08, 23.68it/s]"
     ]
    },
    {
     "name": "stdout",
     "output_type": "stream",
     "text": [
      "Running query : (('e', ('r',)), ('e', ('r',)))\n"
     ]
    },
    {
     "name": "stderr",
     "output_type": "stream",
     "text": [
      "100%|██████████| 200/200 [00:08<00:00, 22.48it/s]\n",
      "  2%|▏         | 3/200 [00:00<00:08, 23.42it/s]"
     ]
    },
    {
     "name": "stdout",
     "output_type": "stream",
     "text": [
      "Running query : (('e', ('r',)), ('e', ('r',)), ('e', ('r',)))\n"
     ]
    },
    {
     "name": "stderr",
     "output_type": "stream",
     "text": [
      "100%|██████████| 200/200 [00:08<00:00, 22.71it/s]\n",
      "0it [00:00, ?it/s]\n",
      "0it [00:00, ?it/s]"
     ]
    },
    {
     "name": "stdout",
     "output_type": "stream",
     "text": [
      "Running query : (('e', ('r', 'r')), ('e', ('r',)))\n",
      "Running query : ((('e', ('r',)), ('e', ('r',))), ('r',))\n"
     ]
    },
    {
     "name": "stderr",
     "output_type": "stream",
     "text": [
      "\n"
     ]
    }
   ],
   "source": [
    "allhits1 = []\n",
    "allhits3 = []\n",
    "allhits5 = []\n",
    "allhits10 = []\n",
    "allmrr = []\n",
    "query_names = []\n",
    "target_embeddings = model.ent_embeddings.view(-1, model.embedding_dim, model.num_sections)[:,:,use_section].detach().numpy().T\n",
    "for query_structure in query_structures:\n",
    "    print('Running query : {}'.format(query_structure))\n",
    "    query_name = query_name_dict[query_structure]\n",
    "    query_names.append(query_name)\n",
    "    fn = query_name_fn_dict[query_name]\n",
    "    hits1 = 0.\n",
    "    hits3 = 0.\n",
    "    hits5 = 0.\n",
    "    hits10 = 0.\n",
    "    mrr = 0.\n",
    "    cnt = 0\n",
    "    queries = list(test_queries[query_structure])\n",
    "    for query in tqdm(queries[:num_test]):\n",
    "        if len(test_answers[query]) > 0:\n",
    "            # we have a non-trivial \"easy\" query\n",
    "            answers = [map_ent(a) for a in test_answers[query]]\n",
    "            L, source_vertices, target_vertices, source_embeddings = fn(query, model)\n",
    "            Q = harmonic_extension.compute_costs(L,source_vertices,target_vertices,source_embeddings[:,:,use_section].flatten(),target_embeddings,source_embeddings.shape[1])\n",
    "            sortd = np.sort(Q)\n",
    "            idxleft = np.searchsorted(sortd, Q[answers], side='left') + 1\n",
    "            idxright = np.searchsorted(sortd, Q[answers], side='right') + 1\n",
    "            # idxright = idxleft # throw this for optimistic ranking\n",
    "            hits1 += ((np.mean(idxleft <= 1) + np.mean(idxright <= 1)) / 2.)\n",
    "            hits3 += ((np.mean(idxleft <= 3) + np.mean(idxright <= 3)) / 2.)\n",
    "            hits5 += ((np.mean(idxleft <= 5) + np.mean(idxright <= 5)) / 2.)\n",
    "            hits10 += ((np.mean(idxleft <= 10) + np.mean(idxright <= 10)) / 2.)\n",
    "            mrr += ((np.mean(1./idxleft) + np.mean(1./idxright)) / 2.)\n",
    "            cnt += 1\n",
    "    if cnt > 0:\n",
    "        allhits1.append(hits1/cnt)\n",
    "        allhits3.append(hits3/cnt)\n",
    "        allhits5.append(hits5/cnt)\n",
    "        allhits10.append(hits10/cnt)\n",
    "        allmrr.append(mrr/cnt)\n",
    "    else:\n",
    "        default = 0.\n",
    "        allhits1.append(default)\n",
    "        allhits3.append(default)\n",
    "        allhits5.append(default)\n",
    "        allhits10.append(default)\n",
    "        allmrr.append(default)"
   ]
  },
  {
   "cell_type": "code",
   "execution_count": 9,
   "metadata": {},
   "outputs": [],
   "source": [
    "cols = ['hits@1', 'hits@3', 'hits@5', 'hits@10', 'mrr']\n",
    "df = pd.DataFrame(np.array([allhits1, allhits3, allhits5, allhits10, allmrr]).T, columns=cols, index=query_names) "
   ]
  },
  {
   "cell_type": "code",
   "execution_count": 10,
   "metadata": {},
   "outputs": [
    {
     "name": "stdout",
     "output_type": "stream",
     "text": [
      "SheafE_Multisection_64embdim_64esdim_8sec_2norm_1000epochs_SoftplusLossloss_20210301-1835\n"
     ]
    },
    {
     "data": {
      "text/html": [
       "<div>\n",
       "<style scoped>\n",
       "    .dataframe tbody tr th:only-of-type {\n",
       "        vertical-align: middle;\n",
       "    }\n",
       "\n",
       "    .dataframe tbody tr th {\n",
       "        vertical-align: top;\n",
       "    }\n",
       "\n",
       "    .dataframe thead th {\n",
       "        text-align: right;\n",
       "    }\n",
       "</style>\n",
       "<table border=\"1\" class=\"dataframe\">\n",
       "  <thead>\n",
       "    <tr style=\"text-align: right;\">\n",
       "      <th></th>\n",
       "      <th>hits@1</th>\n",
       "      <th>hits@3</th>\n",
       "      <th>hits@5</th>\n",
       "      <th>hits@10</th>\n",
       "      <th>mrr</th>\n",
       "    </tr>\n",
       "  </thead>\n",
       "  <tbody>\n",
       "    <tr>\n",
       "      <th>2p</th>\n",
       "      <td>3.439781</td>\n",
       "      <td>11.328596</td>\n",
       "      <td>13.152540</td>\n",
       "      <td>14.319749</td>\n",
       "      <td>7.866450</td>\n",
       "    </tr>\n",
       "    <tr>\n",
       "      <th>3p</th>\n",
       "      <td>4.580019</td>\n",
       "      <td>11.409735</td>\n",
       "      <td>13.928062</td>\n",
       "      <td>17.608629</td>\n",
       "      <td>9.259740</td>\n",
       "    </tr>\n",
       "    <tr>\n",
       "      <th>2i</th>\n",
       "      <td>0.081652</td>\n",
       "      <td>1.123831</td>\n",
       "      <td>2.244220</td>\n",
       "      <td>5.571591</td>\n",
       "      <td>1.917152</td>\n",
       "    </tr>\n",
       "    <tr>\n",
       "      <th>3i</th>\n",
       "      <td>0.750000</td>\n",
       "      <td>2.763575</td>\n",
       "      <td>5.475066</td>\n",
       "      <td>8.340907</td>\n",
       "      <td>3.232702</td>\n",
       "    </tr>\n",
       "    <tr>\n",
       "      <th>pi</th>\n",
       "      <td>0.000000</td>\n",
       "      <td>0.000000</td>\n",
       "      <td>0.000000</td>\n",
       "      <td>0.000000</td>\n",
       "      <td>0.000000</td>\n",
       "    </tr>\n",
       "    <tr>\n",
       "      <th>ip</th>\n",
       "      <td>0.000000</td>\n",
       "      <td>0.000000</td>\n",
       "      <td>0.000000</td>\n",
       "      <td>0.000000</td>\n",
       "      <td>0.000000</td>\n",
       "    </tr>\n",
       "  </tbody>\n",
       "</table>\n",
       "</div>"
      ],
      "text/plain": [
       "      hits@1     hits@3     hits@5    hits@10       mrr\n",
       "2p  3.439781  11.328596  13.152540  14.319749  7.866450\n",
       "3p  4.580019  11.409735  13.928062  17.608629  9.259740\n",
       "2i  0.081652   1.123831   2.244220   5.571591  1.917152\n",
       "3i  0.750000   2.763575   5.475066   8.340907  3.232702\n",
       "pi  0.000000   0.000000   0.000000   0.000000  0.000000\n",
       "ip  0.000000   0.000000   0.000000   0.000000  0.000000"
      ]
     },
     "execution_count": 10,
     "metadata": {},
     "output_type": "execute_result"
    }
   ],
   "source": [
    "print(model_name)\n",
    "df * 100 # for percents..."
   ]
  },
  {
   "cell_type": "code",
   "execution_count": null,
   "metadata": {},
   "outputs": [],
   "source": []
  }
 ],
 "metadata": {
  "kernelspec": {
   "display_name": "Python 3",
   "language": "python",
   "name": "python3"
  },
  "language_info": {
   "codemirror_mode": {
    "name": "ipython",
    "version": 3
   },
   "file_extension": ".py",
   "mimetype": "text/x-python",
   "name": "python",
   "nbconvert_exporter": "python",
   "pygments_lexer": "ipython3",
   "version": "3.7.9"
  }
 },
 "nbformat": 4,
 "nbformat_minor": 4
}
