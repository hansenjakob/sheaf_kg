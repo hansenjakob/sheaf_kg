{
 "cells": [
  {
   "cell_type": "code",
   "execution_count": 1,
   "metadata": {},
   "outputs": [
    {
     "name": "stderr",
     "output_type": "stream",
     "text": [
      "PyKEEN was unable to load dataset openbiolinkf1. Try uninstalling PyKEEN with ``pip uninstall pykeen`` then reinstalling\n",
      "PyKEEN was unable to load dataset openbiolinkf2. Try uninstalling PyKEEN with ``pip uninstall pykeen`` then reinstalling\n"
     ]
    }
   ],
   "source": [
    "import os\n",
    "import sys\n",
    "import time\n",
    "import argparse\n",
    "import json\n",
    "from tqdm import tqdm\n",
    "\n",
    "import pandas as pd\n",
    "import numpy as np\n",
    "import pykeen\n",
    "from pykeen.evaluation import rank_based_evaluator\n",
    "import torch\n",
    "from scipy import stats\n",
    "\n",
    "from sheaf_kg.train_sheafE_betae import read_dataset, shuffle_datasets, dataset_to_device, sample_answers\n",
    "import sheaf_kg.complex_functions as cf\n",
    "# from sheaf_kg.complex_functions import test_batch"
   ]
  },
  {
   "cell_type": "code",
   "execution_count": 2,
   "metadata": {},
   "outputs": [],
   "source": [
    "dataset = 'FB15k-237'\n",
    "savename = 'TransE_500epochs_64embdim_MarginRankingLossloss_11seed_20210525-1745'\n",
    "\n",
    "savedir = f'/home/gebhart/projects/sheaf_kg/data/{dataset}'\n",
    "complex_dataset_loc = f'/home/gebhart/projects/sheaf_kg/data/{dataset}-betae'\n",
    "\n",
    "test_query_structures = ['1p','2p','3p','2i','3i','ip','pi']\n"
   ]
  },
  {
   "cell_type": "code",
   "execution_count": 3,
   "metadata": {},
   "outputs": [],
   "source": [
    "model = torch.load(os.path.join(savedir, savename, 'trained_model.pkl'))"
   ]
  },
  {
   "cell_type": "code",
   "execution_count": 4,
   "metadata": {},
   "outputs": [],
   "source": [
    "fun_map = {'1p':cf.L_p_traversal_transE,\n",
    "           '2p':cf.L_p_traversal_transE,\n",
    "           '3p':cf.L_p_traversal_transE,\n",
    "           '2i':cf.L_i_traversal_transE,\n",
    "           '3i':cf.L_i_traversal_transE,\n",
    "           'ip':cf.L_ip_traversal_transE,\n",
    "           'pi':cf.L_pi_traversal_transE\n",
    "          }\n",
    "\n",
    "def test_batch(model, test_data, model_inverses=False, test_batch_size=5,\n",
    "                test_query_structures=test_query_structures,\n",
    "                ks=[1,3,5,10]):\n",
    "    with torch.no_grad():\n",
    "        results = []\n",
    "        for query_structure in test_query_structures:\n",
    "            print('Running query : {}'.format(query_structure))\n",
    "            all_avg_ranks = []\n",
    "            cnt = 0\n",
    "            num_test = len(test_data[query_structure]['answers'])\n",
    "            for qix in tqdm(range(0, num_test, test_batch_size)):\n",
    "                if num_test - qix == 1:\n",
    "                    continue\n",
    "                entities = test_data[query_structure]['entities'][qix:qix+test_batch_size]\n",
    "                relations = test_data[query_structure]['relations'][qix:qix+test_batch_size]\n",
    "                if model_inverses:\n",
    "                    inverses = None\n",
    "                else:\n",
    "                    inverses = test_data[query_structure]['inverses'][qix:qix+test_batch_size]\n",
    "                all_answers = test_data[query_structure]['answers'][qix:qix+test_batch_size]\n",
    "                targets = torch.arange(model.entity_embeddings(indices=None).shape[0]).to(model.device)\n",
    "                Q = fun_map[query_structure](model, entities, relations, targets, invs=inverses, p=1)\n",
    "                answer_lens = np.array([len(a) for a in all_answers])\n",
    "                max_len = answer_lens.max()\n",
    "                for l in np.unique(answer_lens):\n",
    "                    idxs = np.where(answer_lens == l)[0]\n",
    "                    answers = [all_answers[j] for j in idxs]\n",
    "                    filter_fix = torch.arange(l)\n",
    "                    for aix in range(len(idxs)):\n",
    "                        ranks = rank_based_evaluator.compute_rank_from_scores(Q[idxs[aix],answers[aix]].unsqueeze(1), Q[idxs[aix],:].unsqueeze(0))\n",
    "                        avg_rank = (torch.sort(ranks['realistic'].cpu(), dim=0)[0] - filter_fix).numpy()\n",
    "                        all_avg_ranks.append(avg_rank)\n",
    "            all_avg_ranks = np.concatenate(all_avg_ranks)\n",
    "            rd = {k: np.mean(all_avg_ranks <= k) for k in ks}\n",
    "            mrr = np.reciprocal(stats.hmean(all_avg_ranks))\n",
    "            rd['mrr'] = mrr if isinstance(mrr, float) else mrr[0]\n",
    "            # rd['mr'] = np.mean(all_avg_ranks)\n",
    "            results.append(rd)\n",
    "\n",
    "        df = pd.DataFrame(results, index=test_query_structures)\n",
    "        return df"
   ]
  },
  {
   "cell_type": "code",
   "execution_count": 5,
   "metadata": {},
   "outputs": [],
   "source": [
    "datasets = read_dataset(complex_dataset_loc)\n",
    "datasets = dataset_to_device(shuffle_datasets(datasets), model.device)"
   ]
  },
  {
   "cell_type": "code",
   "execution_count": 6,
   "metadata": {},
   "outputs": [
    {
     "name": "stderr",
     "output_type": "stream",
     "text": [
      "  1%|          | 34/3262 [00:00<00:09, 334.40it/s]"
     ]
    },
    {
     "name": "stdout",
     "output_type": "stream",
     "text": [
      "Running query : 1p\n"
     ]
    },
    {
     "name": "stderr",
     "output_type": "stream",
     "text": [
      "100%|██████████| 3262/3262 [00:14<00:00, 230.28it/s]\n",
      "  1%|          | 12/977 [00:00<00:08, 116.23it/s]"
     ]
    },
    {
     "name": "stdout",
     "output_type": "stream",
     "text": [
      "Running query : 2p\n"
     ]
    },
    {
     "name": "stderr",
     "output_type": "stream",
     "text": [
      "100%|██████████| 977/977 [00:07<00:00, 134.40it/s]\n",
      "  1%|▏         | 14/974 [00:00<00:07, 131.06it/s]"
     ]
    },
    {
     "name": "stdout",
     "output_type": "stream",
     "text": [
      "Running query : 3p\n"
     ]
    },
    {
     "name": "stderr",
     "output_type": "stream",
     "text": [
      "100%|██████████| 974/974 [00:06<00:00, 154.16it/s]\n",
      "  5%|▌         | 43/852 [00:00<00:01, 428.27it/s]"
     ]
    },
    {
     "name": "stdout",
     "output_type": "stream",
     "text": [
      "Running query : 2i\n"
     ]
    },
    {
     "name": "stderr",
     "output_type": "stream",
     "text": [
      "100%|██████████| 852/852 [00:02<00:00, 412.70it/s]\n",
      "  7%|▋         | 44/640 [00:00<00:01, 431.90it/s]"
     ]
    },
    {
     "name": "stdout",
     "output_type": "stream",
     "text": [
      "Running query : 3i\n"
     ]
    },
    {
     "name": "stderr",
     "output_type": "stream",
     "text": [
      "100%|██████████| 640/640 [00:01<00:00, 415.90it/s]\n",
      "  2%|▏         | 22/909 [00:00<00:04, 216.69it/s]"
     ]
    },
    {
     "name": "stdout",
     "output_type": "stream",
     "text": [
      "Running query : ip\n"
     ]
    },
    {
     "name": "stderr",
     "output_type": "stream",
     "text": [
      "100%|██████████| 909/909 [00:03<00:00, 229.75it/s]\n",
      "  4%|▍         | 35/857 [00:00<00:02, 342.93it/s]"
     ]
    },
    {
     "name": "stdout",
     "output_type": "stream",
     "text": [
      "Running query : pi\n"
     ]
    },
    {
     "name": "stderr",
     "output_type": "stream",
     "text": [
      "100%|██████████| 857/857 [00:02<00:00, 330.57it/s]\n"
     ]
    },
    {
     "data": {
      "text/html": [
       "<div>\n",
       "<style scoped>\n",
       "    .dataframe tbody tr th:only-of-type {\n",
       "        vertical-align: middle;\n",
       "    }\n",
       "\n",
       "    .dataframe tbody tr th {\n",
       "        vertical-align: top;\n",
       "    }\n",
       "\n",
       "    .dataframe thead th {\n",
       "        text-align: right;\n",
       "    }\n",
       "</style>\n",
       "<table border=\"1\" class=\"dataframe\">\n",
       "  <thead>\n",
       "    <tr style=\"text-align: right;\">\n",
       "      <th></th>\n",
       "      <th>1</th>\n",
       "      <th>3</th>\n",
       "      <th>5</th>\n",
       "      <th>10</th>\n",
       "      <th>mrr</th>\n",
       "    </tr>\n",
       "  </thead>\n",
       "  <tbody>\n",
       "    <tr>\n",
       "      <th>1p</th>\n",
       "      <td>3.148299</td>\n",
       "      <td>8.359390</td>\n",
       "      <td>11.601865</td>\n",
       "      <td>16.994701</td>\n",
       "      <td>7.656185</td>\n",
       "    </tr>\n",
       "    <tr>\n",
       "      <th>2p</th>\n",
       "      <td>0.424479</td>\n",
       "      <td>0.916381</td>\n",
       "      <td>1.308122</td>\n",
       "      <td>1.980778</td>\n",
       "      <td>1.035602</td>\n",
       "    </tr>\n",
       "    <tr>\n",
       "      <th>3p</th>\n",
       "      <td>0.262868</td>\n",
       "      <td>0.581311</td>\n",
       "      <td>0.805283</td>\n",
       "      <td>1.239433</td>\n",
       "      <td>0.667380</td>\n",
       "    </tr>\n",
       "    <tr>\n",
       "      <th>2i</th>\n",
       "      <td>0.260917</td>\n",
       "      <td>0.710866</td>\n",
       "      <td>1.155046</td>\n",
       "      <td>1.888099</td>\n",
       "      <td>0.806937</td>\n",
       "    </tr>\n",
       "    <tr>\n",
       "      <th>3i</th>\n",
       "      <td>0.195366</td>\n",
       "      <td>0.592719</td>\n",
       "      <td>0.954973</td>\n",
       "      <td>1.598686</td>\n",
       "      <td>0.647963</td>\n",
       "    </tr>\n",
       "    <tr>\n",
       "      <th>ip</th>\n",
       "      <td>0.377372</td>\n",
       "      <td>0.801914</td>\n",
       "      <td>1.124994</td>\n",
       "      <td>1.726986</td>\n",
       "      <td>0.875956</td>\n",
       "    </tr>\n",
       "    <tr>\n",
       "      <th>pi</th>\n",
       "      <td>0.201120</td>\n",
       "      <td>0.528217</td>\n",
       "      <td>0.782871</td>\n",
       "      <td>1.306913</td>\n",
       "      <td>0.623386</td>\n",
       "    </tr>\n",
       "  </tbody>\n",
       "</table>\n",
       "</div>"
      ],
      "text/plain": [
       "           1         3          5         10       mrr\n",
       "1p  3.148299  8.359390  11.601865  16.994701  7.656185\n",
       "2p  0.424479  0.916381   1.308122   1.980778  1.035602\n",
       "3p  0.262868  0.581311   0.805283   1.239433  0.667380\n",
       "2i  0.260917  0.710866   1.155046   1.888099  0.806937\n",
       "3i  0.195366  0.592719   0.954973   1.598686  0.647963\n",
       "ip  0.377372  0.801914   1.124994   1.726986  0.875956\n",
       "pi  0.201120  0.528217   0.782871   1.306913  0.623386"
      ]
     },
     "execution_count": 6,
     "metadata": {},
     "output_type": "execute_result"
    }
   ],
   "source": [
    "extension_df = test_batch(model, datasets['test-easy'], model_inverses=True, test_query_structures=test_query_structures)\n",
    "extension_df*100"
   ]
  },
  {
   "cell_type": "code",
   "execution_count": null,
   "metadata": {},
   "outputs": [],
   "source": []
  },
  {
   "cell_type": "code",
   "execution_count": null,
   "metadata": {},
   "outputs": [],
   "source": []
  }
 ],
 "metadata": {
  "kernelspec": {
   "display_name": "Python 3",
   "language": "python",
   "name": "python3"
  },
  "language_info": {
   "codemirror_mode": {
    "name": "ipython",
    "version": 3
   },
   "file_extension": ".py",
   "mimetype": "text/x-python",
   "name": "python",
   "nbconvert_exporter": "python",
   "pygments_lexer": "ipython3",
   "version": "3.7.9"
  }
 },
 "nbformat": 4,
 "nbformat_minor": 4
}
