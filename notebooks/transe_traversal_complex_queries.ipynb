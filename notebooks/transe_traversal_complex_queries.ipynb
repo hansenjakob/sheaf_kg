{
 "cells": [
  {
   "cell_type": "code",
   "execution_count": 1,
   "metadata": {},
   "outputs": [
    {
     "name": "stderr",
     "output_type": "stream",
     "text": [
      "PyKEEN was unable to load dataset openbiolinkf1. Try uninstalling PyKEEN with ``pip uninstall pykeen`` then reinstalling\n",
      "PyKEEN was unable to load dataset openbiolinkf2. Try uninstalling PyKEEN with ``pip uninstall pykeen`` then reinstalling\n"
     ]
    }
   ],
   "source": [
    "import os\n",
    "import sys\n",
    "import time\n",
    "import argparse\n",
    "import json\n",
    "from tqdm import tqdm\n",
    "\n",
    "import pandas as pd\n",
    "import numpy as np\n",
    "import pykeen\n",
    "from pykeen.evaluation import rank_based_evaluator\n",
    "import torch\n",
    "from scipy import stats\n",
    "\n",
    "from sheaf_kg.train_sheafE_betae import read_dataset, shuffle_datasets, dataset_to_device, sample_answers\n",
    "import sheaf_kg.complex_functions as cf\n",
    "# from sheaf_kg.complex_functions import test_batch"
   ]
  },
  {
   "cell_type": "code",
   "execution_count": 2,
   "metadata": {},
   "outputs": [],
   "source": [
    "dataset = 'FB15k-237'\n",
    "savename = 'TransE_1000epochs_64embdim_SoftplusLossloss_1234seed_20210519-1452'\n",
    "\n",
    "savedir = f'/home/gebhart/projects/sheaf_kg/data/{dataset}'\n",
    "complex_dataset_loc = f'/home/gebhart/projects/sheaf_kg/data/{dataset}-betae'\n",
    "\n",
    "test_query_structures = ['1p','2p','3p','2i','3i','ip','pi']\n"
   ]
  },
  {
   "cell_type": "code",
   "execution_count": 3,
   "metadata": {},
   "outputs": [],
   "source": [
    "model = torch.load(os.path.join(savedir, savename, 'trained_model.pkl'))"
   ]
  },
  {
   "cell_type": "code",
   "execution_count": 4,
   "metadata": {},
   "outputs": [],
   "source": [
    "fun_map = {'1p':cf.L_p_traversal_transE,\n",
    "           '2p':cf.L_p_traversal_transE,\n",
    "           '3p':cf.L_p_traversal_transE,\n",
    "           '2i':cf.L_i_traversal_transE,\n",
    "           '3i':cf.L_i_traversal_transE,\n",
    "           'ip':cf.L_ip_traversal_transE,\n",
    "           'pi':cf.L_pi_traversal_transE\n",
    "          }\n",
    "\n",
    "def test_batch(model, test_data, model_inverses=False, test_batch_size=5,\n",
    "                test_query_structures=test_query_structures,\n",
    "                ks=[1,3,5,10]):\n",
    "    with torch.no_grad():\n",
    "        results = []\n",
    "        for query_structure in test_query_structures:\n",
    "            print('Running query : {}'.format(query_structure))\n",
    "            all_avg_ranks = []\n",
    "            cnt = 0\n",
    "            num_test = len(test_data[query_structure]['answers'])\n",
    "            for qix in tqdm(range(0, num_test//2, test_batch_size)):\n",
    "                if num_test - qix == 1:\n",
    "                    continue\n",
    "                entities = test_data[query_structure]['entities'][qix:qix+test_batch_size]\n",
    "                relations = test_data[query_structure]['relations'][qix:qix+test_batch_size]\n",
    "                if model_inverses:\n",
    "                    inverses = None\n",
    "                else:\n",
    "                    inverses = test_data[query_structure]['inverses'][qix:qix+test_batch_size]\n",
    "                all_answers = test_data[query_structure]['answers'][qix:qix+test_batch_size]\n",
    "                targets = torch.arange(model.entity_embeddings(indices=None).shape[0]).to(model.device)\n",
    "                Q = fun_map[query_structure](model, entities, relations, targets, invs=inverses, p=1)\n",
    "                answer_lens = np.array([len(a) for a in all_answers])\n",
    "                max_len = answer_lens.max()\n",
    "                for l in np.unique(answer_lens):\n",
    "                    idxs = np.where(answer_lens == l)[0]\n",
    "                    answers = [all_answers[j] for j in idxs]\n",
    "                    filter_fix = torch.arange(l)\n",
    "                    for aix in range(len(idxs)):\n",
    "                        ranks = rank_based_evaluator.compute_rank_from_scores(Q[idxs[aix],answers[aix]].unsqueeze(1), Q[idxs[aix],:].unsqueeze(0))\n",
    "                        avg_rank = (torch.sort(ranks['realistic'].cpu(), dim=0)[0] - filter_fix).numpy()\n",
    "                        all_avg_ranks.append(avg_rank)\n",
    "            all_avg_ranks = np.concatenate(all_avg_ranks)\n",
    "            rd = {k: np.mean(all_avg_ranks <= k) for k in ks}\n",
    "            mrr = np.reciprocal(stats.hmean(all_avg_ranks))\n",
    "            rd['mrr'] = mrr if isinstance(mrr, float) else mrr[0]\n",
    "            # rd['mr'] = np.mean(all_avg_ranks)\n",
    "            results.append(rd)\n",
    "\n",
    "        df = pd.DataFrame(results, index=test_query_structures)\n",
    "        return df"
   ]
  },
  {
   "cell_type": "code",
   "execution_count": 5,
   "metadata": {},
   "outputs": [],
   "source": [
    "datasets = read_dataset(complex_dataset_loc)\n",
    "datasets = dataset_to_device(shuffle_datasets(datasets), model.device)"
   ]
  },
  {
   "cell_type": "code",
   "execution_count": 6,
   "metadata": {},
   "outputs": [
    {
     "name": "stderr",
     "output_type": "stream",
     "text": [
      "  3%|▎         | 49/1631 [00:00<00:03, 485.59it/s]"
     ]
    },
    {
     "name": "stdout",
     "output_type": "stream",
     "text": [
      "Running query : 1p\n"
     ]
    },
    {
     "name": "stderr",
     "output_type": "stream",
     "text": [
      "100%|██████████| 1631/1631 [00:03<00:00, 489.01it/s]\n",
      "  5%|▍         | 23/489 [00:00<00:02, 218.97it/s]"
     ]
    },
    {
     "name": "stdout",
     "output_type": "stream",
     "text": [
      "Running query : 2p\n"
     ]
    },
    {
     "name": "stderr",
     "output_type": "stream",
     "text": [
      "100%|██████████| 489/489 [00:02<00:00, 216.93it/s]\n",
      "  3%|▎         | 17/487 [00:00<00:02, 162.55it/s]"
     ]
    },
    {
     "name": "stdout",
     "output_type": "stream",
     "text": [
      "Running query : 3p\n"
     ]
    },
    {
     "name": "stderr",
     "output_type": "stream",
     "text": [
      "100%|██████████| 487/487 [00:03<00:00, 153.24it/s]\n",
      " 10%|█         | 43/426 [00:00<00:00, 427.77it/s]"
     ]
    },
    {
     "name": "stdout",
     "output_type": "stream",
     "text": [
      "Running query : 2i\n"
     ]
    },
    {
     "name": "stderr",
     "output_type": "stream",
     "text": [
      "100%|██████████| 426/426 [00:01<00:00, 409.91it/s]\n",
      " 13%|█▎        | 43/320 [00:00<00:00, 428.95it/s]"
     ]
    },
    {
     "name": "stdout",
     "output_type": "stream",
     "text": [
      "Running query : 3i\n"
     ]
    },
    {
     "name": "stderr",
     "output_type": "stream",
     "text": [
      "100%|██████████| 320/320 [00:00<00:00, 416.12it/s]\n",
      "  6%|▌         | 26/455 [00:00<00:01, 248.30it/s]"
     ]
    },
    {
     "name": "stdout",
     "output_type": "stream",
     "text": [
      "Running query : ip\n"
     ]
    },
    {
     "name": "stderr",
     "output_type": "stream",
     "text": [
      "100%|██████████| 455/455 [00:01<00:00, 231.98it/s]\n",
      "  8%|▊         | 36/429 [00:00<00:01, 357.89it/s]"
     ]
    },
    {
     "name": "stdout",
     "output_type": "stream",
     "text": [
      "Running query : pi\n"
     ]
    },
    {
     "name": "stderr",
     "output_type": "stream",
     "text": [
      "100%|██████████| 429/429 [00:01<00:00, 336.23it/s]\n"
     ]
    },
    {
     "data": {
      "text/html": [
       "<div>\n",
       "<style scoped>\n",
       "    .dataframe tbody tr th:only-of-type {\n",
       "        vertical-align: middle;\n",
       "    }\n",
       "\n",
       "    .dataframe tbody tr th {\n",
       "        vertical-align: top;\n",
       "    }\n",
       "\n",
       "    .dataframe thead th {\n",
       "        text-align: right;\n",
       "    }\n",
       "</style>\n",
       "<table border=\"1\" class=\"dataframe\">\n",
       "  <thead>\n",
       "    <tr style=\"text-align: right;\">\n",
       "      <th></th>\n",
       "      <th>1</th>\n",
       "      <th>3</th>\n",
       "      <th>5</th>\n",
       "      <th>10</th>\n",
       "      <th>mrr</th>\n",
       "    </tr>\n",
       "  </thead>\n",
       "  <tbody>\n",
       "    <tr>\n",
       "      <th>1p</th>\n",
       "      <td>1.349586</td>\n",
       "      <td>3.589588</td>\n",
       "      <td>5.233241</td>\n",
       "      <td>8.534512</td>\n",
       "      <td>3.736541</td>\n",
       "    </tr>\n",
       "    <tr>\n",
       "      <th>2p</th>\n",
       "      <td>0.260901</td>\n",
       "      <td>0.532774</td>\n",
       "      <td>0.765410</td>\n",
       "      <td>1.189398</td>\n",
       "      <td>0.642090</td>\n",
       "    </tr>\n",
       "    <tr>\n",
       "      <th>3p</th>\n",
       "      <td>0.051202</td>\n",
       "      <td>0.133102</td>\n",
       "      <td>0.201944</td>\n",
       "      <td>0.345813</td>\n",
       "      <td>0.235126</td>\n",
       "    </tr>\n",
       "    <tr>\n",
       "      <th>2i</th>\n",
       "      <td>0.168055</td>\n",
       "      <td>0.420138</td>\n",
       "      <td>0.628419</td>\n",
       "      <td>0.975257</td>\n",
       "      <td>0.543373</td>\n",
       "    </tr>\n",
       "    <tr>\n",
       "      <th>3i</th>\n",
       "      <td>0.109984</td>\n",
       "      <td>0.401041</td>\n",
       "      <td>0.655883</td>\n",
       "      <td>0.983154</td>\n",
       "      <td>0.601661</td>\n",
       "    </tr>\n",
       "    <tr>\n",
       "      <th>ip</th>\n",
       "      <td>0.026598</td>\n",
       "      <td>0.113381</td>\n",
       "      <td>0.178525</td>\n",
       "      <td>0.365164</td>\n",
       "      <td>0.261141</td>\n",
       "    </tr>\n",
       "    <tr>\n",
       "      <th>pi</th>\n",
       "      <td>0.029138</td>\n",
       "      <td>0.094447</td>\n",
       "      <td>0.142173</td>\n",
       "      <td>0.310972</td>\n",
       "      <td>0.290787</td>\n",
       "    </tr>\n",
       "  </tbody>\n",
       "</table>\n",
       "</div>"
      ],
      "text/plain": [
       "           1         3         5        10       mrr\n",
       "1p  1.349586  3.589588  5.233241  8.534512  3.736541\n",
       "2p  0.260901  0.532774  0.765410  1.189398  0.642090\n",
       "3p  0.051202  0.133102  0.201944  0.345813  0.235126\n",
       "2i  0.168055  0.420138  0.628419  0.975257  0.543373\n",
       "3i  0.109984  0.401041  0.655883  0.983154  0.601661\n",
       "ip  0.026598  0.113381  0.178525  0.365164  0.261141\n",
       "pi  0.029138  0.094447  0.142173  0.310972  0.290787"
      ]
     },
     "execution_count": 6,
     "metadata": {},
     "output_type": "execute_result"
    }
   ],
   "source": [
    "extension_df = test_batch(model, datasets['test-easy'], model_inverses=True, test_query_structures=test_query_structures)\n",
    "extension_df*100"
   ]
  },
  {
   "cell_type": "code",
   "execution_count": null,
   "metadata": {},
   "outputs": [],
   "source": []
  },
  {
   "cell_type": "code",
   "execution_count": null,
   "metadata": {},
   "outputs": [],
   "source": []
  }
 ],
 "metadata": {
  "kernelspec": {
   "display_name": "Python 3",
   "language": "python",
   "name": "python3"
  },
  "language_info": {
   "codemirror_mode": {
    "name": "ipython",
    "version": 3
   },
   "file_extension": ".py",
   "mimetype": "text/x-python",
   "name": "python",
   "nbconvert_exporter": "python",
   "pygments_lexer": "ipython3",
   "version": "3.7.9"
  }
 },
 "nbformat": 4,
 "nbformat_minor": 4
}
