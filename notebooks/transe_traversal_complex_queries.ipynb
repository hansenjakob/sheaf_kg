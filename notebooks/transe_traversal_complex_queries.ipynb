{
 "cells": [
  {
   "cell_type": "code",
   "execution_count": 1,
   "metadata": {},
   "outputs": [
    {
     "name": "stderr",
     "output_type": "stream",
     "text": [
      "PyKEEN was unable to load dataset openbiolinkf1. Try uninstalling PyKEEN with ``pip uninstall pykeen`` then reinstalling\n",
      "PyKEEN was unable to load dataset openbiolinkf2. Try uninstalling PyKEEN with ``pip uninstall pykeen`` then reinstalling\n"
     ]
    }
   ],
   "source": [
    "import os\n",
    "import sys\n",
    "import time\n",
    "import argparse\n",
    "import json\n",
    "from tqdm import tqdm\n",
    "\n",
    "import pandas as pd\n",
    "import numpy as np\n",
    "import pykeen\n",
    "from pykeen.evaluation import rank_based_evaluator\n",
    "import torch\n",
    "from scipy import stats\n",
    "\n",
    "from sheaf_kg.train_sheafE_betae import read_dataset, shuffle_datasets, dataset_to_device, sample_answers\n",
    "import sheaf_kg.complex_functions as cf\n",
    "# from sheaf_kg.complex_functions import test_batch"
   ]
  },
  {
   "cell_type": "code",
   "execution_count": 2,
   "metadata": {},
   "outputs": [],
   "source": [
    "dataset = 'FB15k-237'\n",
    "savename = 'TransE_1000epochs_64embdim_SoftplusLossloss_1234seed_20210519-1452'\n",
    "\n",
    "savedir = f'/home/gebhart/projects/sheaf_kg/data/{dataset}'\n",
    "complex_dataset_loc = f'/home/gebhart/projects/sheaf_kg/data/{dataset}-betae'\n",
    "\n",
    "test_query_structures = ['1p','2p','3p','2i','3i','ip','pi']\n"
   ]
  },
  {
   "cell_type": "code",
   "execution_count": 3,
   "metadata": {},
   "outputs": [],
   "source": [
    "model = torch.load(os.path.join(savedir, savename, 'trained_model.pkl'))"
   ]
  },
  {
   "cell_type": "code",
   "execution_count": 7,
   "metadata": {},
   "outputs": [],
   "source": [
    "fun_map = {'1p':cf.L_p_traversal_transE,\n",
    "           '2p':cf.L_p_traversal_transE,\n",
    "           '3p':cf.L_p_traversal_transE,\n",
    "           '2i':cf.L_i_traversal_transE,\n",
    "           '3i':cf.L_i_traversal_transE,\n",
    "           'ip':cf.L_ip_traversal_transE,\n",
    "           'pi':cf.L_pi_traversal_transE\n",
    "          }\n",
    "\n",
    "def test_batch(model, test_data, model_inverses=False, test_batch_size=5,\n",
    "                test_query_structures=test_query_structures,\n",
    "                ks=[1,3,5,10]):\n",
    "    with torch.no_grad():\n",
    "        results = []\n",
    "        for query_structure in test_query_structures:\n",
    "            print('Running query : {}'.format(query_structure))\n",
    "            all_avg_ranks = []\n",
    "            cnt = 0\n",
    "            num_test = len(test_data[query_structure]['answers'])\n",
    "            for qix in tqdm(range(0, num_test//2, test_batch_size)):\n",
    "                if num_test - qix == 1:\n",
    "                    continue\n",
    "                entities = test_data[query_structure]['entities'][qix:qix+test_batch_size]\n",
    "                relations = test_data[query_structure]['relations'][qix:qix+test_batch_size]\n",
    "                if model_inverses:\n",
    "                    inverses = None\n",
    "                else:\n",
    "                    inverses = test_data[query_structure]['inverses'][qix:qix+test_batch_size]\n",
    "                all_answers = test_data[query_structure]['answers'][qix:qix+test_batch_size]\n",
    "                targets = torch.arange(model.entity_embeddings(indices=None).shape[0]).to(model.device)\n",
    "                Q = fun_map[query_structure](model, entities, relations, targets, invs=inverses, p=1)\n",
    "                for b in range(Q.shape[0]):\n",
    "                    answers = all_answers[b]\n",
    "                    for i in range(len(answers)):\n",
    "                        a = answers[i]\n",
    "                        msk = torch.ones(Q.shape[1], dtype=bool)\n",
    "                        msk[answers] = False\n",
    "                        msk[a] = True\n",
    "                        rank = rank_based_evaluator.compute_rank_from_scores(Q[b,a].unsqueeze(0), Q[b,msk].unsqueeze(0))\n",
    "                        avg_rank = rank['realistic'].cpu().numpy()\n",
    "                        all_avg_ranks.append(avg_rank[0])\n",
    "            all_avg_ranks = np.array(all_avg_ranks)\n",
    "#                 max_len = len(max(all_answers, key=len))\n",
    "#                 mask = np.ones(Q.shape, dtype=bool)\n",
    "#                 for i in range(max_len):\n",
    "#                     tmask = mask.copy()\n",
    "#                     answers = []\n",
    "#                     idxs = []\n",
    "#                     for j in range(len(all_answers)):\n",
    "#                         a = all_answers[j]\n",
    "#                         if len(a) > i:\n",
    "#                             answers.append(a[i])\n",
    "#                             idxs.append(j)\n",
    "#                             tmask[j,] = 0\n",
    "#                         else:\n",
    "#                             tmask[j,:] = 0\n",
    "# #                     answers = [a[i] if len(a) > i else a[-1] for a in all_answers ]\n",
    "# #                     idxs = np.arange(len(answers))\n",
    "# #                     answers = [a[i] for a in all_answers if len(a) > i]\n",
    "# #                     idxs = [j for j in range(len(all_answers)) if len(all_answers[j]) > i]\n",
    "#                     if len(answers) > 0:\n",
    "#                         print(tmask)\n",
    "#                         ranks = rank_based_evaluator.compute_rank_from_scores(Q[np.vstack((idxs, answers))].unsqueeze(1), Q[tmask])\n",
    "#                         avg_rank = ranks['realistic'].cpu().numpy()\n",
    "#                         all_avg_ranks.append(avg_rank - i + 1)\n",
    "#             all_avg_ranks = np.concatenate(all_avg_ranks)\n",
    "            \n",
    "            rd = {k: np.mean(all_avg_ranks <= k) for k in ks}\n",
    "            mrr = np.reciprocal(stats.hmean(all_avg_ranks))\n",
    "            rd['mrr'] = mrr if isinstance(mrr, float) else mrr[0]\n",
    "            # rd['mr'] = np.mean(all_avg_ranks)\n",
    "            results.append(rd)\n",
    "\n",
    "        df = pd.DataFrame(results, index=test_query_structures)\n",
    "        return df"
   ]
  },
  {
   "cell_type": "code",
   "execution_count": 8,
   "metadata": {},
   "outputs": [],
   "source": [
    "datasets = read_dataset(complex_dataset_loc)\n",
    "datasets = dataset_to_device(shuffle_datasets(datasets), model.device)"
   ]
  },
  {
   "cell_type": "code",
   "execution_count": 9,
   "metadata": {},
   "outputs": [
    {
     "name": "stderr",
     "output_type": "stream",
     "text": [
      "  0%|          | 8/1631 [00:00<00:21, 76.66it/s]"
     ]
    },
    {
     "name": "stdout",
     "output_type": "stream",
     "text": [
      "Running query : 1p\n"
     ]
    },
    {
     "name": "stderr",
     "output_type": "stream",
     "text": [
      "100%|██████████| 1631/1631 [03:10<00:00,  8.55it/s]\n",
      "  0%|          | 0/489 [00:00<?, ?it/s]"
     ]
    },
    {
     "name": "stdout",
     "output_type": "stream",
     "text": [
      "Running query : 2p\n"
     ]
    },
    {
     "name": "stderr",
     "output_type": "stream",
     "text": [
      "100%|██████████| 489/489 [04:40<00:00,  1.74it/s]\n",
      "  0%|          | 0/487 [00:00<?, ?it/s]"
     ]
    },
    {
     "name": "stdout",
     "output_type": "stream",
     "text": [
      "Running query : 3p\n"
     ]
    },
    {
     "name": "stderr",
     "output_type": "stream",
     "text": [
      "100%|██████████| 487/487 [07:03<00:00,  1.15it/s]\n",
      "  0%|          | 0/426 [00:00<?, ?it/s]"
     ]
    },
    {
     "name": "stdout",
     "output_type": "stream",
     "text": [
      "Running query : 2i\n"
     ]
    },
    {
     "name": "stderr",
     "output_type": "stream",
     "text": [
      "100%|██████████| 426/426 [00:53<00:00,  7.95it/s]\n",
      "  0%|          | 0/320 [00:00<?, ?it/s]"
     ]
    },
    {
     "name": "stdout",
     "output_type": "stream",
     "text": [
      "Running query : 3i\n"
     ]
    },
    {
     "name": "stderr",
     "output_type": "stream",
     "text": [
      "100%|██████████| 320/320 [00:52<00:00,  6.08it/s]\n",
      "  0%|          | 0/455 [00:00<?, ?it/s]"
     ]
    },
    {
     "name": "stdout",
     "output_type": "stream",
     "text": [
      "Running query : ip\n"
     ]
    },
    {
     "name": "stderr",
     "output_type": "stream",
     "text": [
      "100%|██████████| 455/455 [04:15<00:00,  1.78it/s]\n",
      "  0%|          | 0/429 [00:00<?, ?it/s]"
     ]
    },
    {
     "name": "stdout",
     "output_type": "stream",
     "text": [
      "Running query : pi\n"
     ]
    },
    {
     "name": "stderr",
     "output_type": "stream",
     "text": [
      "100%|██████████| 429/429 [01:50<00:00,  3.88it/s]\n"
     ]
    },
    {
     "data": {
      "text/html": [
       "<div>\n",
       "<style scoped>\n",
       "    .dataframe tbody tr th:only-of-type {\n",
       "        vertical-align: middle;\n",
       "    }\n",
       "\n",
       "    .dataframe tbody tr th {\n",
       "        vertical-align: top;\n",
       "    }\n",
       "\n",
       "    .dataframe thead th {\n",
       "        text-align: right;\n",
       "    }\n",
       "</style>\n",
       "<table border=\"1\" class=\"dataframe\">\n",
       "  <thead>\n",
       "    <tr style=\"text-align: right;\">\n",
       "      <th></th>\n",
       "      <th>1</th>\n",
       "      <th>3</th>\n",
       "      <th>5</th>\n",
       "      <th>10</th>\n",
       "      <th>mrr</th>\n",
       "    </tr>\n",
       "  </thead>\n",
       "  <tbody>\n",
       "    <tr>\n",
       "      <th>1p</th>\n",
       "      <td>1.400165</td>\n",
       "      <td>3.759938</td>\n",
       "      <td>5.508668</td>\n",
       "      <td>8.765593</td>\n",
       "      <td>3.836776</td>\n",
       "    </tr>\n",
       "    <tr>\n",
       "      <th>2p</th>\n",
       "      <td>0.150866</td>\n",
       "      <td>0.319384</td>\n",
       "      <td>0.470250</td>\n",
       "      <td>0.746322</td>\n",
       "      <td>0.431486</td>\n",
       "    </tr>\n",
       "    <tr>\n",
       "      <th>3p</th>\n",
       "      <td>0.062978</td>\n",
       "      <td>0.149572</td>\n",
       "      <td>0.217114</td>\n",
       "      <td>0.356988</td>\n",
       "      <td>0.246314</td>\n",
       "    </tr>\n",
       "    <tr>\n",
       "      <th>2i</th>\n",
       "      <td>0.155744</td>\n",
       "      <td>0.464329</td>\n",
       "      <td>0.675212</td>\n",
       "      <td>1.114389</td>\n",
       "      <td>0.583750</td>\n",
       "    </tr>\n",
       "    <tr>\n",
       "      <th>3i</th>\n",
       "      <td>0.121675</td>\n",
       "      <td>0.407741</td>\n",
       "      <td>0.636852</td>\n",
       "      <td>1.025176</td>\n",
       "      <td>0.644173</td>\n",
       "    </tr>\n",
       "    <tr>\n",
       "      <th>ip</th>\n",
       "      <td>0.015701</td>\n",
       "      <td>0.070207</td>\n",
       "      <td>0.133012</td>\n",
       "      <td>0.340716</td>\n",
       "      <td>0.231943</td>\n",
       "    </tr>\n",
       "    <tr>\n",
       "      <th>pi</th>\n",
       "      <td>0.040637</td>\n",
       "      <td>0.104980</td>\n",
       "      <td>0.152874</td>\n",
       "      <td>0.311554</td>\n",
       "      <td>0.303205</td>\n",
       "    </tr>\n",
       "  </tbody>\n",
       "</table>\n",
       "</div>"
      ],
      "text/plain": [
       "           1         3         5        10       mrr\n",
       "1p  1.400165  3.759938  5.508668  8.765593  3.836776\n",
       "2p  0.150866  0.319384  0.470250  0.746322  0.431486\n",
       "3p  0.062978  0.149572  0.217114  0.356988  0.246314\n",
       "2i  0.155744  0.464329  0.675212  1.114389  0.583750\n",
       "3i  0.121675  0.407741  0.636852  1.025176  0.644173\n",
       "ip  0.015701  0.070207  0.133012  0.340716  0.231943\n",
       "pi  0.040637  0.104980  0.152874  0.311554  0.303205"
      ]
     },
     "execution_count": 9,
     "metadata": {},
     "output_type": "execute_result"
    }
   ],
   "source": [
    "extension_df = test_batch(model, datasets['test-easy'], model_inverses=True, test_query_structures=test_query_structures)\n",
    "extension_df*100"
   ]
  },
  {
   "cell_type": "code",
   "execution_count": null,
   "metadata": {},
   "outputs": [],
   "source": []
  }
 ],
 "metadata": {
  "kernelspec": {
   "display_name": "Python 3",
   "language": "python",
   "name": "python3"
  },
  "language_info": {
   "codemirror_mode": {
    "name": "ipython",
    "version": 3
   },
   "file_extension": ".py",
   "mimetype": "text/x-python",
   "name": "python",
   "nbconvert_exporter": "python",
   "pygments_lexer": "ipython3",
   "version": "3.7.9"
  }
 },
 "nbformat": 4,
 "nbformat_minor": 4
}
